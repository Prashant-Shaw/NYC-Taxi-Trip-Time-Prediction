{
  "nbformat": 4,
  "nbformat_minor": 0,
  "metadata": {
    "kernelspec": {
      "display_name": "Python 3",
      "language": "python",
      "name": "python3"
    },
    "language_info": {
      "codemirror_mode": {
        "name": "ipython",
        "version": 3
      },
      "file_extension": ".py",
      "mimetype": "text/x-python",
      "name": "python",
      "nbconvert_exporter": "python",
      "pygments_lexer": "ipython3",
      "version": "3.6.6"
    },
    "colab": {
      "provenance": [],
      "include_colab_link": true
    }
  },
  "cells": [
    {
      "cell_type": "markdown",
      "metadata": {
        "id": "view-in-github",
        "colab_type": "text"
      },
      "source": [
        "<a href=\"https://colab.research.google.com/github/Prashant-Shaw/NYC-Taxi-Trip-Time-Prediction/blob/main/NYC_Taxi_Trip_Time_Prediction_Capstone_Project.ipynb\" target=\"_parent\"><img src=\"https://colab.research.google.com/assets/colab-badge.svg\" alt=\"Open In Colab\"/></a>"
      ]
    },
    {
      "cell_type": "markdown",
      "metadata": {
        "id": "tOGC-qoyhJeX"
      },
      "source": [
        "# <b><u> Project Title : Taxi trip time Prediction : Predicting total ride duration of taxi trips in New York City</u></b>"
      ]
    },
    {
      "cell_type": "markdown",
      "metadata": {
        "id": "Y06xIdG26kRF"
      },
      "source": [
        "## <b> Problem Description </b>\n",
        "\n",
        "### Your task is to build a model that predicts the total ride duration of taxi trips in New York City. Your primary dataset is one released by the NYC Taxi and Limousine Commission, which includes pickup time, geo-coordinates, number of passengers, and several other variables."
      ]
    },
    {
      "cell_type": "markdown",
      "metadata": {
        "id": "WWeU1f9bwqQq"
      },
      "source": [
        "## <b> Data Description </b>\n",
        "\n",
        "### The dataset is based on the 2016 NYC Yellow Cab trip record data made available in Big Query on Google Cloud Platform. The data was originally published by the NYC Taxi and Limousine Commission (TLC). The data was sampled and cleaned for the purposes of this project. Based on individual trip attributes, you should predict the duration of each trip in the test set.\n",
        "\n",
        "### <b>NYC Taxi Data.csv</b> - the training set (contains 1458644 trip records)\n",
        "\n",
        "\n",
        "### Data fields\n",
        "* #### id - a unique identifier for each trip\n",
        "* #### vendor_id - a code indicating the provider associated with the trip record\n",
        "* #### pickup_datetime - date and time when the meter was engaged\n",
        "* #### dropoff_datetime - date and time when the meter was disengaged\n",
        "* #### passenger_count - the number of passengers in the vehicle (driver entered value)\n",
        "* #### pickup_longitude - the longitude where the meter was engaged\n",
        "* #### pickup_latitude - the latitude where the meter was engaged\n",
        "* #### dropoff_longitude - the longitude where the meter was disengaged\n",
        "* #### dropoff_latitude - the latitude where the meter was disengaged\n",
        "* #### store_and_fwd_flag - This flag indicates whether the trip record was held in vehicle memory before sending to the vendor because the vehicle did not have a connection to the server - Y=store and forward; N=not a store and forward trip\n",
        "* #### trip_duration - duration of the trip in seconds"
      ]
    },
    {
      "cell_type": "markdown",
      "source": [
        "## **Importing Libraries**"
      ],
      "metadata": {
        "id": "UuH3uWkYvudu"
      }
    },
    {
      "cell_type": "code",
      "metadata": {
        "id": "dByMsuzT8Tnw"
      },
      "source": [
        "import numpy as np\n",
        "import pandas as pd\n",
        "from numpy import math\n",
        "\n",
        "from geopy.distance import geodesic\n",
        "from sklearn.preprocessing import MinMaxScaler\n",
        "from sklearn.model_selection import train_test_split\n",
        "from sklearn.linear_model import LinearRegression\n",
        "from sklearn.metrics import r2_score\n",
        "from sklearn.metrics import mean_squared_error\n",
        "import seaborn as sns\n",
        "import matplotlib.pyplot as plt\n",
        "from statsmodels.stats.outliers_influence import variance_inflation_factor\n",
        "import warnings\n",
        "warnings.filterwarnings('ignore')"
      ],
      "execution_count": 197,
      "outputs": []
    },
    {
      "cell_type": "markdown",
      "source": [
        "## **Mounting Drive & Reading Dataset**"
      ],
      "metadata": {
        "id": "dPZbQ-UAv32X"
      }
    },
    {
      "cell_type": "code",
      "source": [
        "from google.colab import drive\n",
        "drive.mount('/content/mydrive')"
      ],
      "metadata": {
        "colab": {
          "base_uri": "https://localhost:8080/"
        },
        "id": "4uzz31Kev1lT",
        "outputId": "84450561-af37-4968-db36-5a413112aedd"
      },
      "execution_count": 115,
      "outputs": [
        {
          "output_type": "stream",
          "name": "stdout",
          "text": [
            "Drive already mounted at /content/mydrive; to attempt to forcibly remount, call drive.mount(\"/content/mydrive\", force_remount=True).\n"
          ]
        }
      ]
    },
    {
      "cell_type": "code",
      "source": [
        "nyc_taxi_path = '/content/mydrive/MyDrive/AlmaBetter/Capstone Project - Supervised ML Regression/NYC Taxi Data.csv'\n",
        "nyc_taxi_df = pd.read_csv(nyc_taxi_path)"
      ],
      "metadata": {
        "id": "dz_bOdw9v5op"
      },
      "execution_count": 116,
      "outputs": []
    },
    {
      "cell_type": "markdown",
      "source": [
        "## **Exploring The Dataset**"
      ],
      "metadata": {
        "id": "h4eYzJM_zDbf"
      }
    },
    {
      "cell_type": "code",
      "source": [
        "nyc_taxi_df.shape"
      ],
      "metadata": {
        "id": "lnYLlSCHwFQ7",
        "colab": {
          "base_uri": "https://localhost:8080/"
        },
        "outputId": "0b495b69-671f-4853-b0aa-c037960b3c51"
      },
      "execution_count": 117,
      "outputs": [
        {
          "output_type": "execute_result",
          "data": {
            "text/plain": [
              "(1458644, 11)"
            ]
          },
          "metadata": {},
          "execution_count": 117
        }
      ]
    },
    {
      "cell_type": "markdown",
      "source": [
        "There are total 1458644 entries and 11 features in the dataset. Lets explore more to know the type of features."
      ],
      "metadata": {
        "id": "V2LcOiA9zOFF"
      }
    },
    {
      "cell_type": "code",
      "source": [
        "#Columns in the dataset\n",
        "nyc_taxi_df.columns"
      ],
      "metadata": {
        "colab": {
          "base_uri": "https://localhost:8080/"
        },
        "id": "tEr44ptSxZFT",
        "outputId": "e1448c4b-aa9f-434b-aa16-ecb5c956bbf3"
      },
      "execution_count": 118,
      "outputs": [
        {
          "output_type": "execute_result",
          "data": {
            "text/plain": [
              "Index(['id', 'vendor_id', 'pickup_datetime', 'dropoff_datetime',\n",
              "       'passenger_count', 'pickup_longitude', 'pickup_latitude',\n",
              "       'dropoff_longitude', 'dropoff_latitude', 'store_and_fwd_flag',\n",
              "       'trip_duration'],\n",
              "      dtype='object')"
            ]
          },
          "metadata": {},
          "execution_count": 118
        }
      ]
    },
    {
      "cell_type": "code",
      "source": [
        "#Let's look at the dataset\n",
        "nyc_taxi_df.head()"
      ],
      "metadata": {
        "colab": {
          "base_uri": "https://localhost:8080/",
          "height": 337
        },
        "id": "jigYSgiTwwuR",
        "outputId": "618620ba-23b9-44bd-e3fe-d5018dd57d05"
      },
      "execution_count": 119,
      "outputs": [
        {
          "output_type": "execute_result",
          "data": {
            "text/plain": [
              "          id  vendor_id      pickup_datetime     dropoff_datetime  \\\n",
              "0  id2875421          2  2016-03-14 17:24:55  2016-03-14 17:32:30   \n",
              "1  id2377394          1  2016-06-12 00:43:35  2016-06-12 00:54:38   \n",
              "2  id3858529          2  2016-01-19 11:35:24  2016-01-19 12:10:48   \n",
              "3  id3504673          2  2016-04-06 19:32:31  2016-04-06 19:39:40   \n",
              "4  id2181028          2  2016-03-26 13:30:55  2016-03-26 13:38:10   \n",
              "\n",
              "   passenger_count  pickup_longitude  pickup_latitude  dropoff_longitude  \\\n",
              "0                1        -73.982155        40.767937         -73.964630   \n",
              "1                1        -73.980415        40.738564         -73.999481   \n",
              "2                1        -73.979027        40.763939         -74.005333   \n",
              "3                1        -74.010040        40.719971         -74.012268   \n",
              "4                1        -73.973053        40.793209         -73.972923   \n",
              "\n",
              "   dropoff_latitude store_and_fwd_flag  trip_duration  \n",
              "0         40.765602                  N            455  \n",
              "1         40.731152                  N            663  \n",
              "2         40.710087                  N           2124  \n",
              "3         40.706718                  N            429  \n",
              "4         40.782520                  N            435  "
            ],
            "text/html": [
              "\n",
              "  <div id=\"df-a5dc0078-eba8-4a3d-9461-1d4e95078b1c\">\n",
              "    <div class=\"colab-df-container\">\n",
              "      <div>\n",
              "<style scoped>\n",
              "    .dataframe tbody tr th:only-of-type {\n",
              "        vertical-align: middle;\n",
              "    }\n",
              "\n",
              "    .dataframe tbody tr th {\n",
              "        vertical-align: top;\n",
              "    }\n",
              "\n",
              "    .dataframe thead th {\n",
              "        text-align: right;\n",
              "    }\n",
              "</style>\n",
              "<table border=\"1\" class=\"dataframe\">\n",
              "  <thead>\n",
              "    <tr style=\"text-align: right;\">\n",
              "      <th></th>\n",
              "      <th>id</th>\n",
              "      <th>vendor_id</th>\n",
              "      <th>pickup_datetime</th>\n",
              "      <th>dropoff_datetime</th>\n",
              "      <th>passenger_count</th>\n",
              "      <th>pickup_longitude</th>\n",
              "      <th>pickup_latitude</th>\n",
              "      <th>dropoff_longitude</th>\n",
              "      <th>dropoff_latitude</th>\n",
              "      <th>store_and_fwd_flag</th>\n",
              "      <th>trip_duration</th>\n",
              "    </tr>\n",
              "  </thead>\n",
              "  <tbody>\n",
              "    <tr>\n",
              "      <th>0</th>\n",
              "      <td>id2875421</td>\n",
              "      <td>2</td>\n",
              "      <td>2016-03-14 17:24:55</td>\n",
              "      <td>2016-03-14 17:32:30</td>\n",
              "      <td>1</td>\n",
              "      <td>-73.982155</td>\n",
              "      <td>40.767937</td>\n",
              "      <td>-73.964630</td>\n",
              "      <td>40.765602</td>\n",
              "      <td>N</td>\n",
              "      <td>455</td>\n",
              "    </tr>\n",
              "    <tr>\n",
              "      <th>1</th>\n",
              "      <td>id2377394</td>\n",
              "      <td>1</td>\n",
              "      <td>2016-06-12 00:43:35</td>\n",
              "      <td>2016-06-12 00:54:38</td>\n",
              "      <td>1</td>\n",
              "      <td>-73.980415</td>\n",
              "      <td>40.738564</td>\n",
              "      <td>-73.999481</td>\n",
              "      <td>40.731152</td>\n",
              "      <td>N</td>\n",
              "      <td>663</td>\n",
              "    </tr>\n",
              "    <tr>\n",
              "      <th>2</th>\n",
              "      <td>id3858529</td>\n",
              "      <td>2</td>\n",
              "      <td>2016-01-19 11:35:24</td>\n",
              "      <td>2016-01-19 12:10:48</td>\n",
              "      <td>1</td>\n",
              "      <td>-73.979027</td>\n",
              "      <td>40.763939</td>\n",
              "      <td>-74.005333</td>\n",
              "      <td>40.710087</td>\n",
              "      <td>N</td>\n",
              "      <td>2124</td>\n",
              "    </tr>\n",
              "    <tr>\n",
              "      <th>3</th>\n",
              "      <td>id3504673</td>\n",
              "      <td>2</td>\n",
              "      <td>2016-04-06 19:32:31</td>\n",
              "      <td>2016-04-06 19:39:40</td>\n",
              "      <td>1</td>\n",
              "      <td>-74.010040</td>\n",
              "      <td>40.719971</td>\n",
              "      <td>-74.012268</td>\n",
              "      <td>40.706718</td>\n",
              "      <td>N</td>\n",
              "      <td>429</td>\n",
              "    </tr>\n",
              "    <tr>\n",
              "      <th>4</th>\n",
              "      <td>id2181028</td>\n",
              "      <td>2</td>\n",
              "      <td>2016-03-26 13:30:55</td>\n",
              "      <td>2016-03-26 13:38:10</td>\n",
              "      <td>1</td>\n",
              "      <td>-73.973053</td>\n",
              "      <td>40.793209</td>\n",
              "      <td>-73.972923</td>\n",
              "      <td>40.782520</td>\n",
              "      <td>N</td>\n",
              "      <td>435</td>\n",
              "    </tr>\n",
              "  </tbody>\n",
              "</table>\n",
              "</div>\n",
              "      <button class=\"colab-df-convert\" onclick=\"convertToInteractive('df-a5dc0078-eba8-4a3d-9461-1d4e95078b1c')\"\n",
              "              title=\"Convert this dataframe to an interactive table.\"\n",
              "              style=\"display:none;\">\n",
              "        \n",
              "  <svg xmlns=\"http://www.w3.org/2000/svg\" height=\"24px\"viewBox=\"0 0 24 24\"\n",
              "       width=\"24px\">\n",
              "    <path d=\"M0 0h24v24H0V0z\" fill=\"none\"/>\n",
              "    <path d=\"M18.56 5.44l.94 2.06.94-2.06 2.06-.94-2.06-.94-.94-2.06-.94 2.06-2.06.94zm-11 1L8.5 8.5l.94-2.06 2.06-.94-2.06-.94L8.5 2.5l-.94 2.06-2.06.94zm10 10l.94 2.06.94-2.06 2.06-.94-2.06-.94-.94-2.06-.94 2.06-2.06.94z\"/><path d=\"M17.41 7.96l-1.37-1.37c-.4-.4-.92-.59-1.43-.59-.52 0-1.04.2-1.43.59L10.3 9.45l-7.72 7.72c-.78.78-.78 2.05 0 2.83L4 21.41c.39.39.9.59 1.41.59.51 0 1.02-.2 1.41-.59l7.78-7.78 2.81-2.81c.8-.78.8-2.07 0-2.86zM5.41 20L4 18.59l7.72-7.72 1.47 1.35L5.41 20z\"/>\n",
              "  </svg>\n",
              "      </button>\n",
              "      \n",
              "  <style>\n",
              "    .colab-df-container {\n",
              "      display:flex;\n",
              "      flex-wrap:wrap;\n",
              "      gap: 12px;\n",
              "    }\n",
              "\n",
              "    .colab-df-convert {\n",
              "      background-color: #E8F0FE;\n",
              "      border: none;\n",
              "      border-radius: 50%;\n",
              "      cursor: pointer;\n",
              "      display: none;\n",
              "      fill: #1967D2;\n",
              "      height: 32px;\n",
              "      padding: 0 0 0 0;\n",
              "      width: 32px;\n",
              "    }\n",
              "\n",
              "    .colab-df-convert:hover {\n",
              "      background-color: #E2EBFA;\n",
              "      box-shadow: 0px 1px 2px rgba(60, 64, 67, 0.3), 0px 1px 3px 1px rgba(60, 64, 67, 0.15);\n",
              "      fill: #174EA6;\n",
              "    }\n",
              "\n",
              "    [theme=dark] .colab-df-convert {\n",
              "      background-color: #3B4455;\n",
              "      fill: #D2E3FC;\n",
              "    }\n",
              "\n",
              "    [theme=dark] .colab-df-convert:hover {\n",
              "      background-color: #434B5C;\n",
              "      box-shadow: 0px 1px 3px 1px rgba(0, 0, 0, 0.15);\n",
              "      filter: drop-shadow(0px 1px 2px rgba(0, 0, 0, 0.3));\n",
              "      fill: #FFFFFF;\n",
              "    }\n",
              "  </style>\n",
              "\n",
              "      <script>\n",
              "        const buttonEl =\n",
              "          document.querySelector('#df-a5dc0078-eba8-4a3d-9461-1d4e95078b1c button.colab-df-convert');\n",
              "        buttonEl.style.display =\n",
              "          google.colab.kernel.accessAllowed ? 'block' : 'none';\n",
              "\n",
              "        async function convertToInteractive(key) {\n",
              "          const element = document.querySelector('#df-a5dc0078-eba8-4a3d-9461-1d4e95078b1c');\n",
              "          const dataTable =\n",
              "            await google.colab.kernel.invokeFunction('convertToInteractive',\n",
              "                                                     [key], {});\n",
              "          if (!dataTable) return;\n",
              "\n",
              "          const docLinkHtml = 'Like what you see? Visit the ' +\n",
              "            '<a target=\"_blank\" href=https://colab.research.google.com/notebooks/data_table.ipynb>data table notebook</a>'\n",
              "            + ' to learn more about interactive tables.';\n",
              "          element.innerHTML = '';\n",
              "          dataTable['output_type'] = 'display_data';\n",
              "          await google.colab.output.renderOutput(dataTable, element);\n",
              "          const docLink = document.createElement('div');\n",
              "          docLink.innerHTML = docLinkHtml;\n",
              "          element.appendChild(docLink);\n",
              "        }\n",
              "      </script>\n",
              "    </div>\n",
              "  </div>\n",
              "  "
            ]
          },
          "metadata": {},
          "execution_count": 119
        }
      ]
    },
    {
      "cell_type": "code",
      "source": [
        "#Checking the datatype of each features.\n",
        "nyc_taxi_df.dtypes"
      ],
      "metadata": {
        "colab": {
          "base_uri": "https://localhost:8080/"
        },
        "id": "5PocpSrkwy1c",
        "outputId": "cadc60a4-1303-4fca-c9c0-ecc5418630c9"
      },
      "execution_count": 120,
      "outputs": [
        {
          "output_type": "execute_result",
          "data": {
            "text/plain": [
              "id                     object\n",
              "vendor_id               int64\n",
              "pickup_datetime        object\n",
              "dropoff_datetime       object\n",
              "passenger_count         int64\n",
              "pickup_longitude      float64\n",
              "pickup_latitude       float64\n",
              "dropoff_longitude     float64\n",
              "dropoff_latitude      float64\n",
              "store_and_fwd_flag     object\n",
              "trip_duration           int64\n",
              "dtype: object"
            ]
          },
          "metadata": {},
          "execution_count": 120
        }
      ]
    },
    {
      "cell_type": "markdown",
      "source": [
        "* id, pickup_datetime, dropoff_datetime, store_and_fwd_flag are of object dtype.\n",
        "* vendor_id, passenger_count and trip_duration are of int dtype.\n",
        "* pickup_longitude, pickup_lattitude, dropoff_longitude and dropoff_lattitude are of float dtype."
      ],
      "metadata": {
        "id": "YNaE3f_Pz3VB"
      }
    },
    {
      "cell_type": "markdown",
      "source": [
        "###Independent Variables - \n",
        "id, \n",
        "vendor_id, \n",
        "pickup_datetime, \n",
        "dropoff_datetime, \n",
        "passenger_count, \n",
        "pickup_longitude, \n",
        "pickup_latitude, \n",
        "dropoff_longitude, \n",
        "dropoff_latitude, \n",
        "store_and_fwd_flag\n",
        "\n",
        "###Dependent / Target Variable -\n",
        "trip_duration "
      ],
      "metadata": {
        "id": "8cg-a_qZ02CA"
      }
    },
    {
      "cell_type": "code",
      "source": [
        "#Checking for null values in the dataset\n",
        "nyc_taxi_df.isnull().sum()"
      ],
      "metadata": {
        "colab": {
          "base_uri": "https://localhost:8080/"
        },
        "id": "PgFbefKGxkmT",
        "outputId": "769845dd-8743-432b-fa10-f5ac40713bd2"
      },
      "execution_count": 121,
      "outputs": [
        {
          "output_type": "execute_result",
          "data": {
            "text/plain": [
              "id                    0\n",
              "vendor_id             0\n",
              "pickup_datetime       0\n",
              "dropoff_datetime      0\n",
              "passenger_count       0\n",
              "pickup_longitude      0\n",
              "pickup_latitude       0\n",
              "dropoff_longitude     0\n",
              "dropoff_latitude      0\n",
              "store_and_fwd_flag    0\n",
              "trip_duration         0\n",
              "dtype: int64"
            ]
          },
          "metadata": {},
          "execution_count": 121
        }
      ]
    },
    {
      "cell_type": "markdown",
      "source": [
        "There are no null values in the dataset which is good."
      ],
      "metadata": {
        "id": "8Nw521rz2X84"
      }
    },
    {
      "cell_type": "code",
      "source": [
        "#Checking the info of the dataset\n",
        "nyc_taxi_df.info()"
      ],
      "metadata": {
        "colab": {
          "base_uri": "https://localhost:8080/"
        },
        "id": "h-I6nRqhy6-O",
        "outputId": "ee088cce-c972-4b55-b477-37797e65fc43"
      },
      "execution_count": 122,
      "outputs": [
        {
          "output_type": "stream",
          "name": "stdout",
          "text": [
            "<class 'pandas.core.frame.DataFrame'>\n",
            "RangeIndex: 1458644 entries, 0 to 1458643\n",
            "Data columns (total 11 columns):\n",
            " #   Column              Non-Null Count    Dtype  \n",
            "---  ------              --------------    -----  \n",
            " 0   id                  1458644 non-null  object \n",
            " 1   vendor_id           1458644 non-null  int64  \n",
            " 2   pickup_datetime     1458644 non-null  object \n",
            " 3   dropoff_datetime    1458644 non-null  object \n",
            " 4   passenger_count     1458644 non-null  int64  \n",
            " 5   pickup_longitude    1458644 non-null  float64\n",
            " 6   pickup_latitude     1458644 non-null  float64\n",
            " 7   dropoff_longitude   1458644 non-null  float64\n",
            " 8   dropoff_latitude    1458644 non-null  float64\n",
            " 9   store_and_fwd_flag  1458644 non-null  object \n",
            " 10  trip_duration       1458644 non-null  int64  \n",
            "dtypes: float64(4), int64(3), object(4)\n",
            "memory usage: 122.4+ MB\n"
          ]
        }
      ]
    },
    {
      "cell_type": "code",
      "source": [
        "#Checking the unique values in the dataset\n",
        "nyc_taxi_df.nunique()"
      ],
      "metadata": {
        "colab": {
          "base_uri": "https://localhost:8080/"
        },
        "id": "qvjMzvhr3NGX",
        "outputId": "a05a775c-6e7d-461b-828a-6b22793c7128"
      },
      "execution_count": 123,
      "outputs": [
        {
          "output_type": "execute_result",
          "data": {
            "text/plain": [
              "id                    1458644\n",
              "vendor_id                   2\n",
              "pickup_datetime       1380222\n",
              "dropoff_datetime      1380377\n",
              "passenger_count            10\n",
              "pickup_longitude        23047\n",
              "pickup_latitude         45245\n",
              "dropoff_longitude       33821\n",
              "dropoff_latitude        62519\n",
              "store_and_fwd_flag          2\n",
              "trip_duration            7417\n",
              "dtype: int64"
            ]
          },
          "metadata": {},
          "execution_count": 123
        }
      ]
    },
    {
      "cell_type": "markdown",
      "source": [
        "There are 1458644 unique entries in column 'id' which is same as number of rows in the dataset. So, there is no duplicate entries in the dataset.  "
      ],
      "metadata": {
        "id": "FH9gCTvR8Q6C"
      }
    },
    {
      "cell_type": "code",
      "source": [
        "#Describing the dataset\n",
        "nyc_taxi_df.describe()"
      ],
      "metadata": {
        "colab": {
          "base_uri": "https://localhost:8080/",
          "height": 300
        },
        "id": "FKDNjjwB7uhm",
        "outputId": "0b161c7d-676a-4d46-9221-3a40a393f3f5"
      },
      "execution_count": 124,
      "outputs": [
        {
          "output_type": "execute_result",
          "data": {
            "text/plain": [
              "          vendor_id  passenger_count  pickup_longitude  pickup_latitude  \\\n",
              "count  1.458644e+06     1.458644e+06      1.458644e+06     1.458644e+06   \n",
              "mean   1.534950e+00     1.664530e+00     -7.397349e+01     4.075092e+01   \n",
              "std    4.987772e-01     1.314242e+00      7.090186e-02     3.288119e-02   \n",
              "min    1.000000e+00     0.000000e+00     -1.219333e+02     3.435970e+01   \n",
              "25%    1.000000e+00     1.000000e+00     -7.399187e+01     4.073735e+01   \n",
              "50%    2.000000e+00     1.000000e+00     -7.398174e+01     4.075410e+01   \n",
              "75%    2.000000e+00     2.000000e+00     -7.396733e+01     4.076836e+01   \n",
              "max    2.000000e+00     9.000000e+00     -6.133553e+01     5.188108e+01   \n",
              "\n",
              "       dropoff_longitude  dropoff_latitude  trip_duration  \n",
              "count       1.458644e+06      1.458644e+06   1.458644e+06  \n",
              "mean       -7.397342e+01      4.075180e+01   9.594923e+02  \n",
              "std         7.064327e-02      3.589056e-02   5.237432e+03  \n",
              "min        -1.219333e+02      3.218114e+01   1.000000e+00  \n",
              "25%        -7.399133e+01      4.073588e+01   3.970000e+02  \n",
              "50%        -7.397975e+01      4.075452e+01   6.620000e+02  \n",
              "75%        -7.396301e+01      4.076981e+01   1.075000e+03  \n",
              "max        -6.133553e+01      4.392103e+01   3.526282e+06  "
            ],
            "text/html": [
              "\n",
              "  <div id=\"df-4fe73faa-70fa-44dd-b75b-1b185bf94595\">\n",
              "    <div class=\"colab-df-container\">\n",
              "      <div>\n",
              "<style scoped>\n",
              "    .dataframe tbody tr th:only-of-type {\n",
              "        vertical-align: middle;\n",
              "    }\n",
              "\n",
              "    .dataframe tbody tr th {\n",
              "        vertical-align: top;\n",
              "    }\n",
              "\n",
              "    .dataframe thead th {\n",
              "        text-align: right;\n",
              "    }\n",
              "</style>\n",
              "<table border=\"1\" class=\"dataframe\">\n",
              "  <thead>\n",
              "    <tr style=\"text-align: right;\">\n",
              "      <th></th>\n",
              "      <th>vendor_id</th>\n",
              "      <th>passenger_count</th>\n",
              "      <th>pickup_longitude</th>\n",
              "      <th>pickup_latitude</th>\n",
              "      <th>dropoff_longitude</th>\n",
              "      <th>dropoff_latitude</th>\n",
              "      <th>trip_duration</th>\n",
              "    </tr>\n",
              "  </thead>\n",
              "  <tbody>\n",
              "    <tr>\n",
              "      <th>count</th>\n",
              "      <td>1.458644e+06</td>\n",
              "      <td>1.458644e+06</td>\n",
              "      <td>1.458644e+06</td>\n",
              "      <td>1.458644e+06</td>\n",
              "      <td>1.458644e+06</td>\n",
              "      <td>1.458644e+06</td>\n",
              "      <td>1.458644e+06</td>\n",
              "    </tr>\n",
              "    <tr>\n",
              "      <th>mean</th>\n",
              "      <td>1.534950e+00</td>\n",
              "      <td>1.664530e+00</td>\n",
              "      <td>-7.397349e+01</td>\n",
              "      <td>4.075092e+01</td>\n",
              "      <td>-7.397342e+01</td>\n",
              "      <td>4.075180e+01</td>\n",
              "      <td>9.594923e+02</td>\n",
              "    </tr>\n",
              "    <tr>\n",
              "      <th>std</th>\n",
              "      <td>4.987772e-01</td>\n",
              "      <td>1.314242e+00</td>\n",
              "      <td>7.090186e-02</td>\n",
              "      <td>3.288119e-02</td>\n",
              "      <td>7.064327e-02</td>\n",
              "      <td>3.589056e-02</td>\n",
              "      <td>5.237432e+03</td>\n",
              "    </tr>\n",
              "    <tr>\n",
              "      <th>min</th>\n",
              "      <td>1.000000e+00</td>\n",
              "      <td>0.000000e+00</td>\n",
              "      <td>-1.219333e+02</td>\n",
              "      <td>3.435970e+01</td>\n",
              "      <td>-1.219333e+02</td>\n",
              "      <td>3.218114e+01</td>\n",
              "      <td>1.000000e+00</td>\n",
              "    </tr>\n",
              "    <tr>\n",
              "      <th>25%</th>\n",
              "      <td>1.000000e+00</td>\n",
              "      <td>1.000000e+00</td>\n",
              "      <td>-7.399187e+01</td>\n",
              "      <td>4.073735e+01</td>\n",
              "      <td>-7.399133e+01</td>\n",
              "      <td>4.073588e+01</td>\n",
              "      <td>3.970000e+02</td>\n",
              "    </tr>\n",
              "    <tr>\n",
              "      <th>50%</th>\n",
              "      <td>2.000000e+00</td>\n",
              "      <td>1.000000e+00</td>\n",
              "      <td>-7.398174e+01</td>\n",
              "      <td>4.075410e+01</td>\n",
              "      <td>-7.397975e+01</td>\n",
              "      <td>4.075452e+01</td>\n",
              "      <td>6.620000e+02</td>\n",
              "    </tr>\n",
              "    <tr>\n",
              "      <th>75%</th>\n",
              "      <td>2.000000e+00</td>\n",
              "      <td>2.000000e+00</td>\n",
              "      <td>-7.396733e+01</td>\n",
              "      <td>4.076836e+01</td>\n",
              "      <td>-7.396301e+01</td>\n",
              "      <td>4.076981e+01</td>\n",
              "      <td>1.075000e+03</td>\n",
              "    </tr>\n",
              "    <tr>\n",
              "      <th>max</th>\n",
              "      <td>2.000000e+00</td>\n",
              "      <td>9.000000e+00</td>\n",
              "      <td>-6.133553e+01</td>\n",
              "      <td>5.188108e+01</td>\n",
              "      <td>-6.133553e+01</td>\n",
              "      <td>4.392103e+01</td>\n",
              "      <td>3.526282e+06</td>\n",
              "    </tr>\n",
              "  </tbody>\n",
              "</table>\n",
              "</div>\n",
              "      <button class=\"colab-df-convert\" onclick=\"convertToInteractive('df-4fe73faa-70fa-44dd-b75b-1b185bf94595')\"\n",
              "              title=\"Convert this dataframe to an interactive table.\"\n",
              "              style=\"display:none;\">\n",
              "        \n",
              "  <svg xmlns=\"http://www.w3.org/2000/svg\" height=\"24px\"viewBox=\"0 0 24 24\"\n",
              "       width=\"24px\">\n",
              "    <path d=\"M0 0h24v24H0V0z\" fill=\"none\"/>\n",
              "    <path d=\"M18.56 5.44l.94 2.06.94-2.06 2.06-.94-2.06-.94-.94-2.06-.94 2.06-2.06.94zm-11 1L8.5 8.5l.94-2.06 2.06-.94-2.06-.94L8.5 2.5l-.94 2.06-2.06.94zm10 10l.94 2.06.94-2.06 2.06-.94-2.06-.94-.94-2.06-.94 2.06-2.06.94z\"/><path d=\"M17.41 7.96l-1.37-1.37c-.4-.4-.92-.59-1.43-.59-.52 0-1.04.2-1.43.59L10.3 9.45l-7.72 7.72c-.78.78-.78 2.05 0 2.83L4 21.41c.39.39.9.59 1.41.59.51 0 1.02-.2 1.41-.59l7.78-7.78 2.81-2.81c.8-.78.8-2.07 0-2.86zM5.41 20L4 18.59l7.72-7.72 1.47 1.35L5.41 20z\"/>\n",
              "  </svg>\n",
              "      </button>\n",
              "      \n",
              "  <style>\n",
              "    .colab-df-container {\n",
              "      display:flex;\n",
              "      flex-wrap:wrap;\n",
              "      gap: 12px;\n",
              "    }\n",
              "\n",
              "    .colab-df-convert {\n",
              "      background-color: #E8F0FE;\n",
              "      border: none;\n",
              "      border-radius: 50%;\n",
              "      cursor: pointer;\n",
              "      display: none;\n",
              "      fill: #1967D2;\n",
              "      height: 32px;\n",
              "      padding: 0 0 0 0;\n",
              "      width: 32px;\n",
              "    }\n",
              "\n",
              "    .colab-df-convert:hover {\n",
              "      background-color: #E2EBFA;\n",
              "      box-shadow: 0px 1px 2px rgba(60, 64, 67, 0.3), 0px 1px 3px 1px rgba(60, 64, 67, 0.15);\n",
              "      fill: #174EA6;\n",
              "    }\n",
              "\n",
              "    [theme=dark] .colab-df-convert {\n",
              "      background-color: #3B4455;\n",
              "      fill: #D2E3FC;\n",
              "    }\n",
              "\n",
              "    [theme=dark] .colab-df-convert:hover {\n",
              "      background-color: #434B5C;\n",
              "      box-shadow: 0px 1px 3px 1px rgba(0, 0, 0, 0.15);\n",
              "      filter: drop-shadow(0px 1px 2px rgba(0, 0, 0, 0.3));\n",
              "      fill: #FFFFFF;\n",
              "    }\n",
              "  </style>\n",
              "\n",
              "      <script>\n",
              "        const buttonEl =\n",
              "          document.querySelector('#df-4fe73faa-70fa-44dd-b75b-1b185bf94595 button.colab-df-convert');\n",
              "        buttonEl.style.display =\n",
              "          google.colab.kernel.accessAllowed ? 'block' : 'none';\n",
              "\n",
              "        async function convertToInteractive(key) {\n",
              "          const element = document.querySelector('#df-4fe73faa-70fa-44dd-b75b-1b185bf94595');\n",
              "          const dataTable =\n",
              "            await google.colab.kernel.invokeFunction('convertToInteractive',\n",
              "                                                     [key], {});\n",
              "          if (!dataTable) return;\n",
              "\n",
              "          const docLinkHtml = 'Like what you see? Visit the ' +\n",
              "            '<a target=\"_blank\" href=https://colab.research.google.com/notebooks/data_table.ipynb>data table notebook</a>'\n",
              "            + ' to learn more about interactive tables.';\n",
              "          element.innerHTML = '';\n",
              "          dataTable['output_type'] = 'display_data';\n",
              "          await google.colab.output.renderOutput(dataTable, element);\n",
              "          const docLink = document.createElement('div');\n",
              "          docLink.innerHTML = docLinkHtml;\n",
              "          element.appendChild(docLink);\n",
              "        }\n",
              "      </script>\n",
              "    </div>\n",
              "  </div>\n",
              "  "
            ]
          },
          "metadata": {},
          "execution_count": 124
        }
      ]
    },
    {
      "cell_type": "markdown",
      "source": [
        "From the above description we infer that - \n",
        "\n",
        "The min passenger_count in the dataset is 0 which is not possible so this might be the error in recording the data or the driver might have entered wrongly the number of passengers to increase the trip counts so, we will drop the readings where passenger count is 0. "
      ],
      "metadata": {
        "id": "za1ybcsF9MxV"
      }
    },
    {
      "cell_type": "markdown",
      "source": [
        "## **Preprocessing & Visualizing The Data**"
      ],
      "metadata": {
        "id": "OR4WYeHULoFe"
      }
    },
    {
      "cell_type": "markdown",
      "source": [
        "## **Univariate Analysis**"
      ],
      "metadata": {
        "id": "LNDeNHj47TwT"
      }
    },
    {
      "cell_type": "markdown",
      "source": [
        "### **Exploring passenger_count column**"
      ],
      "metadata": {
        "id": "poR23CrsD4Dk"
      }
    },
    {
      "cell_type": "code",
      "source": [
        "#Dropping the rows where passenger_count is 0.\n",
        "nyc_taxi_df=nyc_taxi_df[nyc_taxi_df['passenger_count']!=0]"
      ],
      "metadata": {
        "id": "ZInz3Vi_IY1P"
      },
      "execution_count": 125,
      "outputs": []
    },
    {
      "cell_type": "markdown",
      "source": [
        "In the passenger_count the maximum entry is 9 which also doesn't seems correct. So, lets explore the passenger_count column."
      ],
      "metadata": {
        "id": "eB9wppdQJBvR"
      }
    },
    {
      "cell_type": "code",
      "source": [
        "#Extracting the count of passengers for each trip.\n",
        "nyc_taxi_df['passenger_count'].value_counts()"
      ],
      "metadata": {
        "colab": {
          "base_uri": "https://localhost:8080/"
        },
        "id": "SzbiebhwJAOW",
        "outputId": "9a6f492c-b13d-4f1a-9ba0-422936e6f4ee"
      },
      "execution_count": 126,
      "outputs": [
        {
          "output_type": "execute_result",
          "data": {
            "text/plain": [
              "1    1033540\n",
              "2     210318\n",
              "5      78088\n",
              "3      59896\n",
              "6      48333\n",
              "4      28404\n",
              "7          3\n",
              "9          1\n",
              "8          1\n",
              "Name: passenger_count, dtype: int64"
            ]
          },
          "metadata": {},
          "execution_count": 126
        }
      ]
    },
    {
      "cell_type": "code",
      "source": [
        "#Plotting boxplot for passenger_count to check the outliers.\n",
        "sns.boxplot(nyc_taxi_df['passenger_count'])"
      ],
      "metadata": {
        "colab": {
          "base_uri": "https://localhost:8080/",
          "height": 297
        },
        "id": "0n98rLmX6klV",
        "outputId": "cec0438c-9726-46e0-be88-fc140f3c19f1"
      },
      "execution_count": 127,
      "outputs": [
        {
          "output_type": "execute_result",
          "data": {
            "text/plain": [
              "<matplotlib.axes._subplots.AxesSubplot at 0x7fb0190168d0>"
            ]
          },
          "metadata": {},
          "execution_count": 127
        },
        {
          "output_type": "display_data",
          "data": {
            "text/plain": [
              "<Figure size 432x288 with 1 Axes>"
            ],
            "image/png": "[encoded data removed]"
          },
          "metadata": {
            "needs_background": "light"
          }
        }
      ]
    },
    {
      "cell_type": "markdown",
      "source": [
        "In the column passenger_count for number of passengers 7, 8 & 9 there are only 3, 1 & 1 entries respectively which is very less compared to passenger_count for other trips. Also, in traditional taxi maximum of 6 passengers (if it is a SUV) are allowed So, lets drop these outliers."
      ],
      "metadata": {
        "id": "kELTi3GSJqV-"
      }
    },
    {
      "cell_type": "code",
      "source": [
        "#Dropping the rows where passenger_count is 7, 8 & 9.\n",
        "nyc_taxi_df=nyc_taxi_df[nyc_taxi_df['passenger_count']<7]\n",
        "nyc_taxi_df.reset_index(inplace = True, drop = True)"
      ],
      "metadata": {
        "id": "SrYdMccOJ__B"
      },
      "execution_count": 128,
      "outputs": []
    },
    {
      "cell_type": "code",
      "source": [
        "#Checking the passenger_count feature after removing the outliers.\n",
        "nyc_taxi_df['passenger_count'].value_counts()"
      ],
      "metadata": {
        "colab": {
          "base_uri": "https://localhost:8080/"
        },
        "id": "khaRRFzXKedL",
        "outputId": "5b613090-3eb7-4d6b-9cdb-3c5b6545feff"
      },
      "execution_count": 129,
      "outputs": [
        {
          "output_type": "execute_result",
          "data": {
            "text/plain": [
              "1    1033540\n",
              "2     210318\n",
              "5      78088\n",
              "3      59896\n",
              "6      48333\n",
              "4      28404\n",
              "Name: passenger_count, dtype: int64"
            ]
          },
          "metadata": {},
          "execution_count": 129
        }
      ]
    },
    {
      "cell_type": "code",
      "source": [
        "#Plotting boxplot again for passenger_count after removing the outliers.\n",
        "sns.boxplot(nyc_taxi_df['passenger_count'])"
      ],
      "metadata": {
        "colab": {
          "base_uri": "https://localhost:8080/",
          "height": 297
        },
        "id": "Dx5H81Lk7DXn",
        "outputId": "d8505155-b052-466c-f136-e61f7108af6d"
      },
      "execution_count": 130,
      "outputs": [
        {
          "output_type": "execute_result",
          "data": {
            "text/plain": [
              "<matplotlib.axes._subplots.AxesSubplot at 0x7fb018d392d0>"
            ]
          },
          "metadata": {},
          "execution_count": 130
        },
        {
          "output_type": "display_data",
          "data": {
            "text/plain": [
              "<Figure size 432x288 with 1 Axes>"
            ],
            "image/png": "[encoded data removed]"
          },
          "metadata": {
            "needs_background": "light"
          }
        }
      ]
    },
    {
      "cell_type": "code",
      "source": [
        "#Plotting Number of Trips vs passenger_count.\n",
        "plt.figure(figsize=(10,7))\n",
        "plt.title(\"Number of Trips vs passenger_count\")\n",
        "sns.countplot(x = 'passenger_count', data = nyc_taxi_df)\n",
        "plt.xlabel(\"passenger_count\")\n",
        "plt.ylabel(\"Number of Trips\")\n",
        "plt.show()"
      ],
      "metadata": {
        "colab": {
          "base_uri": "https://localhost:8080/",
          "height": 459
        },
        "id": "P-GmmfKF7zje",
        "outputId": "b9bc5ae9-8c1a-4822-a019-a01234a0ba16"
      },
      "execution_count": 131,
      "outputs": [
        {
          "output_type": "display_data",
          "data": {
            "text/plain": [
              "<Figure size 720x504 with 1 Axes>"
            ],
            "image/png": "[encoded data removed]"
          },
          "metadata": {
            "needs_background": "light"
          }
        }
      ]
    },
    {
      "cell_type": "markdown",
      "source": [
        "From the above graph we infer that most of the people prefer to go solo. And, the median of the data is at 2 passenger_count and mean is little bit right of median so this feature is right skewed."
      ],
      "metadata": {
        "id": "-zkLbj6L_h4W"
      }
    },
    {
      "cell_type": "markdown",
      "source": [
        "### **Exploring VendorID column**"
      ],
      "metadata": {
        "id": "scAO0hgDED8q"
      }
    },
    {
      "cell_type": "code",
      "source": [
        "#Plotting countplot for vendor_id.\n",
        "plt.figure(figsize=(10,7))\n",
        "plt.title(\"Number of Trips per vendor\")\n",
        "sns.countplot(x = 'vendor_id', data = nyc_taxi_df)\n",
        "plt.xlabel(\"Vendor ID\")\n",
        "plt.ylabel(\"Number of Trips\")\n",
        "plt.show()"
      ],
      "metadata": {
        "colab": {
          "base_uri": "https://localhost:8080/",
          "height": 458
        },
        "id": "dPZn2ZYht7ZE",
        "outputId": "c45b2f62-4fba-4a63-89bb-8f20f573dac3"
      },
      "execution_count": 132,
      "outputs": [
        {
          "output_type": "display_data",
          "data": {
            "text/plain": [
              "<Figure size 720x504 with 1 Axes>"
            ],
            "image/png": "[encoded data removed]"
          },
          "metadata": {
            "needs_background": "light"
          }
        }
      ]
    },
    {
      "cell_type": "markdown",
      "source": [
        "Trips taken by the vendor 2 is more than vendor 1."
      ],
      "metadata": {
        "id": "DgCj8OTYMtGM"
      }
    },
    {
      "cell_type": "markdown",
      "source": [
        "### **Exploring the pickup and dropoff datetime columns and extracting more features out of it for the dataset.**"
      ],
      "metadata": {
        "id": "K_JLFv1XXlbS"
      }
    },
    {
      "cell_type": "code",
      "source": [
        "#Changing the dtype of pickup_datetime & dropoff_datetime from object type to datetime.\n",
        "nyc_taxi_df['pickup_datetime'] = pd.to_datetime(nyc_taxi_df['pickup_datetime'])\n",
        "nyc_taxi_df['dropoff_datetime'] = pd.to_datetime(nyc_taxi_df['dropoff_datetime'])"
      ],
      "metadata": {
        "id": "4ot28hRN81Bs"
      },
      "execution_count": 133,
      "outputs": []
    },
    {
      "cell_type": "markdown",
      "source": [
        "Let's develop some more features from the datetime column. As we already have a seperate trip_duration column so the datetime column we can use to extract some more useful insights to the dataset."
      ],
      "metadata": {
        "id": "Dr1V4qShdxf9"
      }
    },
    {
      "cell_type": "code",
      "source": [
        "#Making two new features pickup_day and dropoff_day from datetime to get more insights to the trips day wise\n",
        "nyc_taxi_df['pickup_day'] = nyc_taxi_df['pickup_datetime'].dt.day_name()\n",
        "nyc_taxi_df['dropoff_day'] = nyc_taxi_df['dropoff_datetime'].dt.day_name()"
      ],
      "metadata": {
        "id": "JAgnOvwrcF_L"
      },
      "execution_count": 134,
      "outputs": []
    },
    {
      "cell_type": "code",
      "source": [
        "#Plotting countplots for pickup_day and dropoff_day.\n",
        "figure,(fig1,fig2) = plt.subplots(ncols = 2,figsize=(20,7))\n",
        "fig1.set_title(\"Number of Trips vs Pickup Day\")\n",
        "ax = sns.countplot(x = 'pickup_day', data = nyc_taxi_df, ax = fig1)\n",
        "ax = plt.xlabel(\"pickup_day\")\n",
        "ax = plt.ylabel(\"Number of Trips\")\n",
        "fig2.set_title(\"Number of Trips vs Dropoff Day\")\n",
        "ax = sns.countplot(x = 'dropoff_day', data = nyc_taxi_df, ax = fig2)\n",
        "ax = plt.xlabel(\"dropoff_day\")\n",
        "ax = plt.ylabel(\"Number of Trips\")\n",
        "plt.show()"
      ],
      "metadata": {
        "colab": {
          "base_uri": "https://localhost:8080/",
          "height": 459
        },
        "id": "7f74gQt1aBtu",
        "outputId": "11d1bc83-9cf3-47f4-b739-d32c160086ec"
      },
      "execution_count": 135,
      "outputs": [
        {
          "output_type": "display_data",
          "data": {
            "text/plain": [
              "<Figure size 1440x504 with 2 Axes>"
            ],
            "image/png": "[encoded data removed]"
          },
          "metadata": {
            "needs_background": "light"
          }
        }
      ]
    },
    {
      "cell_type": "markdown",
      "source": [
        "From the above graph we can infer that most of the trips are done on Friday and Saturday. So, on weekends people prefer to go on trips."
      ],
      "metadata": {
        "id": "nV-Dl-Dmdftv"
      }
    },
    {
      "cell_type": "code",
      "source": [
        "#Extracting Hr from datetime to visualize at which time of the day most of the trips are done.\n",
        "nyc_taxi_df['pickup_hr'] = nyc_taxi_df['pickup_datetime'].dt.hour\n",
        "nyc_taxi_df['dropoff_hr'] = nyc_taxi_df['dropoff_datetime'].dt.hour"
      ],
      "metadata": {
        "id": "Bt_W0fagj_2g"
      },
      "execution_count": 136,
      "outputs": []
    },
    {
      "cell_type": "code",
      "source": [
        "#Plotting countplots for pickup_hr and dropoff_hr.\n",
        "figure,(fig3,fig4) = plt.subplots(ncols = 2,figsize=(20,7))\n",
        "fig3.set_title(\"Number of Trips vs Pickup Hr\")\n",
        "ax = sns.countplot(x = 'pickup_hr', data = nyc_taxi_df, ax = fig3)\n",
        "ax = plt.xlabel(\"pickup_hr\")\n",
        "ax = plt.ylabel(\"Number of Trips\")\n",
        "fig4.set_title(\"Number of Trips vs Dropoff Hr\")\n",
        "ax = sns.countplot(x = 'dropoff_hr', data = nyc_taxi_df, ax = fig4)\n",
        "ax = plt.xlabel(\"dropoff_hr\")\n",
        "ax = plt.ylabel(\"Number of Trips\")\n",
        "plt.show()"
      ],
      "metadata": {
        "colab": {
          "base_uri": "https://localhost:8080/",
          "height": 459
        },
        "id": "916nzvxOd3i6",
        "outputId": "9bb9c75a-6d5b-4ce7-f04c-6d99fe1d210f"
      },
      "execution_count": 137,
      "outputs": [
        {
          "output_type": "display_data",
          "data": {
            "text/plain": [
              "<Figure size 1440x504 with 2 Axes>"
            ],
            "image/png": "[encoded data removed]"
          },
          "metadata": {
            "needs_background": "light"
          }
        }
      ]
    },
    {
      "cell_type": "markdown",
      "source": [
        "The above graph shows that most of the trips are done between 6:00 PM to 7:00 PM, reason might be this is the time when people will leave from offices and they are taking cab on their way back home or on Friday since we saw is the busiest day we can infer that most of the people are going for trips after office on Friday."
      ],
      "metadata": {
        "id": "WvKcRUu7euQ6"
      }
    },
    {
      "cell_type": "code",
      "source": [
        "#Function to check at which time of the day (Morning, Afternoon, Evening or Night) trips are done.\n",
        "def time_of_day(hr):\n",
        "  if hr>=6 and hr<12:\n",
        "    return 'Morning'\n",
        "  elif hr>=12 and hr<17:\n",
        "    return 'Afternoon'\n",
        "  elif hr>=17 and hr<22:\n",
        "    return 'Evening'\n",
        "  else:\n",
        "    return 'Night'"
      ],
      "metadata": {
        "id": "uRENmFkBlpa2"
      },
      "execution_count": 138,
      "outputs": []
    },
    {
      "cell_type": "code",
      "source": [
        "#Making columns 'pickup_timeofday' and 'dropoff_timeofday' from 'pickup_hr' and 'dropoff_hr' column\n",
        "nyc_taxi_df['pickup_timeofday'] = nyc_taxi_df['pickup_hr'].apply(time_of_day)\n",
        "nyc_taxi_df['dropoff_timeofday'] = nyc_taxi_df['dropoff_hr'].apply(time_of_day)"
      ],
      "metadata": {
        "id": "17vRSHJPm086"
      },
      "execution_count": 139,
      "outputs": []
    },
    {
      "cell_type": "code",
      "source": [
        "#Plotting countplots for pickup_timeofday and dropoff_timeofday.\n",
        "figure,(fig5,fig6) = plt.subplots(ncols = 2,figsize=(20,7))\n",
        "fig5.set_title(\"Number of Trips vs Pickup timeofday\")\n",
        "ax = sns.countplot(x = 'pickup_timeofday', data = nyc_taxi_df, ax = fig5)\n",
        "ax = plt.xlabel(\"pickup_timeofday\")\n",
        "ax = plt.ylabel(\"Number of Trips\")\n",
        "fig6.set_title(\"Number of Trips vs Dropoff timeofday\")\n",
        "ax = sns.countplot(x = 'dropoff_timeofday', data = nyc_taxi_df, ax = fig6)\n",
        "ax = plt.xlabel(\"dropoff_timeofday\")\n",
        "ax = plt.ylabel(\"Number of Trips\")\n",
        "plt.show()"
      ],
      "metadata": {
        "colab": {
          "base_uri": "https://localhost:8080/",
          "height": 459
        },
        "id": "-uGkhh7Sfrr8",
        "outputId": "912bdebf-2c83-4b8c-b3e3-a5c8bb1fdbf4"
      },
      "execution_count": 140,
      "outputs": [
        {
          "output_type": "display_data",
          "data": {
            "text/plain": [
              "<Figure size 1440x504 with 2 Axes>"
            ],
            "image/png": "[encoded data removed]"
          },
          "metadata": {
            "needs_background": "light"
          }
        }
      ]
    },
    {
      "cell_type": "markdown",
      "source": [
        "Above graph shows that most of the trips are taken in the evening we found the same thing in the previous graph that most of the trips are between 6:00 PM to 7:00 PM."
      ],
      "metadata": {
        "id": "0wJ-ndg3hO7x"
      }
    },
    {
      "cell_type": "code",
      "source": [
        "#Extracting trip_month from datetime to visualize which month there was more trips.\n",
        "nyc_taxi_df['trip_month'] = nyc_taxi_df['pickup_datetime'].dt.month"
      ],
      "metadata": {
        "id": "Wu2jU8ssk6LK"
      },
      "execution_count": 141,
      "outputs": []
    },
    {
      "cell_type": "code",
      "source": [
        "#Plotting countplot for month.\n",
        "plt.figure(figsize=(10,7))\n",
        "plt.title(\"Number of Trips vs month\")\n",
        "sns.countplot(x = 'trip_month', data = nyc_taxi_df)\n",
        "plt.xlabel(\"trip_month\")\n",
        "plt.ylabel(\"Number of Trips\")\n",
        "plt.show()"
      ],
      "metadata": {
        "colab": {
          "base_uri": "https://localhost:8080/",
          "height": 459
        },
        "id": "-RQGsgHehi9v",
        "outputId": "efe19293-d90f-4f69-a888-6970128b5e17"
      },
      "execution_count": 142,
      "outputs": [
        {
          "output_type": "display_data",
          "data": {
            "text/plain": [
              "<Figure size 720x504 with 1 Axes>"
            ],
            "image/png": "[encoded data removed]"
          },
          "metadata": {
            "needs_background": "light"
          }
        }
      ]
    },
    {
      "cell_type": "markdown",
      "source": [
        "Number of trips are not varying much if we observe month wise."
      ],
      "metadata": {
        "id": "DYA2ctCoiBXd"
      }
    },
    {
      "cell_type": "markdown",
      "source": [
        "### **Exploring latitude longitude column**"
      ],
      "metadata": {
        "id": "8CZ2-klrNkFC"
      }
    },
    {
      "cell_type": "code",
      "source": [
        "#Function to get distance in km out of pickup and dropoff latitude and longitude\n",
        "def get_distance_km(lat_1,long_1,lat_2,long_2):\n",
        "  pick_cord = (lat_1,long_1)\n",
        "  drop_cord = (lat_2,long_2)\n",
        "  return geodesic(pick_cord, drop_cord).kilometers"
      ],
      "metadata": {
        "id": "Ll1ezV7GnyqO"
      },
      "execution_count": 143,
      "outputs": []
    },
    {
      "cell_type": "code",
      "source": [
        "#Adding a new column distance which contains the distance between pickup and drop location in km\n",
        "nyc_taxi_df['distance'] = nyc_taxi_df.apply(lambda x: get_distance_km(x['pickup_latitude'],x['pickup_longitude'],x['dropoff_latitude'],x['dropoff_longitude']), axis=1)"
      ],
      "metadata": {
        "id": "UXknjTSn3Lph"
      },
      "execution_count": 144,
      "outputs": []
    },
    {
      "cell_type": "code",
      "source": [
        "nyc_taxi_df.head()"
      ],
      "metadata": {
        "colab": {
          "base_uri": "https://localhost:8080/",
          "height": 357
        },
        "id": "g3ZFb7sb4PVi",
        "outputId": "0f76973a-1bdc-4155-e758-e72222e97828"
      },
      "execution_count": 145,
      "outputs": [
        {
          "output_type": "execute_result",
          "data": {
            "text/plain": [
              "          id  vendor_id     pickup_datetime    dropoff_datetime  \\\n",
              "0  id2875421          2 2016-03-14 17:24:55 2016-03-14 17:32:30   \n",
              "1  id2377394          1 2016-06-12 00:43:35 2016-06-12 00:54:38   \n",
              "2  id3858529          2 2016-01-19 11:35:24 2016-01-19 12:10:48   \n",
              "3  id3504673          2 2016-04-06 19:32:31 2016-04-06 19:39:40   \n",
              "4  id2181028          2 2016-03-26 13:30:55 2016-03-26 13:38:10   \n",
              "\n",
              "   passenger_count  pickup_longitude  pickup_latitude  dropoff_longitude  \\\n",
              "0                1        -73.982155        40.767937         -73.964630   \n",
              "1                1        -73.980415        40.738564         -73.999481   \n",
              "2                1        -73.979027        40.763939         -74.005333   \n",
              "3                1        -74.010040        40.719971         -74.012268   \n",
              "4                1        -73.973053        40.793209         -73.972923   \n",
              "\n",
              "   dropoff_latitude store_and_fwd_flag  trip_duration pickup_day dropoff_day  \\\n",
              "0         40.765602                  N            455     Monday      Monday   \n",
              "1         40.731152                  N            663     Sunday      Sunday   \n",
              "2         40.710087                  N           2124    Tuesday     Tuesday   \n",
              "3         40.706718                  N            429  Wednesday   Wednesday   \n",
              "4         40.782520                  N            435   Saturday    Saturday   \n",
              "\n",
              "   pickup_hr  dropoff_hr pickup_timeofday dropoff_timeofday  trip_month  \\\n",
              "0         17          17          Evening           Evening           3   \n",
              "1          0           0            Night             Night           6   \n",
              "2         11          12          Morning         Afternoon           1   \n",
              "3         19          19          Evening           Evening           4   \n",
              "4         13          13        Afternoon         Afternoon           3   \n",
              "\n",
              "   distance  \n",
              "0  1.502172  \n",
              "1  1.808660  \n",
              "2  6.379687  \n",
              "3  1.483632  \n",
              "4  1.187038  "
            ],
            "text/html": [
              "\n",
              "  <div id=\"df-bc7e233e-3c11-43b5-adf9-dc904b062dc1\">\n",
              "    <div class=\"colab-df-container\">\n",
              "      <div>\n",
              "<style scoped>\n",
              "    .dataframe tbody tr th:only-of-type {\n",
              "        vertical-align: middle;\n",
              "    }\n",
              "\n",
              "    .dataframe tbody tr th {\n",
              "        vertical-align: top;\n",
              "    }\n",
              "\n",
              "    .dataframe thead th {\n",
              "        text-align: right;\n",
              "    }\n",
              "</style>\n",
              "<table border=\"1\" class=\"dataframe\">\n",
              "  <thead>\n",
              "    <tr style=\"text-align: right;\">\n",
              "      <th></th>\n",
              "      <th>id</th>\n",
              "      <th>vendor_id</th>\n",
              "      <th>pickup_datetime</th>\n",
              "      <th>dropoff_datetime</th>\n",
              "      <th>passenger_count</th>\n",
              "      <th>pickup_longitude</th>\n",
              "      <th>pickup_latitude</th>\n",
              "      <th>dropoff_longitude</th>\n",
              "      <th>dropoff_latitude</th>\n",
              "      <th>store_and_fwd_flag</th>\n",
              "      <th>trip_duration</th>\n",
              "      <th>pickup_day</th>\n",
              "      <th>dropoff_day</th>\n",
              "      <th>pickup_hr</th>\n",
              "      <th>dropoff_hr</th>\n",
              "      <th>pickup_timeofday</th>\n",
              "      <th>dropoff_timeofday</th>\n",
              "      <th>trip_month</th>\n",
              "      <th>distance</th>\n",
              "    </tr>\n",
              "  </thead>\n",
              "  <tbody>\n",
              "    <tr>\n",
              "      <th>0</th>\n",
              "      <td>id2875421</td>\n",
              "      <td>2</td>\n",
              "      <td>2016-03-14 17:24:55</td>\n",
              "      <td>2016-03-14 17:32:30</td>\n",
              "      <td>1</td>\n",
              "      <td>-73.982155</td>\n",
              "      <td>40.767937</td>\n",
              "      <td>-73.964630</td>\n",
              "      <td>40.765602</td>\n",
              "      <td>N</td>\n",
              "      <td>455</td>\n",
              "      <td>Monday</td>\n",
              "      <td>Monday</td>\n",
              "      <td>17</td>\n",
              "      <td>17</td>\n",
              "      <td>Evening</td>\n",
              "      <td>Evening</td>\n",
              "      <td>3</td>\n",
              "      <td>1.502172</td>\n",
              "    </tr>\n",
              "    <tr>\n",
              "      <th>1</th>\n",
              "      <td>id2377394</td>\n",
              "      <td>1</td>\n",
              "      <td>2016-06-12 00:43:35</td>\n",
              "      <td>2016-06-12 00:54:38</td>\n",
              "      <td>1</td>\n",
              "      <td>-73.980415</td>\n",
              "      <td>40.738564</td>\n",
              "      <td>-73.999481</td>\n",
              "      <td>40.731152</td>\n",
              "      <td>N</td>\n",
              "      <td>663</td>\n",
              "      <td>Sunday</td>\n",
              "      <td>Sunday</td>\n",
              "      <td>0</td>\n",
              "      <td>0</td>\n",
              "      <td>Night</td>\n",
              "      <td>Night</td>\n",
              "      <td>6</td>\n",
              "      <td>1.808660</td>\n",
              "    </tr>\n",
              "    <tr>\n",
              "      <th>2</th>\n",
              "      <td>id3858529</td>\n",
              "      <td>2</td>\n",
              "      <td>2016-01-19 11:35:24</td>\n",
              "      <td>2016-01-19 12:10:48</td>\n",
              "      <td>1</td>\n",
              "      <td>-73.979027</td>\n",
              "      <td>40.763939</td>\n",
              "      <td>-74.005333</td>\n",
              "      <td>40.710087</td>\n",
              "      <td>N</td>\n",
              "      <td>2124</td>\n",
              "      <td>Tuesday</td>\n",
              "      <td>Tuesday</td>\n",
              "      <td>11</td>\n",
              "      <td>12</td>\n",
              "      <td>Morning</td>\n",
              "      <td>Afternoon</td>\n",
              "      <td>1</td>\n",
              "      <td>6.379687</td>\n",
              "    </tr>\n",
              "    <tr>\n",
              "      <th>3</th>\n",
              "      <td>id3504673</td>\n",
              "      <td>2</td>\n",
              "      <td>2016-04-06 19:32:31</td>\n",
              "      <td>2016-04-06 19:39:40</td>\n",
              "      <td>1</td>\n",
              "      <td>-74.010040</td>\n",
              "      <td>40.719971</td>\n",
              "      <td>-74.012268</td>\n",
              "      <td>40.706718</td>\n",
              "      <td>N</td>\n",
              "      <td>429</td>\n",
              "      <td>Wednesday</td>\n",
              "      <td>Wednesday</td>\n",
              "      <td>19</td>\n",
              "      <td>19</td>\n",
              "      <td>Evening</td>\n",
              "      <td>Evening</td>\n",
              "      <td>4</td>\n",
              "      <td>1.483632</td>\n",
              "    </tr>\n",
              "    <tr>\n",
              "      <th>4</th>\n",
              "      <td>id2181028</td>\n",
              "      <td>2</td>\n",
              "      <td>2016-03-26 13:30:55</td>\n",
              "      <td>2016-03-26 13:38:10</td>\n",
              "      <td>1</td>\n",
              "      <td>-73.973053</td>\n",
              "      <td>40.793209</td>\n",
              "      <td>-73.972923</td>\n",
              "      <td>40.782520</td>\n",
              "      <td>N</td>\n",
              "      <td>435</td>\n",
              "      <td>Saturday</td>\n",
              "      <td>Saturday</td>\n",
              "      <td>13</td>\n",
              "      <td>13</td>\n",
              "      <td>Afternoon</td>\n",
              "      <td>Afternoon</td>\n",
              "      <td>3</td>\n",
              "      <td>1.187038</td>\n",
              "    </tr>\n",
              "  </tbody>\n",
              "</table>\n",
              "</div>\n",
              "      <button class=\"colab-df-convert\" onclick=\"convertToInteractive('df-bc7e233e-3c11-43b5-adf9-dc904b062dc1')\"\n",
              "              title=\"Convert this dataframe to an interactive table.\"\n",
              "              style=\"display:none;\">\n",
              "        \n",
              "  <svg xmlns=\"http://www.w3.org/2000/svg\" height=\"24px\"viewBox=\"0 0 24 24\"\n",
              "       width=\"24px\">\n",
              "    <path d=\"M0 0h24v24H0V0z\" fill=\"none\"/>\n",
              "    <path d=\"M18.56 5.44l.94 2.06.94-2.06 2.06-.94-2.06-.94-.94-2.06-.94 2.06-2.06.94zm-11 1L8.5 8.5l.94-2.06 2.06-.94-2.06-.94L8.5 2.5l-.94 2.06-2.06.94zm10 10l.94 2.06.94-2.06 2.06-.94-2.06-.94-.94-2.06-.94 2.06-2.06.94z\"/><path d=\"M17.41 7.96l-1.37-1.37c-.4-.4-.92-.59-1.43-.59-.52 0-1.04.2-1.43.59L10.3 9.45l-7.72 7.72c-.78.78-.78 2.05 0 2.83L4 21.41c.39.39.9.59 1.41.59.51 0 1.02-.2 1.41-.59l7.78-7.78 2.81-2.81c.8-.78.8-2.07 0-2.86zM5.41 20L4 18.59l7.72-7.72 1.47 1.35L5.41 20z\"/>\n",
              "  </svg>\n",
              "      </button>\n",
              "      \n",
              "  <style>\n",
              "    .colab-df-container {\n",
              "      display:flex;\n",
              "      flex-wrap:wrap;\n",
              "      gap: 12px;\n",
              "    }\n",
              "\n",
              "    .colab-df-convert {\n",
              "      background-color: #E8F0FE;\n",
              "      border: none;\n",
              "      border-radius: 50%;\n",
              "      cursor: pointer;\n",
              "      display: none;\n",
              "      fill: #1967D2;\n",
              "      height: 32px;\n",
              "      padding: 0 0 0 0;\n",
              "      width: 32px;\n",
              "    }\n",
              "\n",
              "    .colab-df-convert:hover {\n",
              "      background-color: #E2EBFA;\n",
              "      box-shadow: 0px 1px 2px rgba(60, 64, 67, 0.3), 0px 1px 3px 1px rgba(60, 64, 67, 0.15);\n",
              "      fill: #174EA6;\n",
              "    }\n",
              "\n",
              "    [theme=dark] .colab-df-convert {\n",
              "      background-color: #3B4455;\n",
              "      fill: #D2E3FC;\n",
              "    }\n",
              "\n",
              "    [theme=dark] .colab-df-convert:hover {\n",
              "      background-color: #434B5C;\n",
              "      box-shadow: 0px 1px 3px 1px rgba(0, 0, 0, 0.15);\n",
              "      filter: drop-shadow(0px 1px 2px rgba(0, 0, 0, 0.3));\n",
              "      fill: #FFFFFF;\n",
              "    }\n",
              "  </style>\n",
              "\n",
              "      <script>\n",
              "        const buttonEl =\n",
              "          document.querySelector('#df-bc7e233e-3c11-43b5-adf9-dc904b062dc1 button.colab-df-convert');\n",
              "        buttonEl.style.display =\n",
              "          google.colab.kernel.accessAllowed ? 'block' : 'none';\n",
              "\n",
              "        async function convertToInteractive(key) {\n",
              "          const element = document.querySelector('#df-bc7e233e-3c11-43b5-adf9-dc904b062dc1');\n",
              "          const dataTable =\n",
              "            await google.colab.kernel.invokeFunction('convertToInteractive',\n",
              "                                                     [key], {});\n",
              "          if (!dataTable) return;\n",
              "\n",
              "          const docLinkHtml = 'Like what you see? Visit the ' +\n",
              "            '<a target=\"_blank\" href=https://colab.research.google.com/notebooks/data_table.ipynb>data table notebook</a>'\n",
              "            + ' to learn more about interactive tables.';\n",
              "          element.innerHTML = '';\n",
              "          dataTable['output_type'] = 'display_data';\n",
              "          await google.colab.output.renderOutput(dataTable, element);\n",
              "          const docLink = document.createElement('div');\n",
              "          docLink.innerHTML = docLinkHtml;\n",
              "          element.appendChild(docLink);\n",
              "        }\n",
              "      </script>\n",
              "    </div>\n",
              "  </div>\n",
              "  "
            ]
          },
          "metadata": {},
          "execution_count": 145
        }
      ]
    },
    {
      "cell_type": "code",
      "source": [
        "#Plotting boxplot for distance column.\n",
        "sns.boxplot(nyc_taxi_df['distance'])"
      ],
      "metadata": {
        "colab": {
          "base_uri": "https://localhost:8080/",
          "height": 296
        },
        "id": "GVn3NkloSGuP",
        "outputId": "44ec4ce0-c040-4e2f-9232-ce94b90a2f34"
      },
      "execution_count": 146,
      "outputs": [
        {
          "output_type": "execute_result",
          "data": {
            "text/plain": [
              "<matplotlib.axes._subplots.AxesSubplot at 0x7fb00d38bfd0>"
            ]
          },
          "metadata": {},
          "execution_count": 146
        },
        {
          "output_type": "display_data",
          "data": {
            "text/plain": [
              "<Figure size 432x288 with 1 Axes>"
            ],
            "image/png": "[encoded data removed]"
          },
          "metadata": {
            "needs_background": "light"
          }
        }
      ]
    },
    {
      "cell_type": "markdown",
      "source": [
        "From this box plot we can see that there are some trips with more than 200kms distance travelled. We can not direclty delete these data as these might be the long trips people take for vacation or on weekends."
      ],
      "metadata": {
        "id": "AkyKg1A8ShXm"
      }
    },
    {
      "cell_type": "code",
      "source": [
        "# Exploring the distance feature.\n",
        "nyc_taxi_df['distance'].value_counts()"
      ],
      "metadata": {
        "colab": {
          "base_uri": "https://localhost:8080/"
        },
        "id": "SH5p7ItGL1hc",
        "outputId": "f660d7ee-fde3-46a7-aa22-1d51122309c4"
      },
      "execution_count": 147,
      "outputs": [
        {
          "output_type": "execute_result",
          "data": {
            "text/plain": [
              "0.000000     5887\n",
              "2.064458        2\n",
              "0.942752        2\n",
              "0.000644        2\n",
              "1.289928        2\n",
              "             ... \n",
              "2.817283        1\n",
              "26.281212       1\n",
              "2.252518        1\n",
              "2.133112        1\n",
              "1.133655        1\n",
              "Name: distance, Length: 1452682, dtype: int64"
            ]
          },
          "metadata": {},
          "execution_count": 147
        }
      ]
    },
    {
      "cell_type": "markdown",
      "source": [
        "From the above data we can infer that there are 5887 entries with 0.0km distance which is again not a correct entry. We have to deep dive in this column to check why the distance covered is 0.0km."
      ],
      "metadata": {
        "id": "80EvWcloMP23"
      }
    },
    {
      "cell_type": "code",
      "source": [
        "nyc_taxi_df[nyc_taxi_df['distance']==0.0].head(10)"
      ],
      "metadata": {
        "colab": {
          "base_uri": "https://localhost:8080/",
          "height": 600
        },
        "id": "FIUNQZyiMt5f",
        "outputId": "34475637-f50e-43f5-d968-e3b70b537bdb"
      },
      "execution_count": 148,
      "outputs": [
        {
          "output_type": "execute_result",
          "data": {
            "text/plain": [
              "             id  vendor_id     pickup_datetime    dropoff_datetime  \\\n",
              "246   id3487442          2 2016-02-29 18:39:12 2016-02-29 18:42:59   \n",
              "291   id0924324          2 2016-05-10 18:07:52 2016-05-10 18:26:21   \n",
              "407   id1145809          2 2016-05-16 23:15:13 2016-05-16 23:31:00   \n",
              "702   id3499387          1 2016-01-25 19:45:12 2016-01-25 19:54:52   \n",
              "1620  id0753277          1 2016-01-27 22:29:31 2016-01-27 22:29:58   \n",
              "1728  id2134482          1 2016-01-22 16:13:01 2016-01-22 16:13:20   \n",
              "1769  id2892749          1 2016-01-18 15:24:43 2016-01-18 15:28:57   \n",
              "2087  id0931199          2 2016-05-04 22:28:43 2016-05-04 22:32:51   \n",
              "2441  id2251007          2 2016-05-23 14:20:49 2016-05-23 14:20:57   \n",
              "2609  id1992673          2 2016-03-02 20:10:41 2016-03-02 20:30:53   \n",
              "\n",
              "      passenger_count  pickup_longitude  pickup_latitude  dropoff_longitude  \\\n",
              "246                 1        -73.981819        40.768963         -73.981819   \n",
              "291                 2        -73.959068        40.775661         -73.959068   \n",
              "407                 6        -73.808487        40.687336         -73.808487   \n",
              "702                 1        -73.786720        40.647041         -73.786720   \n",
              "1620                1        -74.209854        40.816853         -74.209854   \n",
              "1728                1        -73.776314        40.645454         -73.776314   \n",
              "1769                5        -73.954666        40.821003         -73.954666   \n",
              "2087                1        -73.954628        40.777180         -73.954628   \n",
              "2441                1        -73.781830        40.644699         -73.781830   \n",
              "2609                5        -73.875313        40.773682         -73.875313   \n",
              "\n",
              "      dropoff_latitude store_and_fwd_flag  trip_duration pickup_day  \\\n",
              "246          40.768963                  N            227     Monday   \n",
              "291          40.775661                  N           1109    Tuesday   \n",
              "407          40.687336                  N            947     Monday   \n",
              "702          40.647041                  N            580     Monday   \n",
              "1620         40.816853                  N             27  Wednesday   \n",
              "1728         40.645454                  N             19     Friday   \n",
              "1769         40.821003                  Y            254     Monday   \n",
              "2087         40.777180                  N            248  Wednesday   \n",
              "2441         40.644699                  N              8     Monday   \n",
              "2609         40.773682                  N           1212  Wednesday   \n",
              "\n",
              "     dropoff_day  pickup_hr  dropoff_hr pickup_timeofday dropoff_timeofday  \\\n",
              "246       Monday         18          18          Evening           Evening   \n",
              "291      Tuesday         18          18          Evening           Evening   \n",
              "407       Monday         23          23            Night             Night   \n",
              "702       Monday         19          19          Evening           Evening   \n",
              "1620   Wednesday         22          22            Night             Night   \n",
              "1728      Friday         16          16        Afternoon         Afternoon   \n",
              "1769      Monday         15          15        Afternoon         Afternoon   \n",
              "2087   Wednesday         22          22            Night             Night   \n",
              "2441      Monday         14          14        Afternoon         Afternoon   \n",
              "2609   Wednesday         20          20          Evening           Evening   \n",
              "\n",
              "      trip_month  distance  \n",
              "246            2       0.0  \n",
              "291            5       0.0  \n",
              "407            5       0.0  \n",
              "702            1       0.0  \n",
              "1620           1       0.0  \n",
              "1728           1       0.0  \n",
              "1769           1       0.0  \n",
              "2087           5       0.0  \n",
              "2441           5       0.0  \n",
              "2609           3       0.0  "
            ],
            "text/html": [
              "\n",
              "  <div id=\"df-d9085f39-1c06-47a5-84dc-372f79c2245d\">\n",
              "    <div class=\"colab-df-container\">\n",
              "      <div>\n",
              "<style scoped>\n",
              "    .dataframe tbody tr th:only-of-type {\n",
              "        vertical-align: middle;\n",
              "    }\n",
              "\n",
              "    .dataframe tbody tr th {\n",
              "        vertical-align: top;\n",
              "    }\n",
              "\n",
              "    .dataframe thead th {\n",
              "        text-align: right;\n",
              "    }\n",
              "</style>\n",
              "<table border=\"1\" class=\"dataframe\">\n",
              "  <thead>\n",
              "    <tr style=\"text-align: right;\">\n",
              "      <th></th>\n",
              "      <th>id</th>\n",
              "      <th>vendor_id</th>\n",
              "      <th>pickup_datetime</th>\n",
              "      <th>dropoff_datetime</th>\n",
              "      <th>passenger_count</th>\n",
              "      <th>pickup_longitude</th>\n",
              "      <th>pickup_latitude</th>\n",
              "      <th>dropoff_longitude</th>\n",
              "      <th>dropoff_latitude</th>\n",
              "      <th>store_and_fwd_flag</th>\n",
              "      <th>trip_duration</th>\n",
              "      <th>pickup_day</th>\n",
              "      <th>dropoff_day</th>\n",
              "      <th>pickup_hr</th>\n",
              "      <th>dropoff_hr</th>\n",
              "      <th>pickup_timeofday</th>\n",
              "      <th>dropoff_timeofday</th>\n",
              "      <th>trip_month</th>\n",
              "      <th>distance</th>\n",
              "    </tr>\n",
              "  </thead>\n",
              "  <tbody>\n",
              "    <tr>\n",
              "      <th>246</th>\n",
              "      <td>id3487442</td>\n",
              "      <td>2</td>\n",
              "      <td>2016-02-29 18:39:12</td>\n",
              "      <td>2016-02-29 18:42:59</td>\n",
              "      <td>1</td>\n",
              "      <td>-73.981819</td>\n",
              "      <td>40.768963</td>\n",
              "      <td>-73.981819</td>\n",
              "      <td>40.768963</td>\n",
              "      <td>N</td>\n",
              "      <td>227</td>\n",
              "      <td>Monday</td>\n",
              "      <td>Monday</td>\n",
              "      <td>18</td>\n",
              "      <td>18</td>\n",
              "      <td>Evening</td>\n",
              "      <td>Evening</td>\n",
              "      <td>2</td>\n",
              "      <td>0.0</td>\n",
              "    </tr>\n",
              "    <tr>\n",
              "      <th>291</th>\n",
              "      <td>id0924324</td>\n",
              "      <td>2</td>\n",
              "      <td>2016-05-10 18:07:52</td>\n",
              "      <td>2016-05-10 18:26:21</td>\n",
              "      <td>2</td>\n",
              "      <td>-73.959068</td>\n",
              "      <td>40.775661</td>\n",
              "      <td>-73.959068</td>\n",
              "      <td>40.775661</td>\n",
              "      <td>N</td>\n",
              "      <td>1109</td>\n",
              "      <td>Tuesday</td>\n",
              "      <td>Tuesday</td>\n",
              "      <td>18</td>\n",
              "      <td>18</td>\n",
              "      <td>Evening</td>\n",
              "      <td>Evening</td>\n",
              "      <td>5</td>\n",
              "      <td>0.0</td>\n",
              "    </tr>\n",
              "    <tr>\n",
              "      <th>407</th>\n",
              "      <td>id1145809</td>\n",
              "      <td>2</td>\n",
              "      <td>2016-05-16 23:15:13</td>\n",
              "      <td>2016-05-16 23:31:00</td>\n",
              "      <td>6</td>\n",
              "      <td>-73.808487</td>\n",
              "      <td>40.687336</td>\n",
              "      <td>-73.808487</td>\n",
              "      <td>40.687336</td>\n",
              "      <td>N</td>\n",
              "      <td>947</td>\n",
              "      <td>Monday</td>\n",
              "      <td>Monday</td>\n",
              "      <td>23</td>\n",
              "      <td>23</td>\n",
              "      <td>Night</td>\n",
              "      <td>Night</td>\n",
              "      <td>5</td>\n",
              "      <td>0.0</td>\n",
              "    </tr>\n",
              "    <tr>\n",
              "      <th>702</th>\n",
              "      <td>id3499387</td>\n",
              "      <td>1</td>\n",
              "      <td>2016-01-25 19:45:12</td>\n",
              "      <td>2016-01-25 19:54:52</td>\n",
              "      <td>1</td>\n",
              "      <td>-73.786720</td>\n",
              "      <td>40.647041</td>\n",
              "      <td>-73.786720</td>\n",
              "      <td>40.647041</td>\n",
              "      <td>N</td>\n",
              "      <td>580</td>\n",
              "      <td>Monday</td>\n",
              "      <td>Monday</td>\n",
              "      <td>19</td>\n",
              "      <td>19</td>\n",
              "      <td>Evening</td>\n",
              "      <td>Evening</td>\n",
              "      <td>1</td>\n",
              "      <td>0.0</td>\n",
              "    </tr>\n",
              "    <tr>\n",
              "      <th>1620</th>\n",
              "      <td>id0753277</td>\n",
              "      <td>1</td>\n",
              "      <td>2016-01-27 22:29:31</td>\n",
              "      <td>2016-01-27 22:29:58</td>\n",
              "      <td>1</td>\n",
              "      <td>-74.209854</td>\n",
              "      <td>40.816853</td>\n",
              "      <td>-74.209854</td>\n",
              "      <td>40.816853</td>\n",
              "      <td>N</td>\n",
              "      <td>27</td>\n",
              "      <td>Wednesday</td>\n",
              "      <td>Wednesday</td>\n",
              "      <td>22</td>\n",
              "      <td>22</td>\n",
              "      <td>Night</td>\n",
              "      <td>Night</td>\n",
              "      <td>1</td>\n",
              "      <td>0.0</td>\n",
              "    </tr>\n",
              "    <tr>\n",
              "      <th>1728</th>\n",
              "      <td>id2134482</td>\n",
              "      <td>1</td>\n",
              "      <td>2016-01-22 16:13:01</td>\n",
              "      <td>2016-01-22 16:13:20</td>\n",
              "      <td>1</td>\n",
              "      <td>-73.776314</td>\n",
              "      <td>40.645454</td>\n",
              "      <td>-73.776314</td>\n",
              "      <td>40.645454</td>\n",
              "      <td>N</td>\n",
              "      <td>19</td>\n",
              "      <td>Friday</td>\n",
              "      <td>Friday</td>\n",
              "      <td>16</td>\n",
              "      <td>16</td>\n",
              "      <td>Afternoon</td>\n",
              "      <td>Afternoon</td>\n",
              "      <td>1</td>\n",
              "      <td>0.0</td>\n",
              "    </tr>\n",
              "    <tr>\n",
              "      <th>1769</th>\n",
              "      <td>id2892749</td>\n",
              "      <td>1</td>\n",
              "      <td>2016-01-18 15:24:43</td>\n",
              "      <td>2016-01-18 15:28:57</td>\n",
              "      <td>5</td>\n",
              "      <td>-73.954666</td>\n",
              "      <td>40.821003</td>\n",
              "      <td>-73.954666</td>\n",
              "      <td>40.821003</td>\n",
              "      <td>Y</td>\n",
              "      <td>254</td>\n",
              "      <td>Monday</td>\n",
              "      <td>Monday</td>\n",
              "      <td>15</td>\n",
              "      <td>15</td>\n",
              "      <td>Afternoon</td>\n",
              "      <td>Afternoon</td>\n",
              "      <td>1</td>\n",
              "      <td>0.0</td>\n",
              "    </tr>\n",
              "    <tr>\n",
              "      <th>2087</th>\n",
              "      <td>id0931199</td>\n",
              "      <td>2</td>\n",
              "      <td>2016-05-04 22:28:43</td>\n",
              "      <td>2016-05-04 22:32:51</td>\n",
              "      <td>1</td>\n",
              "      <td>-73.954628</td>\n",
              "      <td>40.777180</td>\n",
              "      <td>-73.954628</td>\n",
              "      <td>40.777180</td>\n",
              "      <td>N</td>\n",
              "      <td>248</td>\n",
              "      <td>Wednesday</td>\n",
              "      <td>Wednesday</td>\n",
              "      <td>22</td>\n",
              "      <td>22</td>\n",
              "      <td>Night</td>\n",
              "      <td>Night</td>\n",
              "      <td>5</td>\n",
              "      <td>0.0</td>\n",
              "    </tr>\n",
              "    <tr>\n",
              "      <th>2441</th>\n",
              "      <td>id2251007</td>\n",
              "      <td>2</td>\n",
              "      <td>2016-05-23 14:20:49</td>\n",
              "      <td>2016-05-23 14:20:57</td>\n",
              "      <td>1</td>\n",
              "      <td>-73.781830</td>\n",
              "      <td>40.644699</td>\n",
              "      <td>-73.781830</td>\n",
              "      <td>40.644699</td>\n",
              "      <td>N</td>\n",
              "      <td>8</td>\n",
              "      <td>Monday</td>\n",
              "      <td>Monday</td>\n",
              "      <td>14</td>\n",
              "      <td>14</td>\n",
              "      <td>Afternoon</td>\n",
              "      <td>Afternoon</td>\n",
              "      <td>5</td>\n",
              "      <td>0.0</td>\n",
              "    </tr>\n",
              "    <tr>\n",
              "      <th>2609</th>\n",
              "      <td>id1992673</td>\n",
              "      <td>2</td>\n",
              "      <td>2016-03-02 20:10:41</td>\n",
              "      <td>2016-03-02 20:30:53</td>\n",
              "      <td>5</td>\n",
              "      <td>-73.875313</td>\n",
              "      <td>40.773682</td>\n",
              "      <td>-73.875313</td>\n",
              "      <td>40.773682</td>\n",
              "      <td>N</td>\n",
              "      <td>1212</td>\n",
              "      <td>Wednesday</td>\n",
              "      <td>Wednesday</td>\n",
              "      <td>20</td>\n",
              "      <td>20</td>\n",
              "      <td>Evening</td>\n",
              "      <td>Evening</td>\n",
              "      <td>3</td>\n",
              "      <td>0.0</td>\n",
              "    </tr>\n",
              "  </tbody>\n",
              "</table>\n",
              "</div>\n",
              "      <button class=\"colab-df-convert\" onclick=\"convertToInteractive('df-d9085f39-1c06-47a5-84dc-372f79c2245d')\"\n",
              "              title=\"Convert this dataframe to an interactive table.\"\n",
              "              style=\"display:none;\">\n",
              "        \n",
              "  <svg xmlns=\"http://www.w3.org/2000/svg\" height=\"24px\"viewBox=\"0 0 24 24\"\n",
              "       width=\"24px\">\n",
              "    <path d=\"M0 0h24v24H0V0z\" fill=\"none\"/>\n",
              "    <path d=\"M18.56 5.44l.94 2.06.94-2.06 2.06-.94-2.06-.94-.94-2.06-.94 2.06-2.06.94zm-11 1L8.5 8.5l.94-2.06 2.06-.94-2.06-.94L8.5 2.5l-.94 2.06-2.06.94zm10 10l.94 2.06.94-2.06 2.06-.94-2.06-.94-.94-2.06-.94 2.06-2.06.94z\"/><path d=\"M17.41 7.96l-1.37-1.37c-.4-.4-.92-.59-1.43-.59-.52 0-1.04.2-1.43.59L10.3 9.45l-7.72 7.72c-.78.78-.78 2.05 0 2.83L4 21.41c.39.39.9.59 1.41.59.51 0 1.02-.2 1.41-.59l7.78-7.78 2.81-2.81c.8-.78.8-2.07 0-2.86zM5.41 20L4 18.59l7.72-7.72 1.47 1.35L5.41 20z\"/>\n",
              "  </svg>\n",
              "      </button>\n",
              "      \n",
              "  <style>\n",
              "    .colab-df-container {\n",
              "      display:flex;\n",
              "      flex-wrap:wrap;\n",
              "      gap: 12px;\n",
              "    }\n",
              "\n",
              "    .colab-df-convert {\n",
              "      background-color: #E8F0FE;\n",
              "      border: none;\n",
              "      border-radius: 50%;\n",
              "      cursor: pointer;\n",
              "      display: none;\n",
              "      fill: #1967D2;\n",
              "      height: 32px;\n",
              "      padding: 0 0 0 0;\n",
              "      width: 32px;\n",
              "    }\n",
              "\n",
              "    .colab-df-convert:hover {\n",
              "      background-color: #E2EBFA;\n",
              "      box-shadow: 0px 1px 2px rgba(60, 64, 67, 0.3), 0px 1px 3px 1px rgba(60, 64, 67, 0.15);\n",
              "      fill: #174EA6;\n",
              "    }\n",
              "\n",
              "    [theme=dark] .colab-df-convert {\n",
              "      background-color: #3B4455;\n",
              "      fill: #D2E3FC;\n",
              "    }\n",
              "\n",
              "    [theme=dark] .colab-df-convert:hover {\n",
              "      background-color: #434B5C;\n",
              "      box-shadow: 0px 1px 3px 1px rgba(0, 0, 0, 0.15);\n",
              "      filter: drop-shadow(0px 1px 2px rgba(0, 0, 0, 0.3));\n",
              "      fill: #FFFFFF;\n",
              "    }\n",
              "  </style>\n",
              "\n",
              "      <script>\n",
              "        const buttonEl =\n",
              "          document.querySelector('#df-d9085f39-1c06-47a5-84dc-372f79c2245d button.colab-df-convert');\n",
              "        buttonEl.style.display =\n",
              "          google.colab.kernel.accessAllowed ? 'block' : 'none';\n",
              "\n",
              "        async function convertToInteractive(key) {\n",
              "          const element = document.querySelector('#df-d9085f39-1c06-47a5-84dc-372f79c2245d');\n",
              "          const dataTable =\n",
              "            await google.colab.kernel.invokeFunction('convertToInteractive',\n",
              "                                                     [key], {});\n",
              "          if (!dataTable) return;\n",
              "\n",
              "          const docLinkHtml = 'Like what you see? Visit the ' +\n",
              "            '<a target=\"_blank\" href=https://colab.research.google.com/notebooks/data_table.ipynb>data table notebook</a>'\n",
              "            + ' to learn more about interactive tables.';\n",
              "          element.innerHTML = '';\n",
              "          dataTable['output_type'] = 'display_data';\n",
              "          await google.colab.output.renderOutput(dataTable, element);\n",
              "          const docLink = document.createElement('div');\n",
              "          docLink.innerHTML = docLinkHtml;\n",
              "          element.appendChild(docLink);\n",
              "        }\n",
              "      </script>\n",
              "    </div>\n",
              "  </div>\n",
              "  "
            ]
          },
          "metadata": {},
          "execution_count": 148
        }
      ]
    },
    {
      "cell_type": "markdown",
      "source": [
        "From the above data we can infer that for some of the entries trip_duration is more than 1000s still the distance is 0.0km. We will deep dive more for these data in bivariate analysis when we will be comparing the distance with trip_duration."
      ],
      "metadata": {
        "id": "xCnrrBRHRnOg"
      }
    },
    {
      "cell_type": "markdown",
      "source": [
        "### **Exploring the column trip duration.**"
      ],
      "metadata": {
        "id": "aZx6L1psPEhZ"
      }
    },
    {
      "cell_type": "code",
      "source": [
        "#Plotting distribution of target variable trip_duration.\n",
        "plt.figure(figsize=(10,5))\n",
        "plt.title(\"Distribution of Trip Duration\")\n",
        "sns.distplot(nyc_taxi_df['trip_duration'])\n",
        "plt.show()"
      ],
      "metadata": {
        "colab": {
          "base_uri": "https://localhost:8080/",
          "height": 351
        },
        "id": "xy3-XvqiFhqD",
        "outputId": "e1544cd5-0832-4f64-9762-318a4b89a3bb"
      },
      "execution_count": 149,
      "outputs": [
        {
          "output_type": "display_data",
          "data": {
            "text/plain": [
              "<Figure size 720x360 with 1 Axes>"
            ],
            "image/png": "[encoded data removed]"
          },
          "metadata": {
            "needs_background": "light"
          }
        }
      ]
    },
    {
      "cell_type": "markdown",
      "source": [
        "From the above graph we can easily infer that there are some outliers because of which the graph is highly skewed. The same thing can be seen from boxplot."
      ],
      "metadata": {
        "id": "kCQKvigJ5gkJ"
      }
    },
    {
      "cell_type": "code",
      "source": [
        "#Plotting boxplot for trip_duration\n",
        "sns.boxplot(nyc_taxi_df['trip_duration'])"
      ],
      "metadata": {
        "colab": {
          "base_uri": "https://localhost:8080/",
          "height": 297
        },
        "id": "2_nsthqIx420",
        "outputId": "06d069e8-b94b-4def-9326-ef7257ce6aab"
      },
      "execution_count": 150,
      "outputs": [
        {
          "output_type": "execute_result",
          "data": {
            "text/plain": [
              "<matplotlib.axes._subplots.AxesSubplot at 0x7fb018c91610>"
            ]
          },
          "metadata": {},
          "execution_count": 150
        },
        {
          "output_type": "display_data",
          "data": {
            "text/plain": [
              "<Figure size 432x288 with 1 Axes>"
            ],
            "image/png": "[encoded data removed]"
          },
          "metadata": {
            "needs_background": "light"
          }
        }
      ]
    },
    {
      "cell_type": "code",
      "source": [
        "#Look for outlier in the trip_duration column.\n",
        "nyc_taxi_df.sort_values(by = 'trip_duration', ascending = False).head()"
      ],
      "metadata": {
        "colab": {
          "base_uri": "https://localhost:8080/",
          "height": 357
        },
        "id": "4Mnl7QMezpzb",
        "outputId": "f9b6b552-0414-443e-a431-b95fa4bc3d92"
      },
      "execution_count": 151,
      "outputs": [
        {
          "output_type": "execute_result",
          "data": {
            "text/plain": [
              "                id  vendor_id     pickup_datetime    dropoff_datetime  \\\n",
              "978342   id0053347          1 2016-02-13 22:46:52 2016-03-25 18:18:14   \n",
              "924111   id1325766          1 2016-01-05 06:14:15 2016-01-31 01:01:07   \n",
              "680570   id0369307          1 2016-02-13 22:38:00 2016-03-08 15:57:38   \n",
              "354994   id1864733          1 2016-01-05 00:19:42 2016-01-27 11:08:38   \n",
              "1234240  id1942836          2 2016-02-15 23:18:06 2016-02-16 23:17:58   \n",
              "\n",
              "         passenger_count  pickup_longitude  pickup_latitude  \\\n",
              "978342                 1        -73.783905        40.648632   \n",
              "924111                 1        -73.983788        40.742325   \n",
              "680570                 2        -73.921677        40.735252   \n",
              "354994                 1        -73.789650        40.643559   \n",
              "1234240                2        -73.794525        40.644825   \n",
              "\n",
              "         dropoff_longitude  dropoff_latitude store_and_fwd_flag  \\\n",
              "978342          -73.978271         40.750202                  N   \n",
              "924111          -73.985489         40.727676                  N   \n",
              "680570          -73.984749         40.759979                  N   \n",
              "354994          -73.956810         40.773087                  N   \n",
              "1234240         -73.991051         40.755573                  N   \n",
              "\n",
              "         trip_duration pickup_day dropoff_day  pickup_hr  dropoff_hr  \\\n",
              "978342         3526282   Saturday      Friday         22          18   \n",
              "924111         2227612    Tuesday      Sunday          6           1   \n",
              "680570         2049578   Saturday     Tuesday         22          15   \n",
              "354994         1939736    Tuesday   Wednesday          0          11   \n",
              "1234240          86392     Monday     Tuesday         23          23   \n",
              "\n",
              "        pickup_timeofday dropoff_timeofday  trip_month   distance  \n",
              "978342             Night           Evening           2  19.926608  \n",
              "924111           Morning             Night           1   1.633027  \n",
              "680570             Night         Afternoon           2   5.992874  \n",
              "354994             Night           Morning           1  20.160235  \n",
              "1234240            Night             Night           2  20.666941  "
            ],
            "text/html": [
              "\n",
              "  <div id=\"df-c659cd65-2228-42eb-a77e-5330a2c74ff0\">\n",
              "    <div class=\"colab-df-container\">\n",
              "      <div>\n",
              "<style scoped>\n",
              "    .dataframe tbody tr th:only-of-type {\n",
              "        vertical-align: middle;\n",
              "    }\n",
              "\n",
              "    .dataframe tbody tr th {\n",
              "        vertical-align: top;\n",
              "    }\n",
              "\n",
              "    .dataframe thead th {\n",
              "        text-align: right;\n",
              "    }\n",
              "</style>\n",
              "<table border=\"1\" class=\"dataframe\">\n",
              "  <thead>\n",
              "    <tr style=\"text-align: right;\">\n",
              "      <th></th>\n",
              "      <th>id</th>\n",
              "      <th>vendor_id</th>\n",
              "      <th>pickup_datetime</th>\n",
              "      <th>dropoff_datetime</th>\n",
              "      <th>passenger_count</th>\n",
              "      <th>pickup_longitude</th>\n",
              "      <th>pickup_latitude</th>\n",
              "      <th>dropoff_longitude</th>\n",
              "      <th>dropoff_latitude</th>\n",
              "      <th>store_and_fwd_flag</th>\n",
              "      <th>trip_duration</th>\n",
              "      <th>pickup_day</th>\n",
              "      <th>dropoff_day</th>\n",
              "      <th>pickup_hr</th>\n",
              "      <th>dropoff_hr</th>\n",
              "      <th>pickup_timeofday</th>\n",
              "      <th>dropoff_timeofday</th>\n",
              "      <th>trip_month</th>\n",
              "      <th>distance</th>\n",
              "    </tr>\n",
              "  </thead>\n",
              "  <tbody>\n",
              "    <tr>\n",
              "      <th>978342</th>\n",
              "      <td>id0053347</td>\n",
              "      <td>1</td>\n",
              "      <td>2016-02-13 22:46:52</td>\n",
              "      <td>2016-03-25 18:18:14</td>\n",
              "      <td>1</td>\n",
              "      <td>-73.783905</td>\n",
              "      <td>40.648632</td>\n",
              "      <td>-73.978271</td>\n",
              "      <td>40.750202</td>\n",
              "      <td>N</td>\n",
              "      <td>3526282</td>\n",
              "      <td>Saturday</td>\n",
              "      <td>Friday</td>\n",
              "      <td>22</td>\n",
              "      <td>18</td>\n",
              "      <td>Night</td>\n",
              "      <td>Evening</td>\n",
              "      <td>2</td>\n",
              "      <td>19.926608</td>\n",
              "    </tr>\n",
              "    <tr>\n",
              "      <th>924111</th>\n",
              "      <td>id1325766</td>\n",
              "      <td>1</td>\n",
              "      <td>2016-01-05 06:14:15</td>\n",
              "      <td>2016-01-31 01:01:07</td>\n",
              "      <td>1</td>\n",
              "      <td>-73.983788</td>\n",
              "      <td>40.742325</td>\n",
              "      <td>-73.985489</td>\n",
              "      <td>40.727676</td>\n",
              "      <td>N</td>\n",
              "      <td>2227612</td>\n",
              "      <td>Tuesday</td>\n",
              "      <td>Sunday</td>\n",
              "      <td>6</td>\n",
              "      <td>1</td>\n",
              "      <td>Morning</td>\n",
              "      <td>Night</td>\n",
              "      <td>1</td>\n",
              "      <td>1.633027</td>\n",
              "    </tr>\n",
              "    <tr>\n",
              "      <th>680570</th>\n",
              "      <td>id0369307</td>\n",
              "      <td>1</td>\n",
              "      <td>2016-02-13 22:38:00</td>\n",
              "      <td>2016-03-08 15:57:38</td>\n",
              "      <td>2</td>\n",
              "      <td>-73.921677</td>\n",
              "      <td>40.735252</td>\n",
              "      <td>-73.984749</td>\n",
              "      <td>40.759979</td>\n",
              "      <td>N</td>\n",
              "      <td>2049578</td>\n",
              "      <td>Saturday</td>\n",
              "      <td>Tuesday</td>\n",
              "      <td>22</td>\n",
              "      <td>15</td>\n",
              "      <td>Night</td>\n",
              "      <td>Afternoon</td>\n",
              "      <td>2</td>\n",
              "      <td>5.992874</td>\n",
              "    </tr>\n",
              "    <tr>\n",
              "      <th>354994</th>\n",
              "      <td>id1864733</td>\n",
              "      <td>1</td>\n",
              "      <td>2016-01-05 00:19:42</td>\n",
              "      <td>2016-01-27 11:08:38</td>\n",
              "      <td>1</td>\n",
              "      <td>-73.789650</td>\n",
              "      <td>40.643559</td>\n",
              "      <td>-73.956810</td>\n",
              "      <td>40.773087</td>\n",
              "      <td>N</td>\n",
              "      <td>1939736</td>\n",
              "      <td>Tuesday</td>\n",
              "      <td>Wednesday</td>\n",
              "      <td>0</td>\n",
              "      <td>11</td>\n",
              "      <td>Night</td>\n",
              "      <td>Morning</td>\n",
              "      <td>1</td>\n",
              "      <td>20.160235</td>\n",
              "    </tr>\n",
              "    <tr>\n",
              "      <th>1234240</th>\n",
              "      <td>id1942836</td>\n",
              "      <td>2</td>\n",
              "      <td>2016-02-15 23:18:06</td>\n",
              "      <td>2016-02-16 23:17:58</td>\n",
              "      <td>2</td>\n",
              "      <td>-73.794525</td>\n",
              "      <td>40.644825</td>\n",
              "      <td>-73.991051</td>\n",
              "      <td>40.755573</td>\n",
              "      <td>N</td>\n",
              "      <td>86392</td>\n",
              "      <td>Monday</td>\n",
              "      <td>Tuesday</td>\n",
              "      <td>23</td>\n",
              "      <td>23</td>\n",
              "      <td>Night</td>\n",
              "      <td>Night</td>\n",
              "      <td>2</td>\n",
              "      <td>20.666941</td>\n",
              "    </tr>\n",
              "  </tbody>\n",
              "</table>\n",
              "</div>\n",
              "      <button class=\"colab-df-convert\" onclick=\"convertToInteractive('df-c659cd65-2228-42eb-a77e-5330a2c74ff0')\"\n",
              "              title=\"Convert this dataframe to an interactive table.\"\n",
              "              style=\"display:none;\">\n",
              "        \n",
              "  <svg xmlns=\"http://www.w3.org/2000/svg\" height=\"24px\"viewBox=\"0 0 24 24\"\n",
              "       width=\"24px\">\n",
              "    <path d=\"M0 0h24v24H0V0z\" fill=\"none\"/>\n",
              "    <path d=\"M18.56 5.44l.94 2.06.94-2.06 2.06-.94-2.06-.94-.94-2.06-.94 2.06-2.06.94zm-11 1L8.5 8.5l.94-2.06 2.06-.94-2.06-.94L8.5 2.5l-.94 2.06-2.06.94zm10 10l.94 2.06.94-2.06 2.06-.94-2.06-.94-.94-2.06-.94 2.06-2.06.94z\"/><path d=\"M17.41 7.96l-1.37-1.37c-.4-.4-.92-.59-1.43-.59-.52 0-1.04.2-1.43.59L10.3 9.45l-7.72 7.72c-.78.78-.78 2.05 0 2.83L4 21.41c.39.39.9.59 1.41.59.51 0 1.02-.2 1.41-.59l7.78-7.78 2.81-2.81c.8-.78.8-2.07 0-2.86zM5.41 20L4 18.59l7.72-7.72 1.47 1.35L5.41 20z\"/>\n",
              "  </svg>\n",
              "      </button>\n",
              "      \n",
              "  <style>\n",
              "    .colab-df-container {\n",
              "      display:flex;\n",
              "      flex-wrap:wrap;\n",
              "      gap: 12px;\n",
              "    }\n",
              "\n",
              "    .colab-df-convert {\n",
              "      background-color: #E8F0FE;\n",
              "      border: none;\n",
              "      border-radius: 50%;\n",
              "      cursor: pointer;\n",
              "      display: none;\n",
              "      fill: #1967D2;\n",
              "      height: 32px;\n",
              "      padding: 0 0 0 0;\n",
              "      width: 32px;\n",
              "    }\n",
              "\n",
              "    .colab-df-convert:hover {\n",
              "      background-color: #E2EBFA;\n",
              "      box-shadow: 0px 1px 2px rgba(60, 64, 67, 0.3), 0px 1px 3px 1px rgba(60, 64, 67, 0.15);\n",
              "      fill: #174EA6;\n",
              "    }\n",
              "\n",
              "    [theme=dark] .colab-df-convert {\n",
              "      background-color: #3B4455;\n",
              "      fill: #D2E3FC;\n",
              "    }\n",
              "\n",
              "    [theme=dark] .colab-df-convert:hover {\n",
              "      background-color: #434B5C;\n",
              "      box-shadow: 0px 1px 3px 1px rgba(0, 0, 0, 0.15);\n",
              "      filter: drop-shadow(0px 1px 2px rgba(0, 0, 0, 0.3));\n",
              "      fill: #FFFFFF;\n",
              "    }\n",
              "  </style>\n",
              "\n",
              "      <script>\n",
              "        const buttonEl =\n",
              "          document.querySelector('#df-c659cd65-2228-42eb-a77e-5330a2c74ff0 button.colab-df-convert');\n",
              "        buttonEl.style.display =\n",
              "          google.colab.kernel.accessAllowed ? 'block' : 'none';\n",
              "\n",
              "        async function convertToInteractive(key) {\n",
              "          const element = document.querySelector('#df-c659cd65-2228-42eb-a77e-5330a2c74ff0');\n",
              "          const dataTable =\n",
              "            await google.colab.kernel.invokeFunction('convertToInteractive',\n",
              "                                                     [key], {});\n",
              "          if (!dataTable) return;\n",
              "\n",
              "          const docLinkHtml = 'Like what you see? Visit the ' +\n",
              "            '<a target=\"_blank\" href=https://colab.research.google.com/notebooks/data_table.ipynb>data table notebook</a>'\n",
              "            + ' to learn more about interactive tables.';\n",
              "          element.innerHTML = '';\n",
              "          dataTable['output_type'] = 'display_data';\n",
              "          await google.colab.output.renderOutput(dataTable, element);\n",
              "          const docLink = document.createElement('div');\n",
              "          docLink.innerHTML = docLinkHtml;\n",
              "          element.appendChild(docLink);\n",
              "        }\n",
              "      </script>\n",
              "    </div>\n",
              "  </div>\n",
              "  "
            ]
          },
          "metadata": {},
          "execution_count": 151
        }
      ]
    },
    {
      "cell_type": "markdown",
      "source": [
        "After sorting out the dataset with respect to trip_duration in descending order we found out that the longest trip durations 3526282s, 2227612s, 2049578s and 1939736s are clearly outliers as the corresponding distance covered for the same trips are 19.9km, 1.6km, 5.99km and 20.16km. There might be several reasons for this - \n",
        "* The driver have enter the dropoff time wrongly.\n",
        "* The driver might have forgotten to record the dropoff time and lately when he remembers he could have recorded any random time.\n",
        "\n",
        "Clearly, time taken for for such trips shouldn't be that high so, we have to remove these outliers."
      ],
      "metadata": {
        "id": "O81ZWyK65_dS"
      }
    },
    {
      "cell_type": "markdown",
      "source": [
        "For removing these outliers I am calculating the average speed for the whole dataset and then I will use the equation, \n",
        "trip_duration = distance/average_speed \n",
        "for approximately calculating trip_duration for these outliers."
      ],
      "metadata": {
        "id": "2nNG0JAr7cDV"
      }
    },
    {
      "cell_type": "code",
      "source": [
        "#Calculating the average speed considering all the entries except for the outliers.\n",
        "total_distance = nyc_taxi_df.sort_values(by = 'trip_duration', ascending = False).loc[5:,['distance']].values.sum()\n",
        "total_duration = nyc_taxi_df.sort_values(by = 'trip_duration', ascending = False).loc[5:,['trip_duration']].values.sum()\n",
        "avg_speed = total_distance/total_duration\n",
        "print(f'Total Distance - {total_distance} km')\n",
        "print(f'Total Duration - {total_duration} s')\n",
        "print(f'Average Speed - {avg_speed} km/s')"
      ],
      "metadata": {
        "colab": {
          "base_uri": "https://localhost:8080/"
        },
        "id": "2x2es1Fw0ykG",
        "outputId": "39230c63-1278-460e-979e-ad385ba69eb2"
      },
      "execution_count": 152,
      "outputs": [
        {
          "output_type": "stream",
          "name": "stdout",
          "text": [
            "Total Distance - 503799.6484398022 km\n",
            "Total Duration - 124279144 s\n",
            "Average Speed - 0.004053774689981789 km/s\n"
          ]
        }
      ]
    },
    {
      "cell_type": "code",
      "source": [
        "#Function to change the trip_duration for outliers.\n",
        "def change_trip_duration(speed, distance):\n",
        "  duration = distance/avg_speed\n",
        "  return (int(duration))"
      ],
      "metadata": {
        "id": "QsrgXtDS4F9P"
      },
      "execution_count": 153,
      "outputs": []
    },
    {
      "cell_type": "code",
      "source": [
        "#Changing the outliers for trip_duration\n",
        "nyc_taxi_df.reset_index(inplace = True, drop = True)\n",
        "for rows in range(1,nyc_taxi_df.shape[0]):\n",
        "  if nyc_taxi_df['trip_duration'][rows] > 1000000:\n",
        "    nyc_taxi_df['trip_duration'][rows] = change_trip_duration(avg_speed, nyc_taxi_df['distance'][rows])\n",
        "    #print (nyc_taxi_df['trip_duration'][i])\n",
        "\n",
        "nyc_taxi_df.sort_values(by = 'trip_duration', ascending = False).head()"
      ],
      "metadata": {
        "colab": {
          "base_uri": "https://localhost:8080/",
          "height": 357
        },
        "id": "HtPVkGYYXwXp",
        "outputId": "1eab87b6-d96c-4b04-f043-4be5e7e5658b"
      },
      "execution_count": 154,
      "outputs": [
        {
          "output_type": "execute_result",
          "data": {
            "text/plain": [
              "                id  vendor_id     pickup_datetime    dropoff_datetime  \\\n",
              "1234240  id1942836          2 2016-02-15 23:18:06 2016-02-16 23:17:58   \n",
              "295376   id0593332          2 2016-05-31 13:00:39 2016-06-01 13:00:30   \n",
              "73815    id0953667          2 2016-05-06 00:00:10 2016-05-07 00:00:00   \n",
              "59891    id2837671          2 2016-06-30 16:37:52 2016-07-01 16:37:39   \n",
              "1360381  id1358458          2 2016-06-23 16:01:45 2016-06-24 16:01:30   \n",
              "\n",
              "         passenger_count  pickup_longitude  pickup_latitude  \\\n",
              "1234240                2        -73.794525        40.644825   \n",
              "295376                 1        -73.781952        40.644688   \n",
              "73815                  1        -73.996010        40.753220   \n",
              "59891                  1        -73.992279        40.749729   \n",
              "1360381                1        -73.782089        40.644806   \n",
              "\n",
              "         dropoff_longitude  dropoff_latitude store_and_fwd_flag  \\\n",
              "1234240         -73.991051         40.755573                  N   \n",
              "295376          -73.993874         40.745926                  N   \n",
              "73815           -73.979027         40.740601                  N   \n",
              "59891           -73.962524         40.800770                  N   \n",
              "1360381         -73.985016         40.666828                  N   \n",
              "\n",
              "         trip_duration pickup_day dropoff_day  pickup_hr  dropoff_hr  \\\n",
              "1234240          86392     Monday     Tuesday         23          23   \n",
              "295376           86391    Tuesday   Wednesday         13          13   \n",
              "73815            86390     Friday    Saturday          0           0   \n",
              "59891            86387   Thursday      Friday         16          16   \n",
              "1360381          86385   Thursday      Friday         16          16   \n",
              "\n",
              "        pickup_timeofday dropoff_timeofday  trip_month   distance  \n",
              "1234240            Night             Night           2  20.666941  \n",
              "295376         Afternoon         Afternoon           5  21.147722  \n",
              "73815              Night             Night           5   2.005244  \n",
              "59891          Afternoon         Afternoon           6   6.199703  \n",
              "1360381        Afternoon         Afternoon           6  17.335134  "
            ],
            "text/html": [
              "\n",
              "  <div id=\"df-34a80a7f-8ecc-4a2f-bf00-5b5ab25069c4\">\n",
              "    <div class=\"colab-df-container\">\n",
              "      <div>\n",
              "<style scoped>\n",
              "    .dataframe tbody tr th:only-of-type {\n",
              "        vertical-align: middle;\n",
              "    }\n",
              "\n",
              "    .dataframe tbody tr th {\n",
              "        vertical-align: top;\n",
              "    }\n",
              "\n",
              "    .dataframe thead th {\n",
              "        text-align: right;\n",
              "    }\n",
              "</style>\n",
              "<table border=\"1\" class=\"dataframe\">\n",
              "  <thead>\n",
              "    <tr style=\"text-align: right;\">\n",
              "      <th></th>\n",
              "      <th>id</th>\n",
              "      <th>vendor_id</th>\n",
              "      <th>pickup_datetime</th>\n",
              "      <th>dropoff_datetime</th>\n",
              "      <th>passenger_count</th>\n",
              "      <th>pickup_longitude</th>\n",
              "      <th>pickup_latitude</th>\n",
              "      <th>dropoff_longitude</th>\n",
              "      <th>dropoff_latitude</th>\n",
              "      <th>store_and_fwd_flag</th>\n",
              "      <th>trip_duration</th>\n",
              "      <th>pickup_day</th>\n",
              "      <th>dropoff_day</th>\n",
              "      <th>pickup_hr</th>\n",
              "      <th>dropoff_hr</th>\n",
              "      <th>pickup_timeofday</th>\n",
              "      <th>dropoff_timeofday</th>\n",
              "      <th>trip_month</th>\n",
              "      <th>distance</th>\n",
              "    </tr>\n",
              "  </thead>\n",
              "  <tbody>\n",
              "    <tr>\n",
              "      <th>1234240</th>\n",
              "      <td>id1942836</td>\n",
              "      <td>2</td>\n",
              "      <td>2016-02-15 23:18:06</td>\n",
              "      <td>2016-02-16 23:17:58</td>\n",
              "      <td>2</td>\n",
              "      <td>-73.794525</td>\n",
              "      <td>40.644825</td>\n",
              "      <td>-73.991051</td>\n",
              "      <td>40.755573</td>\n",
              "      <td>N</td>\n",
              "      <td>86392</td>\n",
              "      <td>Monday</td>\n",
              "      <td>Tuesday</td>\n",
              "      <td>23</td>\n",
              "      <td>23</td>\n",
              "      <td>Night</td>\n",
              "      <td>Night</td>\n",
              "      <td>2</td>\n",
              "      <td>20.666941</td>\n",
              "    </tr>\n",
              "    <tr>\n",
              "      <th>295376</th>\n",
              "      <td>id0593332</td>\n",
              "      <td>2</td>\n",
              "      <td>2016-05-31 13:00:39</td>\n",
              "      <td>2016-06-01 13:00:30</td>\n",
              "      <td>1</td>\n",
              "      <td>-73.781952</td>\n",
              "      <td>40.644688</td>\n",
              "      <td>-73.993874</td>\n",
              "      <td>40.745926</td>\n",
              "      <td>N</td>\n",
              "      <td>86391</td>\n",
              "      <td>Tuesday</td>\n",
              "      <td>Wednesday</td>\n",
              "      <td>13</td>\n",
              "      <td>13</td>\n",
              "      <td>Afternoon</td>\n",
              "      <td>Afternoon</td>\n",
              "      <td>5</td>\n",
              "      <td>21.147722</td>\n",
              "    </tr>\n",
              "    <tr>\n",
              "      <th>73815</th>\n",
              "      <td>id0953667</td>\n",
              "      <td>2</td>\n",
              "      <td>2016-05-06 00:00:10</td>\n",
              "      <td>2016-05-07 00:00:00</td>\n",
              "      <td>1</td>\n",
              "      <td>-73.996010</td>\n",
              "      <td>40.753220</td>\n",
              "      <td>-73.979027</td>\n",
              "      <td>40.740601</td>\n",
              "      <td>N</td>\n",
              "      <td>86390</td>\n",
              "      <td>Friday</td>\n",
              "      <td>Saturday</td>\n",
              "      <td>0</td>\n",
              "      <td>0</td>\n",
              "      <td>Night</td>\n",
              "      <td>Night</td>\n",
              "      <td>5</td>\n",
              "      <td>2.005244</td>\n",
              "    </tr>\n",
              "    <tr>\n",
              "      <th>59891</th>\n",
              "      <td>id2837671</td>\n",
              "      <td>2</td>\n",
              "      <td>2016-06-30 16:37:52</td>\n",
              "      <td>2016-07-01 16:37:39</td>\n",
              "      <td>1</td>\n",
              "      <td>-73.992279</td>\n",
              "      <td>40.749729</td>\n",
              "      <td>-73.962524</td>\n",
              "      <td>40.800770</td>\n",
              "      <td>N</td>\n",
              "      <td>86387</td>\n",
              "      <td>Thursday</td>\n",
              "      <td>Friday</td>\n",
              "      <td>16</td>\n",
              "      <td>16</td>\n",
              "      <td>Afternoon</td>\n",
              "      <td>Afternoon</td>\n",
              "      <td>6</td>\n",
              "      <td>6.199703</td>\n",
              "    </tr>\n",
              "    <tr>\n",
              "      <th>1360381</th>\n",
              "      <td>id1358458</td>\n",
              "      <td>2</td>\n",
              "      <td>2016-06-23 16:01:45</td>\n",
              "      <td>2016-06-24 16:01:30</td>\n",
              "      <td>1</td>\n",
              "      <td>-73.782089</td>\n",
              "      <td>40.644806</td>\n",
              "      <td>-73.985016</td>\n",
              "      <td>40.666828</td>\n",
              "      <td>N</td>\n",
              "      <td>86385</td>\n",
              "      <td>Thursday</td>\n",
              "      <td>Friday</td>\n",
              "      <td>16</td>\n",
              "      <td>16</td>\n",
              "      <td>Afternoon</td>\n",
              "      <td>Afternoon</td>\n",
              "      <td>6</td>\n",
              "      <td>17.335134</td>\n",
              "    </tr>\n",
              "  </tbody>\n",
              "</table>\n",
              "</div>\n",
              "      <button class=\"colab-df-convert\" onclick=\"convertToInteractive('df-34a80a7f-8ecc-4a2f-bf00-5b5ab25069c4')\"\n",
              "              title=\"Convert this dataframe to an interactive table.\"\n",
              "              style=\"display:none;\">\n",
              "        \n",
              "  <svg xmlns=\"http://www.w3.org/2000/svg\" height=\"24px\"viewBox=\"0 0 24 24\"\n",
              "       width=\"24px\">\n",
              "    <path d=\"M0 0h24v24H0V0z\" fill=\"none\"/>\n",
              "    <path d=\"M18.56 5.44l.94 2.06.94-2.06 2.06-.94-2.06-.94-.94-2.06-.94 2.06-2.06.94zm-11 1L8.5 8.5l.94-2.06 2.06-.94-2.06-.94L8.5 2.5l-.94 2.06-2.06.94zm10 10l.94 2.06.94-2.06 2.06-.94-2.06-.94-.94-2.06-.94 2.06-2.06.94z\"/><path d=\"M17.41 7.96l-1.37-1.37c-.4-.4-.92-.59-1.43-.59-.52 0-1.04.2-1.43.59L10.3 9.45l-7.72 7.72c-.78.78-.78 2.05 0 2.83L4 21.41c.39.39.9.59 1.41.59.51 0 1.02-.2 1.41-.59l7.78-7.78 2.81-2.81c.8-.78.8-2.07 0-2.86zM5.41 20L4 18.59l7.72-7.72 1.47 1.35L5.41 20z\"/>\n",
              "  </svg>\n",
              "      </button>\n",
              "      \n",
              "  <style>\n",
              "    .colab-df-container {\n",
              "      display:flex;\n",
              "      flex-wrap:wrap;\n",
              "      gap: 12px;\n",
              "    }\n",
              "\n",
              "    .colab-df-convert {\n",
              "      background-color: #E8F0FE;\n",
              "      border: none;\n",
              "      border-radius: 50%;\n",
              "      cursor: pointer;\n",
              "      display: none;\n",
              "      fill: #1967D2;\n",
              "      height: 32px;\n",
              "      padding: 0 0 0 0;\n",
              "      width: 32px;\n",
              "    }\n",
              "\n",
              "    .colab-df-convert:hover {\n",
              "      background-color: #E2EBFA;\n",
              "      box-shadow: 0px 1px 2px rgba(60, 64, 67, 0.3), 0px 1px 3px 1px rgba(60, 64, 67, 0.15);\n",
              "      fill: #174EA6;\n",
              "    }\n",
              "\n",
              "    [theme=dark] .colab-df-convert {\n",
              "      background-color: #3B4455;\n",
              "      fill: #D2E3FC;\n",
              "    }\n",
              "\n",
              "    [theme=dark] .colab-df-convert:hover {\n",
              "      background-color: #434B5C;\n",
              "      box-shadow: 0px 1px 3px 1px rgba(0, 0, 0, 0.15);\n",
              "      filter: drop-shadow(0px 1px 2px rgba(0, 0, 0, 0.3));\n",
              "      fill: #FFFFFF;\n",
              "    }\n",
              "  </style>\n",
              "\n",
              "      <script>\n",
              "        const buttonEl =\n",
              "          document.querySelector('#df-34a80a7f-8ecc-4a2f-bf00-5b5ab25069c4 button.colab-df-convert');\n",
              "        buttonEl.style.display =\n",
              "          google.colab.kernel.accessAllowed ? 'block' : 'none';\n",
              "\n",
              "        async function convertToInteractive(key) {\n",
              "          const element = document.querySelector('#df-34a80a7f-8ecc-4a2f-bf00-5b5ab25069c4');\n",
              "          const dataTable =\n",
              "            await google.colab.kernel.invokeFunction('convertToInteractive',\n",
              "                                                     [key], {});\n",
              "          if (!dataTable) return;\n",
              "\n",
              "          const docLinkHtml = 'Like what you see? Visit the ' +\n",
              "            '<a target=\"_blank\" href=https://colab.research.google.com/notebooks/data_table.ipynb>data table notebook</a>'\n",
              "            + ' to learn more about interactive tables.';\n",
              "          element.innerHTML = '';\n",
              "          dataTable['output_type'] = 'display_data';\n",
              "          await google.colab.output.renderOutput(dataTable, element);\n",
              "          const docLink = document.createElement('div');\n",
              "          docLink.innerHTML = docLinkHtml;\n",
              "          element.appendChild(docLink);\n",
              "        }\n",
              "      </script>\n",
              "    </div>\n",
              "  </div>\n",
              "  "
            ]
          },
          "metadata": {},
          "execution_count": 154
        }
      ]
    },
    {
      "cell_type": "code",
      "source": [
        "#Checking the distribution of trip_duration again after removing the outliers.\n",
        "plt.figure(figsize=(10,5))\n",
        "plt.title(\"Distribution of Trip Duration\")\n",
        "sns.distplot(nyc_taxi_df['trip_duration'])\n",
        "plt.show()"
      ],
      "metadata": {
        "colab": {
          "base_uri": "https://localhost:8080/",
          "height": 351
        },
        "id": "KEw2NsmEpkXR",
        "outputId": "78ee53c3-9d31-4ad0-f733-f406ef6a5102"
      },
      "execution_count": 155,
      "outputs": [
        {
          "output_type": "display_data",
          "data": {
            "text/plain": [
              "<Figure size 720x360 with 1 Axes>"
            ],
            "image/png": "[encoded data removed]"
          },
          "metadata": {
            "needs_background": "light"
          }
        }
      ]
    },
    {
      "cell_type": "markdown",
      "source": [
        "After removing the outlier skewness is improved still there is some skewness in the data which will improve after doing the log transformation of the data."
      ],
      "metadata": {
        "id": "bJqPDhecoAU6"
      }
    },
    {
      "cell_type": "markdown",
      "source": [
        "### **Exploring store_and_fwd_flag column**"
      ],
      "metadata": {
        "id": "lQWbOhtJT2qy"
      }
    },
    {
      "cell_type": "code",
      "source": [
        "#Checking the number of store and forward trips.\n",
        "nyc_taxi_df['store_and_fwd_flag'].value_counts()"
      ],
      "metadata": {
        "id": "7igS2n93G9Ej",
        "colab": {
          "base_uri": "https://localhost:8080/"
        },
        "outputId": "e66704e2-7194-42e7-9daf-10e2fe750c15"
      },
      "execution_count": 156,
      "outputs": [
        {
          "output_type": "execute_result",
          "data": {
            "text/plain": [
              "N    1450537\n",
              "Y       8042\n",
              "Name: store_and_fwd_flag, dtype: int64"
            ]
          },
          "metadata": {},
          "execution_count": 156
        }
      ]
    },
    {
      "cell_type": "markdown",
      "source": [
        "The above data shows that 8042 trips record was held in vehicle memory before sending to the vendor because the vehicle did not have a connection to the server. The major reason might be that the trip was done for outstation where network was not good or the driver doesn't have proper network strength to share the data real time to the server."
      ],
      "metadata": {
        "id": "4ORSINOFUWI5"
      }
    },
    {
      "cell_type": "code",
      "source": [
        "#Exploring the dataset more where store_and_fwd_flag is 'Y'.\n",
        "nyc_taxi_df[nyc_taxi_df['store_and_fwd_flag'] == 'Y']"
      ],
      "metadata": {
        "colab": {
          "base_uri": "https://localhost:8080/",
          "height": 661
        },
        "id": "7Ru8zEWZUEJV",
        "outputId": "650525b5-ee8e-4560-f8f4-df5ccf167d12"
      },
      "execution_count": 157,
      "outputs": [
        {
          "output_type": "execute_result",
          "data": {
            "text/plain": [
              "                id  vendor_id     pickup_datetime    dropoff_datetime  \\\n",
              "348      id1633648          1 2016-06-20 14:19:16 2016-06-20 14:34:34   \n",
              "491      id2042535          1 2016-02-12 12:36:38 2016-02-12 12:47:07   \n",
              "610      id0909228          1 2016-05-08 15:02:28 2016-05-08 15:17:54   \n",
              "774      id3697489          1 2016-01-13 13:53:29 2016-01-13 14:08:21   \n",
              "846      id1026973          1 2016-06-25 21:53:30 2016-06-25 22:05:27   \n",
              "...            ...        ...                 ...                 ...   \n",
              "1457491  id2229555          1 2016-01-22 19:05:50 2016-01-22 19:27:09   \n",
              "1457605  id0510811          1 2016-04-07 21:14:30 2016-04-07 21:51:38   \n",
              "1457832  id3209015          1 2016-03-20 18:49:55 2016-03-20 19:09:25   \n",
              "1457995  id1371896          1 2016-03-28 11:45:49 2016-03-28 12:21:45   \n",
              "1458351  id2463060          1 2016-01-04 14:35:34 2016-01-04 14:45:26   \n",
              "\n",
              "         passenger_count  pickup_longitude  pickup_latitude  \\\n",
              "348                    1        -73.977905        40.754871   \n",
              "491                    1        -73.978981        40.756519   \n",
              "610                    1        -73.988510        40.742935   \n",
              "774                    1        -73.948982        40.781578   \n",
              "846                    1        -73.982628        40.762341   \n",
              "...                  ...               ...              ...   \n",
              "1457491                1        -73.874535        40.774082   \n",
              "1457605                1        -73.781944        40.644760   \n",
              "1457832                1        -73.990097        40.714352   \n",
              "1457995                1        -73.971008        40.759079   \n",
              "1458351                1        -73.985489        40.753231   \n",
              "\n",
              "         dropoff_longitude  dropoff_latitude store_and_fwd_flag  \\\n",
              "348             -73.952774         40.768166                  Y   \n",
              "491             -73.992165         40.749203                  Y   \n",
              "610             -74.010620         40.723507                  Y   \n",
              "774             -73.982346         40.778923                  Y   \n",
              "846             -73.995537         40.749779                  Y   \n",
              "...                    ...               ...                ...   \n",
              "1457491         -73.925362         40.732521                  Y   \n",
              "1457605         -73.976173         40.670235                  Y   \n",
              "1457832         -74.002579         40.750145                  Y   \n",
              "1457995         -74.010025         40.720810                  Y   \n",
              "1458351         -73.982491         40.768139                  Y   \n",
              "\n",
              "         trip_duration pickup_day dropoff_day  pickup_hr  dropoff_hr  \\\n",
              "348                918     Monday      Monday         14          14   \n",
              "491                629     Friday      Friday         12          12   \n",
              "610                926     Sunday      Sunday         15          15   \n",
              "774                892  Wednesday   Wednesday         13          14   \n",
              "846                717   Saturday    Saturday         21          22   \n",
              "...                ...        ...         ...        ...         ...   \n",
              "1457491           1279     Friday      Friday         19          19   \n",
              "1457605           2228   Thursday    Thursday         21          21   \n",
              "1457832           1170     Sunday      Sunday         18          19   \n",
              "1457995           2156     Monday      Monday         11          12   \n",
              "1458351            592     Monday      Monday         14          14   \n",
              "\n",
              "        pickup_timeofday dropoff_timeofday  trip_month   distance  \n",
              "348            Afternoon         Afternoon           6   2.585050  \n",
              "491            Afternoon         Afternoon           2   1.378288  \n",
              "610            Afternoon         Afternoon           5   2.853606  \n",
              "774            Afternoon         Afternoon           1   2.831724  \n",
              "846              Evening             Night           6   1.770384  \n",
              "...                  ...               ...         ...        ...  \n",
              "1457491          Evening           Evening           1   6.302747  \n",
              "1457605          Evening           Evening           4  16.667616  \n",
              "1457832          Evening           Evening           3   4.112272  \n",
              "1457995          Morning         Afternoon           3   5.377813  \n",
              "1458351        Afternoon         Afternoon           1   1.674752  \n",
              "\n",
              "[8042 rows x 19 columns]"
            ],
            "text/html": [
              "\n",
              "  <div id=\"df-224f03a6-0682-4006-a1d6-51cabdcadd25\">\n",
              "    <div class=\"colab-df-container\">\n",
              "      <div>\n",
              "<style scoped>\n",
              "    .dataframe tbody tr th:only-of-type {\n",
              "        vertical-align: middle;\n",
              "    }\n",
              "\n",
              "    .dataframe tbody tr th {\n",
              "        vertical-align: top;\n",
              "    }\n",
              "\n",
              "    .dataframe thead th {\n",
              "        text-align: right;\n",
              "    }\n",
              "</style>\n",
              "<table border=\"1\" class=\"dataframe\">\n",
              "  <thead>\n",
              "    <tr style=\"text-align: right;\">\n",
              "      <th></th>\n",
              "      <th>id</th>\n",
              "      <th>vendor_id</th>\n",
              "      <th>pickup_datetime</th>\n",
              "      <th>dropoff_datetime</th>\n",
              "      <th>passenger_count</th>\n",
              "      <th>pickup_longitude</th>\n",
              "      <th>pickup_latitude</th>\n",
              "      <th>dropoff_longitude</th>\n",
              "      <th>dropoff_latitude</th>\n",
              "      <th>store_and_fwd_flag</th>\n",
              "      <th>trip_duration</th>\n",
              "      <th>pickup_day</th>\n",
              "      <th>dropoff_day</th>\n",
              "      <th>pickup_hr</th>\n",
              "      <th>dropoff_hr</th>\n",
              "      <th>pickup_timeofday</th>\n",
              "      <th>dropoff_timeofday</th>\n",
              "      <th>trip_month</th>\n",
              "      <th>distance</th>\n",
              "    </tr>\n",
              "  </thead>\n",
              "  <tbody>\n",
              "    <tr>\n",
              "      <th>348</th>\n",
              "      <td>id1633648</td>\n",
              "      <td>1</td>\n",
              "      <td>2016-06-20 14:19:16</td>\n",
              "      <td>2016-06-20 14:34:34</td>\n",
              "      <td>1</td>\n",
              "      <td>-73.977905</td>\n",
              "      <td>40.754871</td>\n",
              "      <td>-73.952774</td>\n",
              "      <td>40.768166</td>\n",
              "      <td>Y</td>\n",
              "      <td>918</td>\n",
              "      <td>Monday</td>\n",
              "      <td>Monday</td>\n",
              "      <td>14</td>\n",
              "      <td>14</td>\n",
              "      <td>Afternoon</td>\n",
              "      <td>Afternoon</td>\n",
              "      <td>6</td>\n",
              "      <td>2.585050</td>\n",
              "    </tr>\n",
              "    <tr>\n",
              "      <th>491</th>\n",
              "      <td>id2042535</td>\n",
              "      <td>1</td>\n",
              "      <td>2016-02-12 12:36:38</td>\n",
              "      <td>2016-02-12 12:47:07</td>\n",
              "      <td>1</td>\n",
              "      <td>-73.978981</td>\n",
              "      <td>40.756519</td>\n",
              "      <td>-73.992165</td>\n",
              "      <td>40.749203</td>\n",
              "      <td>Y</td>\n",
              "      <td>629</td>\n",
              "      <td>Friday</td>\n",
              "      <td>Friday</td>\n",
              "      <td>12</td>\n",
              "      <td>12</td>\n",
              "      <td>Afternoon</td>\n",
              "      <td>Afternoon</td>\n",
              "      <td>2</td>\n",
              "      <td>1.378288</td>\n",
              "    </tr>\n",
              "    <tr>\n",
              "      <th>610</th>\n",
              "      <td>id0909228</td>\n",
              "      <td>1</td>\n",
              "      <td>2016-05-08 15:02:28</td>\n",
              "      <td>2016-05-08 15:17:54</td>\n",
              "      <td>1</td>\n",
              "      <td>-73.988510</td>\n",
              "      <td>40.742935</td>\n",
              "      <td>-74.010620</td>\n",
              "      <td>40.723507</td>\n",
              "      <td>Y</td>\n",
              "      <td>926</td>\n",
              "      <td>Sunday</td>\n",
              "      <td>Sunday</td>\n",
              "      <td>15</td>\n",
              "      <td>15</td>\n",
              "      <td>Afternoon</td>\n",
              "      <td>Afternoon</td>\n",
              "      <td>5</td>\n",
              "      <td>2.853606</td>\n",
              "    </tr>\n",
              "    <tr>\n",
              "      <th>774</th>\n",
              "      <td>id3697489</td>\n",
              "      <td>1</td>\n",
              "      <td>2016-01-13 13:53:29</td>\n",
              "      <td>2016-01-13 14:08:21</td>\n",
              "      <td>1</td>\n",
              "      <td>-73.948982</td>\n",
              "      <td>40.781578</td>\n",
              "      <td>-73.982346</td>\n",
              "      <td>40.778923</td>\n",
              "      <td>Y</td>\n",
              "      <td>892</td>\n",
              "      <td>Wednesday</td>\n",
              "      <td>Wednesday</td>\n",
              "      <td>13</td>\n",
              "      <td>14</td>\n",
              "      <td>Afternoon</td>\n",
              "      <td>Afternoon</td>\n",
              "      <td>1</td>\n",
              "      <td>2.831724</td>\n",
              "    </tr>\n",
              "    <tr>\n",
              "      <th>846</th>\n",
              "      <td>id1026973</td>\n",
              "      <td>1</td>\n",
              "      <td>2016-06-25 21:53:30</td>\n",
              "      <td>2016-06-25 22:05:27</td>\n",
              "      <td>1</td>\n",
              "      <td>-73.982628</td>\n",
              "      <td>40.762341</td>\n",
              "      <td>-73.995537</td>\n",
              "      <td>40.749779</td>\n",
              "      <td>Y</td>\n",
              "      <td>717</td>\n",
              "      <td>Saturday</td>\n",
              "      <td>Saturday</td>\n",
              "      <td>21</td>\n",
              "      <td>22</td>\n",
              "      <td>Evening</td>\n",
              "      <td>Night</td>\n",
              "      <td>6</td>\n",
              "      <td>1.770384</td>\n",
              "    </tr>\n",
              "    <tr>\n",
              "      <th>...</th>\n",
              "      <td>...</td>\n",
              "      <td>...</td>\n",
              "      <td>...</td>\n",
              "      <td>...</td>\n",
              "      <td>...</td>\n",
              "      <td>...</td>\n",
              "      <td>...</td>\n",
              "      <td>...</td>\n",
              "      <td>...</td>\n",
              "      <td>...</td>\n",
              "      <td>...</td>\n",
              "      <td>...</td>\n",
              "      <td>...</td>\n",
              "      <td>...</td>\n",
              "      <td>...</td>\n",
              "      <td>...</td>\n",
              "      <td>...</td>\n",
              "      <td>...</td>\n",
              "      <td>...</td>\n",
              "    </tr>\n",
              "    <tr>\n",
              "      <th>1457491</th>\n",
              "      <td>id2229555</td>\n",
              "      <td>1</td>\n",
              "      <td>2016-01-22 19:05:50</td>\n",
              "      <td>2016-01-22 19:27:09</td>\n",
              "      <td>1</td>\n",
              "      <td>-73.874535</td>\n",
              "      <td>40.774082</td>\n",
              "      <td>-73.925362</td>\n",
              "      <td>40.732521</td>\n",
              "      <td>Y</td>\n",
              "      <td>1279</td>\n",
              "      <td>Friday</td>\n",
              "      <td>Friday</td>\n",
              "      <td>19</td>\n",
              "      <td>19</td>\n",
              "      <td>Evening</td>\n",
              "      <td>Evening</td>\n",
              "      <td>1</td>\n",
              "      <td>6.302747</td>\n",
              "    </tr>\n",
              "    <tr>\n",
              "      <th>1457605</th>\n",
              "      <td>id0510811</td>\n",
              "      <td>1</td>\n",
              "      <td>2016-04-07 21:14:30</td>\n",
              "      <td>2016-04-07 21:51:38</td>\n",
              "      <td>1</td>\n",
              "      <td>-73.781944</td>\n",
              "      <td>40.644760</td>\n",
              "      <td>-73.976173</td>\n",
              "      <td>40.670235</td>\n",
              "      <td>Y</td>\n",
              "      <td>2228</td>\n",
              "      <td>Thursday</td>\n",
              "      <td>Thursday</td>\n",
              "      <td>21</td>\n",
              "      <td>21</td>\n",
              "      <td>Evening</td>\n",
              "      <td>Evening</td>\n",
              "      <td>4</td>\n",
              "      <td>16.667616</td>\n",
              "    </tr>\n",
              "    <tr>\n",
              "      <th>1457832</th>\n",
              "      <td>id3209015</td>\n",
              "      <td>1</td>\n",
              "      <td>2016-03-20 18:49:55</td>\n",
              "      <td>2016-03-20 19:09:25</td>\n",
              "      <td>1</td>\n",
              "      <td>-73.990097</td>\n",
              "      <td>40.714352</td>\n",
              "      <td>-74.002579</td>\n",
              "      <td>40.750145</td>\n",
              "      <td>Y</td>\n",
              "      <td>1170</td>\n",
              "      <td>Sunday</td>\n",
              "      <td>Sunday</td>\n",
              "      <td>18</td>\n",
              "      <td>19</td>\n",
              "      <td>Evening</td>\n",
              "      <td>Evening</td>\n",
              "      <td>3</td>\n",
              "      <td>4.112272</td>\n",
              "    </tr>\n",
              "    <tr>\n",
              "      <th>1457995</th>\n",
              "      <td>id1371896</td>\n",
              "      <td>1</td>\n",
              "      <td>2016-03-28 11:45:49</td>\n",
              "      <td>2016-03-28 12:21:45</td>\n",
              "      <td>1</td>\n",
              "      <td>-73.971008</td>\n",
              "      <td>40.759079</td>\n",
              "      <td>-74.010025</td>\n",
              "      <td>40.720810</td>\n",
              "      <td>Y</td>\n",
              "      <td>2156</td>\n",
              "      <td>Monday</td>\n",
              "      <td>Monday</td>\n",
              "      <td>11</td>\n",
              "      <td>12</td>\n",
              "      <td>Morning</td>\n",
              "      <td>Afternoon</td>\n",
              "      <td>3</td>\n",
              "      <td>5.377813</td>\n",
              "    </tr>\n",
              "    <tr>\n",
              "      <th>1458351</th>\n",
              "      <td>id2463060</td>\n",
              "      <td>1</td>\n",
              "      <td>2016-01-04 14:35:34</td>\n",
              "      <td>2016-01-04 14:45:26</td>\n",
              "      <td>1</td>\n",
              "      <td>-73.985489</td>\n",
              "      <td>40.753231</td>\n",
              "      <td>-73.982491</td>\n",
              "      <td>40.768139</td>\n",
              "      <td>Y</td>\n",
              "      <td>592</td>\n",
              "      <td>Monday</td>\n",
              "      <td>Monday</td>\n",
              "      <td>14</td>\n",
              "      <td>14</td>\n",
              "      <td>Afternoon</td>\n",
              "      <td>Afternoon</td>\n",
              "      <td>1</td>\n",
              "      <td>1.674752</td>\n",
              "    </tr>\n",
              "  </tbody>\n",
              "</table>\n",
              "<p>8042 rows × 19 columns</p>\n",
              "</div>\n",
              "      <button class=\"colab-df-convert\" onclick=\"convertToInteractive('df-224f03a6-0682-4006-a1d6-51cabdcadd25')\"\n",
              "              title=\"Convert this dataframe to an interactive table.\"\n",
              "              style=\"display:none;\">\n",
              "        \n",
              "  <svg xmlns=\"http://www.w3.org/2000/svg\" height=\"24px\"viewBox=\"0 0 24 24\"\n",
              "       width=\"24px\">\n",
              "    <path d=\"M0 0h24v24H0V0z\" fill=\"none\"/>\n",
              "    <path d=\"M18.56 5.44l.94 2.06.94-2.06 2.06-.94-2.06-.94-.94-2.06-.94 2.06-2.06.94zm-11 1L8.5 8.5l.94-2.06 2.06-.94-2.06-.94L8.5 2.5l-.94 2.06-2.06.94zm10 10l.94 2.06.94-2.06 2.06-.94-2.06-.94-.94-2.06-.94 2.06-2.06.94z\"/><path d=\"M17.41 7.96l-1.37-1.37c-.4-.4-.92-.59-1.43-.59-.52 0-1.04.2-1.43.59L10.3 9.45l-7.72 7.72c-.78.78-.78 2.05 0 2.83L4 21.41c.39.39.9.59 1.41.59.51 0 1.02-.2 1.41-.59l7.78-7.78 2.81-2.81c.8-.78.8-2.07 0-2.86zM5.41 20L4 18.59l7.72-7.72 1.47 1.35L5.41 20z\"/>\n",
              "  </svg>\n",
              "      </button>\n",
              "      \n",
              "  <style>\n",
              "    .colab-df-container {\n",
              "      display:flex;\n",
              "      flex-wrap:wrap;\n",
              "      gap: 12px;\n",
              "    }\n",
              "\n",
              "    .colab-df-convert {\n",
              "      background-color: #E8F0FE;\n",
              "      border: none;\n",
              "      border-radius: 50%;\n",
              "      cursor: pointer;\n",
              "      display: none;\n",
              "      fill: #1967D2;\n",
              "      height: 32px;\n",
              "      padding: 0 0 0 0;\n",
              "      width: 32px;\n",
              "    }\n",
              "\n",
              "    .colab-df-convert:hover {\n",
              "      background-color: #E2EBFA;\n",
              "      box-shadow: 0px 1px 2px rgba(60, 64, 67, 0.3), 0px 1px 3px 1px rgba(60, 64, 67, 0.15);\n",
              "      fill: #174EA6;\n",
              "    }\n",
              "\n",
              "    [theme=dark] .colab-df-convert {\n",
              "      background-color: #3B4455;\n",
              "      fill: #D2E3FC;\n",
              "    }\n",
              "\n",
              "    [theme=dark] .colab-df-convert:hover {\n",
              "      background-color: #434B5C;\n",
              "      box-shadow: 0px 1px 3px 1px rgba(0, 0, 0, 0.15);\n",
              "      filter: drop-shadow(0px 1px 2px rgba(0, 0, 0, 0.3));\n",
              "      fill: #FFFFFF;\n",
              "    }\n",
              "  </style>\n",
              "\n",
              "      <script>\n",
              "        const buttonEl =\n",
              "          document.querySelector('#df-224f03a6-0682-4006-a1d6-51cabdcadd25 button.colab-df-convert');\n",
              "        buttonEl.style.display =\n",
              "          google.colab.kernel.accessAllowed ? 'block' : 'none';\n",
              "\n",
              "        async function convertToInteractive(key) {\n",
              "          const element = document.querySelector('#df-224f03a6-0682-4006-a1d6-51cabdcadd25');\n",
              "          const dataTable =\n",
              "            await google.colab.kernel.invokeFunction('convertToInteractive',\n",
              "                                                     [key], {});\n",
              "          if (!dataTable) return;\n",
              "\n",
              "          const docLinkHtml = 'Like what you see? Visit the ' +\n",
              "            '<a target=\"_blank\" href=https://colab.research.google.com/notebooks/data_table.ipynb>data table notebook</a>'\n",
              "            + ' to learn more about interactive tables.';\n",
              "          element.innerHTML = '';\n",
              "          dataTable['output_type'] = 'display_data';\n",
              "          await google.colab.output.renderOutput(dataTable, element);\n",
              "          const docLink = document.createElement('div');\n",
              "          docLink.innerHTML = docLinkHtml;\n",
              "          element.appendChild(docLink);\n",
              "        }\n",
              "      </script>\n",
              "    </div>\n",
              "  </div>\n",
              "  "
            ]
          },
          "metadata": {},
          "execution_count": 157
        }
      ]
    },
    {
      "cell_type": "markdown",
      "source": [
        "In this data we can see that these trips are done by vendor 1 let's check if these trips are done by only vendor 1 or vendor 2 is also there."
      ],
      "metadata": {
        "id": "jnEGDOqhVsSP"
      }
    },
    {
      "cell_type": "code",
      "source": [
        "#Checking which vendor_id has store_and_fwd_flag as 'Y'\n",
        "nyc_taxi_df[nyc_taxi_df['store_and_fwd_flag'] == 'Y']['vendor_id'].value_counts()"
      ],
      "metadata": {
        "colab": {
          "base_uri": "https://localhost:8080/"
        },
        "id": "kIi1k2zwVNGL",
        "outputId": "5e88c567-de8a-489f-ae04-1056926de3bf"
      },
      "execution_count": 158,
      "outputs": [
        {
          "output_type": "execute_result",
          "data": {
            "text/plain": [
              "1    8042\n",
              "Name: vendor_id, dtype: int64"
            ]
          },
          "metadata": {},
          "execution_count": 158
        }
      ]
    },
    {
      "cell_type": "markdown",
      "source": [
        "From this we can infer that all the store_and_fwd_flag trips are done by vendor 1. So, vendor 1 has to work on its connectivity to the server so that it can share the data in realtime to the server."
      ],
      "metadata": {
        "id": "3uTT6llfWH2E"
      }
    },
    {
      "cell_type": "markdown",
      "source": [
        "## **Bivariate Analysis**"
      ],
      "metadata": {
        "id": "ZM-EjliviQhd"
      }
    },
    {
      "cell_type": "markdown",
      "source": [
        "We will first explore all the features with respect to Trip Duration as it is the target variable."
      ],
      "metadata": {
        "id": "XNmKy_ycgyj4"
      }
    },
    {
      "cell_type": "markdown",
      "source": [
        "### **Trip duration vs Vendor ID**"
      ],
      "metadata": {
        "id": "7hiJqKIqgc50"
      }
    },
    {
      "cell_type": "code",
      "source": [
        "#Plotting Trip Duration vs Vendor ID.\n",
        "trip_vendor_df = nyc_taxi_df.groupby(['vendor_id'])[['trip_duration']].mean().reset_index()\n",
        "plt.figure(figsize=(10,7))\n",
        "plt.title(\"Trip Duration vs Vendor ID\")\n",
        "sns.barplot(x = 'vendor_id', y = 'trip_duration', data = trip_vendor_df)\n",
        "plt.xlabel(\"vendor_id\")\n",
        "plt.ylabel(\"trip_duraiton\")\n",
        "plt.show()"
      ],
      "metadata": {
        "colab": {
          "base_uri": "https://localhost:8080/",
          "height": 459
        },
        "id": "FATYtGJEWGb7",
        "outputId": "ba54e851-4bed-4542-f3c6-fb1a69671922"
      },
      "execution_count": 159,
      "outputs": [
        {
          "output_type": "display_data",
          "data": {
            "text/plain": [
              "<Figure size 720x504 with 1 Axes>"
            ],
            "image/png": "[encoded data removed]"
          },
          "metadata": {
            "needs_background": "light"
          }
        }
      ]
    },
    {
      "cell_type": "markdown",
      "source": [
        "The above graph shows that average trip duration for vendor 2 is higher than vendor 1 by approx 200sec. This means, on an average vendor 2 takes 200sec(or 3mins) more than vendor 1 per trip."
      ],
      "metadata": {
        "id": "Zu-9qajcir72"
      }
    },
    {
      "cell_type": "markdown",
      "source": [
        "### **Trip Duration per Hour**"
      ],
      "metadata": {
        "id": "S8AcKHRllDKT"
      }
    },
    {
      "cell_type": "code",
      "source": [
        "#Plotting Trip Duration per Hour.\n",
        "trip_hr_df = nyc_taxi_df.groupby(['pickup_hr'])[['trip_duration']].mean().reset_index()\n",
        "plt.figure(figsize=(10,7))\n",
        "plt.title(\"Trip Duration per Hour\")\n",
        "sns.pointplot(x = 'pickup_hr', y = 'trip_duration', data = trip_hr_df)\n",
        "plt.xlabel(\"pickup_hr\")\n",
        "plt.ylabel(\"trip_duraiton\")\n",
        "plt.show()"
      ],
      "metadata": {
        "colab": {
          "base_uri": "https://localhost:8080/",
          "height": 459
        },
        "id": "NgqZx99iidHz",
        "outputId": "758ba6bc-362c-45f3-e272-cf72e912de73"
      },
      "execution_count": 160,
      "outputs": [
        {
          "output_type": "display_data",
          "data": {
            "text/plain": [
              "<Figure size 720x504 with 1 Axes>"
            ],
            "image/png": "[encoded data removed]"
          },
          "metadata": {
            "needs_background": "light"
          }
        }
      ]
    },
    {
      "cell_type": "markdown",
      "source": [
        "From the above graph we can infer that -\n",
        "* Average trip_duration is highest at 3:00 PM so, at this time the traffic is more.\n",
        "* At morning 6:00 AM there is lowest traffic and thus the trip_duration is also very less at that time. \n",
        "* Traffic starts increasing after 6:00AM as more and more people starts going out for work, schools, vacation etc.\n",
        "* Traffic starts decreasing after 3:00 PM as people starts coming to their home.\n",
        "* Between 7:00 PM to 9:00 PM and 12:00AM to 4:00AM there is average traffic."
      ],
      "metadata": {
        "id": "ZW827_4ymm3d"
      }
    },
    {
      "cell_type": "markdown",
      "source": [
        "### **Trip Duration per day of week**"
      ],
      "metadata": {
        "id": "xuGx1IGkoUi9"
      }
    },
    {
      "cell_type": "code",
      "source": [
        "#Plotting Trip Duration per Day of Week.\n",
        "trip_day_df = nyc_taxi_df.groupby(['pickup_day'])[['trip_duration']].mean().reset_index()\n",
        "plt.figure(figsize=(10,7))\n",
        "plt.title(\"Trip Duration per Day of Week\")\n",
        "sns.pointplot(x = 'pickup_day', y = 'trip_duration', data = trip_day_df)\n",
        "plt.xlabel(\"pickup_day\")\n",
        "plt.ylabel(\"trip_duraiton\")\n",
        "plt.show()"
      ],
      "metadata": {
        "colab": {
          "base_uri": "https://localhost:8080/",
          "height": 459
        },
        "id": "emXVFKmTluYM",
        "outputId": "63b016f5-633a-442e-b250-ee43da87e56f"
      },
      "execution_count": 161,
      "outputs": [
        {
          "output_type": "display_data",
          "data": {
            "text/plain": [
              "<Figure size 720x504 with 1 Axes>"
            ],
            "image/png": "[encoded data removed]"
          },
          "metadata": {
            "needs_background": "light"
          }
        }
      ]
    },
    {
      "cell_type": "markdown",
      "source": [
        "The above graph shows that average trip duration is less on Saturday, Sunday and Monday and it increases drastically on Tuesday, Wednessday and Thursday having highest average trip duration on Thursday."
      ],
      "metadata": {
        "id": "D8kGpypfodWI"
      }
    },
    {
      "cell_type": "markdown",
      "source": [
        "### **Trip Duration per Time of day**"
      ],
      "metadata": {
        "id": "XROm2kYFpPE3"
      }
    },
    {
      "cell_type": "code",
      "source": [
        "#Plotting Trip Duration per Time of Week.\n",
        "trip_timeday_df = nyc_taxi_df.groupby(['pickup_timeofday'])[['trip_duration']].mean().reset_index()\n",
        "plt.figure(figsize=(10,7))\n",
        "plt.title(\"Trip Duration per Time of day\")\n",
        "sns.pointplot(x = 'pickup_timeofday', y = 'trip_duration', data = trip_timeday_df)\n",
        "plt.xlabel(\"pickup_timeofday\")\n",
        "plt.ylabel(\"trip_duraiton\")\n",
        "plt.show()"
      ],
      "metadata": {
        "colab": {
          "base_uri": "https://localhost:8080/",
          "height": 459
        },
        "id": "irYHb-6YoBLI",
        "outputId": "253ffe7a-4a98-4982-c4d6-2a5ed8582488"
      },
      "execution_count": 162,
      "outputs": [
        {
          "output_type": "display_data",
          "data": {
            "text/plain": [
              "<Figure size 720x504 with 1 Axes>"
            ],
            "image/png": "[encoded data removed]"
          },
          "metadata": {
            "needs_background": "light"
          }
        }
      ]
    },
    {
      "cell_type": "markdown",
      "source": [
        "This graph also shows that the average time duration is most in the afternoon, lowest in the morning and average in the evening and night. "
      ],
      "metadata": {
        "id": "nanAeW2vp0Mz"
      }
    },
    {
      "cell_type": "markdown",
      "source": [
        "### **Trip Duration vs Distance**"
      ],
      "metadata": {
        "id": "fYkQXl9mSlNC"
      }
    },
    {
      "cell_type": "markdown",
      "source": [
        "This two columns has to be explored properly as there should be a linear relationship between Trip Duration and Distance."
      ],
      "metadata": {
        "id": "kGuahRDgv6NK"
      }
    },
    {
      "cell_type": "code",
      "source": [
        "#Function for plotting trip_duration vs Distance\n",
        "def trip_duration_vs_distance():\n",
        "  plt.figure(figsize=(10,7))\n",
        "  plt.title(\"Trip Duration vs Distance\")\n",
        "  sns.scatterplot(x = 'distance', y = 'trip_duration', data = nyc_taxi_df)\n",
        "  plt.xlabel(\"Distance in km\")\n",
        "  plt.ylabel(\"Trip Duration in sec\")\n",
        "  plt.show()"
      ],
      "metadata": {
        "id": "gMcJRAgit_jG"
      },
      "execution_count": 163,
      "outputs": []
    },
    {
      "cell_type": "code",
      "source": [
        "trip_duration_vs_distance()"
      ],
      "metadata": {
        "colab": {
          "base_uri": "https://localhost:8080/",
          "height": 458
        },
        "id": "E9VofeFMplpT",
        "outputId": "cf9e842d-e285-4a9a-d75b-51fef9cb2be8"
      },
      "execution_count": 164,
      "outputs": [
        {
          "output_type": "display_data",
          "data": {
            "text/plain": [
              "<Figure size 720x504 with 1 Axes>"
            ],
            "image/png": "[encoded data removed]"
          },
          "metadata": {
            "needs_background": "light"
          }
        }
      ]
    },
    {
      "cell_type": "markdown",
      "source": [
        "From the above graph we can notice majorly two points - \n",
        "\n",
        "\n",
        "1.   There are some data where more than 200kms of distance are covered within a very short time which is not possible.\n",
        "2.   For some of the data distance covered is quite low still the trip duration is more than 20000 secs (>5hrs) this also shows that there is some ambiguity in the data.\n",
        "\n"
      ],
      "metadata": {
        "id": "0itlPC6_k56r"
      }
    },
    {
      "cell_type": "markdown",
      "source": [
        "Let's clear the above two outliers one by one. \n",
        "First we will be clearing the outliers in which quite a huge distance is covered in negligible timing. For doing this lets calculate the speed for each trip in km/hr."
      ],
      "metadata": {
        "id": "P7VhZjSsl6l8"
      }
    },
    {
      "cell_type": "code",
      "source": [
        "#Function for calculating the speed for each trip in km/hr\n",
        "def get_speed(dis_in_km, t_dur_in_sec):\n",
        "  sp = (dis_in_km / (t_dur_in_sec/3600))\n",
        "  return sp"
      ],
      "metadata": {
        "id": "g6krFlbfSTKG"
      },
      "execution_count": 165,
      "outputs": []
    },
    {
      "cell_type": "code",
      "source": [
        "#Adding a new column speed which contains the speed for each trip\n",
        "nyc_taxi_df['speed'] = nyc_taxi_df.apply(lambda x: get_speed(x['distance'],x['trip_duration']), axis=1)"
      ],
      "metadata": {
        "id": "LKkJP3g8nIYe"
      },
      "execution_count": 166,
      "outputs": []
    },
    {
      "cell_type": "code",
      "source": [
        "#Sorting the dataset in ascending order wrt speed and checking the head to see what is the max speed in the dataset.\n",
        "nyc_taxi_df.sort_values(by = 'speed', ascending = False).head()"
      ],
      "metadata": {
        "colab": {
          "base_uri": "https://localhost:8080/",
          "height": 357
        },
        "id": "K6DMojujnctZ",
        "outputId": "54b65091-f2d5-4904-a278-ca4d812e4bcc"
      },
      "execution_count": 167,
      "outputs": [
        {
          "output_type": "execute_result",
          "data": {
            "text/plain": [
              "                id  vendor_id     pickup_datetime    dropoff_datetime  \\\n",
              "1176287  id3619353          2 2016-02-13 20:28:30 2016-02-13 20:28:37   \n",
              "910037   id1146400          1 2016-02-15 18:57:32 2016-02-15 19:02:35   \n",
              "184923   id2306955          1 2016-05-07 18:58:53 2016-05-07 19:12:05   \n",
              "974337   id1510552          2 2016-01-06 20:40:52 2016-01-06 20:51:03   \n",
              "377058   id0116374          1 2016-04-02 20:33:19 2016-04-02 20:38:01   \n",
              "\n",
              "         passenger_count  pickup_longitude  pickup_latitude  \\\n",
              "1176287                1        -73.936974        40.764610   \n",
              "910037                 2        -73.989914        40.756634   \n",
              "184923                 1        -72.809669        51.881084   \n",
              "974337                 5        -71.799896        35.081532   \n",
              "377058                 1        -74.007095        40.717113   \n",
              "\n",
              "         dropoff_longitude  dropoff_latitude store_and_fwd_flag  \\\n",
              "1176287         -73.789848         40.646858                  N   \n",
              "910037          -70.346077         36.398121                  N   \n",
              "184923          -73.987228         40.750599                  N   \n",
              "974337          -79.352837         40.436329                  N   \n",
              "377058          -76.963242         38.946033                  N   \n",
              "\n",
              "         trip_duration pickup_day dropoff_day  pickup_hr  dropoff_hr  \\\n",
              "1176287              7   Saturday    Saturday         20          20   \n",
              "910037             303     Monday      Monday         18          19   \n",
              "184923             792   Saturday    Saturday         18          19   \n",
              "974337             611  Wednesday   Wednesday         20          20   \n",
              "377058             282   Saturday    Saturday         20          20   \n",
              "\n",
              "        pickup_timeofday dropoff_timeofday  trip_month     distance  \\\n",
              "1176287          Evening           Evening           2    18.043631   \n",
              "910037           Evening           Evening           2   578.579744   \n",
              "184923           Evening           Evening           5  1240.510256   \n",
              "974337           Evening           Evening           1   891.663777   \n",
              "377058           Evening           Evening           4   320.445202   \n",
              "\n",
              "               speed  \n",
              "1176287  9279.581773  \n",
              "910037   6874.214785  \n",
              "184923   5638.682980  \n",
              "974337   5253.665463  \n",
              "377058   4090.789812  "
            ],
            "text/html": [
              "\n",
              "  <div id=\"df-11db41cd-cc03-403d-bd1e-bbc95c17a4e0\">\n",
              "    <div class=\"colab-df-container\">\n",
              "      <div>\n",
              "<style scoped>\n",
              "    .dataframe tbody tr th:only-of-type {\n",
              "        vertical-align: middle;\n",
              "    }\n",
              "\n",
              "    .dataframe tbody tr th {\n",
              "        vertical-align: top;\n",
              "    }\n",
              "\n",
              "    .dataframe thead th {\n",
              "        text-align: right;\n",
              "    }\n",
              "</style>\n",
              "<table border=\"1\" class=\"dataframe\">\n",
              "  <thead>\n",
              "    <tr style=\"text-align: right;\">\n",
              "      <th></th>\n",
              "      <th>id</th>\n",
              "      <th>vendor_id</th>\n",
              "      <th>pickup_datetime</th>\n",
              "      <th>dropoff_datetime</th>\n",
              "      <th>passenger_count</th>\n",
              "      <th>pickup_longitude</th>\n",
              "      <th>pickup_latitude</th>\n",
              "      <th>dropoff_longitude</th>\n",
              "      <th>dropoff_latitude</th>\n",
              "      <th>store_and_fwd_flag</th>\n",
              "      <th>trip_duration</th>\n",
              "      <th>pickup_day</th>\n",
              "      <th>dropoff_day</th>\n",
              "      <th>pickup_hr</th>\n",
              "      <th>dropoff_hr</th>\n",
              "      <th>pickup_timeofday</th>\n",
              "      <th>dropoff_timeofday</th>\n",
              "      <th>trip_month</th>\n",
              "      <th>distance</th>\n",
              "      <th>speed</th>\n",
              "    </tr>\n",
              "  </thead>\n",
              "  <tbody>\n",
              "    <tr>\n",
              "      <th>1176287</th>\n",
              "      <td>id3619353</td>\n",
              "      <td>2</td>\n",
              "      <td>2016-02-13 20:28:30</td>\n",
              "      <td>2016-02-13 20:28:37</td>\n",
              "      <td>1</td>\n",
              "      <td>-73.936974</td>\n",
              "      <td>40.764610</td>\n",
              "      <td>-73.789848</td>\n",
              "      <td>40.646858</td>\n",
              "      <td>N</td>\n",
              "      <td>7</td>\n",
              "      <td>Saturday</td>\n",
              "      <td>Saturday</td>\n",
              "      <td>20</td>\n",
              "      <td>20</td>\n",
              "      <td>Evening</td>\n",
              "      <td>Evening</td>\n",
              "      <td>2</td>\n",
              "      <td>18.043631</td>\n",
              "      <td>9279.581773</td>\n",
              "    </tr>\n",
              "    <tr>\n",
              "      <th>910037</th>\n",
              "      <td>id1146400</td>\n",
              "      <td>1</td>\n",
              "      <td>2016-02-15 18:57:32</td>\n",
              "      <td>2016-02-15 19:02:35</td>\n",
              "      <td>2</td>\n",
              "      <td>-73.989914</td>\n",
              "      <td>40.756634</td>\n",
              "      <td>-70.346077</td>\n",
              "      <td>36.398121</td>\n",
              "      <td>N</td>\n",
              "      <td>303</td>\n",
              "      <td>Monday</td>\n",
              "      <td>Monday</td>\n",
              "      <td>18</td>\n",
              "      <td>19</td>\n",
              "      <td>Evening</td>\n",
              "      <td>Evening</td>\n",
              "      <td>2</td>\n",
              "      <td>578.579744</td>\n",
              "      <td>6874.214785</td>\n",
              "    </tr>\n",
              "    <tr>\n",
              "      <th>184923</th>\n",
              "      <td>id2306955</td>\n",
              "      <td>1</td>\n",
              "      <td>2016-05-07 18:58:53</td>\n",
              "      <td>2016-05-07 19:12:05</td>\n",
              "      <td>1</td>\n",
              "      <td>-72.809669</td>\n",
              "      <td>51.881084</td>\n",
              "      <td>-73.987228</td>\n",
              "      <td>40.750599</td>\n",
              "      <td>N</td>\n",
              "      <td>792</td>\n",
              "      <td>Saturday</td>\n",
              "      <td>Saturday</td>\n",
              "      <td>18</td>\n",
              "      <td>19</td>\n",
              "      <td>Evening</td>\n",
              "      <td>Evening</td>\n",
              "      <td>5</td>\n",
              "      <td>1240.510256</td>\n",
              "      <td>5638.682980</td>\n",
              "    </tr>\n",
              "    <tr>\n",
              "      <th>974337</th>\n",
              "      <td>id1510552</td>\n",
              "      <td>2</td>\n",
              "      <td>2016-01-06 20:40:52</td>\n",
              "      <td>2016-01-06 20:51:03</td>\n",
              "      <td>5</td>\n",
              "      <td>-71.799896</td>\n",
              "      <td>35.081532</td>\n",
              "      <td>-79.352837</td>\n",
              "      <td>40.436329</td>\n",
              "      <td>N</td>\n",
              "      <td>611</td>\n",
              "      <td>Wednesday</td>\n",
              "      <td>Wednesday</td>\n",
              "      <td>20</td>\n",
              "      <td>20</td>\n",
              "      <td>Evening</td>\n",
              "      <td>Evening</td>\n",
              "      <td>1</td>\n",
              "      <td>891.663777</td>\n",
              "      <td>5253.665463</td>\n",
              "    </tr>\n",
              "    <tr>\n",
              "      <th>377058</th>\n",
              "      <td>id0116374</td>\n",
              "      <td>1</td>\n",
              "      <td>2016-04-02 20:33:19</td>\n",
              "      <td>2016-04-02 20:38:01</td>\n",
              "      <td>1</td>\n",
              "      <td>-74.007095</td>\n",
              "      <td>40.717113</td>\n",
              "      <td>-76.963242</td>\n",
              "      <td>38.946033</td>\n",
              "      <td>N</td>\n",
              "      <td>282</td>\n",
              "      <td>Saturday</td>\n",
              "      <td>Saturday</td>\n",
              "      <td>20</td>\n",
              "      <td>20</td>\n",
              "      <td>Evening</td>\n",
              "      <td>Evening</td>\n",
              "      <td>4</td>\n",
              "      <td>320.445202</td>\n",
              "      <td>4090.789812</td>\n",
              "    </tr>\n",
              "  </tbody>\n",
              "</table>\n",
              "</div>\n",
              "      <button class=\"colab-df-convert\" onclick=\"convertToInteractive('df-11db41cd-cc03-403d-bd1e-bbc95c17a4e0')\"\n",
              "              title=\"Convert this dataframe to an interactive table.\"\n",
              "              style=\"display:none;\">\n",
              "        \n",
              "  <svg xmlns=\"http://www.w3.org/2000/svg\" height=\"24px\"viewBox=\"0 0 24 24\"\n",
              "       width=\"24px\">\n",
              "    <path d=\"M0 0h24v24H0V0z\" fill=\"none\"/>\n",
              "    <path d=\"M18.56 5.44l.94 2.06.94-2.06 2.06-.94-2.06-.94-.94-2.06-.94 2.06-2.06.94zm-11 1L8.5 8.5l.94-2.06 2.06-.94-2.06-.94L8.5 2.5l-.94 2.06-2.06.94zm10 10l.94 2.06.94-2.06 2.06-.94-2.06-.94-.94-2.06-.94 2.06-2.06.94z\"/><path d=\"M17.41 7.96l-1.37-1.37c-.4-.4-.92-.59-1.43-.59-.52 0-1.04.2-1.43.59L10.3 9.45l-7.72 7.72c-.78.78-.78 2.05 0 2.83L4 21.41c.39.39.9.59 1.41.59.51 0 1.02-.2 1.41-.59l7.78-7.78 2.81-2.81c.8-.78.8-2.07 0-2.86zM5.41 20L4 18.59l7.72-7.72 1.47 1.35L5.41 20z\"/>\n",
              "  </svg>\n",
              "      </button>\n",
              "      \n",
              "  <style>\n",
              "    .colab-df-container {\n",
              "      display:flex;\n",
              "      flex-wrap:wrap;\n",
              "      gap: 12px;\n",
              "    }\n",
              "\n",
              "    .colab-df-convert {\n",
              "      background-color: #E8F0FE;\n",
              "      border: none;\n",
              "      border-radius: 50%;\n",
              "      cursor: pointer;\n",
              "      display: none;\n",
              "      fill: #1967D2;\n",
              "      height: 32px;\n",
              "      padding: 0 0 0 0;\n",
              "      width: 32px;\n",
              "    }\n",
              "\n",
              "    .colab-df-convert:hover {\n",
              "      background-color: #E2EBFA;\n",
              "      box-shadow: 0px 1px 2px rgba(60, 64, 67, 0.3), 0px 1px 3px 1px rgba(60, 64, 67, 0.15);\n",
              "      fill: #174EA6;\n",
              "    }\n",
              "\n",
              "    [theme=dark] .colab-df-convert {\n",
              "      background-color: #3B4455;\n",
              "      fill: #D2E3FC;\n",
              "    }\n",
              "\n",
              "    [theme=dark] .colab-df-convert:hover {\n",
              "      background-color: #434B5C;\n",
              "      box-shadow: 0px 1px 3px 1px rgba(0, 0, 0, 0.15);\n",
              "      filter: drop-shadow(0px 1px 2px rgba(0, 0, 0, 0.3));\n",
              "      fill: #FFFFFF;\n",
              "    }\n",
              "  </style>\n",
              "\n",
              "      <script>\n",
              "        const buttonEl =\n",
              "          document.querySelector('#df-11db41cd-cc03-403d-bd1e-bbc95c17a4e0 button.colab-df-convert');\n",
              "        buttonEl.style.display =\n",
              "          google.colab.kernel.accessAllowed ? 'block' : 'none';\n",
              "\n",
              "        async function convertToInteractive(key) {\n",
              "          const element = document.querySelector('#df-11db41cd-cc03-403d-bd1e-bbc95c17a4e0');\n",
              "          const dataTable =\n",
              "            await google.colab.kernel.invokeFunction('convertToInteractive',\n",
              "                                                     [key], {});\n",
              "          if (!dataTable) return;\n",
              "\n",
              "          const docLinkHtml = 'Like what you see? Visit the ' +\n",
              "            '<a target=\"_blank\" href=https://colab.research.google.com/notebooks/data_table.ipynb>data table notebook</a>'\n",
              "            + ' to learn more about interactive tables.';\n",
              "          element.innerHTML = '';\n",
              "          dataTable['output_type'] = 'display_data';\n",
              "          await google.colab.output.renderOutput(dataTable, element);\n",
              "          const docLink = document.createElement('div');\n",
              "          docLink.innerHTML = docLinkHtml;\n",
              "          element.appendChild(docLink);\n",
              "        }\n",
              "      </script>\n",
              "    </div>\n",
              "  </div>\n",
              "  "
            ]
          },
          "metadata": {},
          "execution_count": 167
        }
      ]
    },
    {
      "cell_type": "markdown",
      "source": [
        "From the data we can see that there are entries with speed more than 1000km/hr also which clearly shows that these are wrong entries as the max speed allowed in nyc is 55miles/hr (= 88.5km/hr).\n",
        "This speed data is taken from following site - \n",
        "https://www.newyorksafetycouncil.com/articles/speed-limits-in-new-york/\n",
        "\n",
        "In this article it is mentioned - \n",
        "You must obey the posted speed limit or, if no limit is posted, drive no faster than 55 mph. Be aware, however, that some cities in New York have speed limits lower than 55 mph that may not be posted. For example, the speed limit is 25 mph in New York City unless another limit is posted."
      ],
      "metadata": {
        "id": "IWit-dqao8Za"
      }
    },
    {
      "cell_type": "markdown",
      "source": [
        "For our dataset let's keep only those data where the speed is max 100km/hr."
      ],
      "metadata": {
        "id": "URbXKdXoqG2z"
      }
    },
    {
      "cell_type": "code",
      "source": [
        "#Taking only those entries where the speed <= 100km/hr.\n",
        "nyc_taxi_df = nyc_taxi_df[nyc_taxi_df['speed'] <= 100.0]\n",
        "nyc_taxi_df.shape"
      ],
      "metadata": {
        "colab": {
          "base_uri": "https://localhost:8080/"
        },
        "id": "9io95vCwn2l7",
        "outputId": "5ae48583-3f3c-4418-951d-448e7be49f33"
      },
      "execution_count": 168,
      "outputs": [
        {
          "output_type": "execute_result",
          "data": {
            "text/plain": [
              "(1458406, 20)"
            ]
          },
          "metadata": {},
          "execution_count": 168
        }
      ]
    },
    {
      "cell_type": "markdown",
      "source": [
        "Plotting the scatter plot again for trip_duration vs distance afer clearing the outliers."
      ],
      "metadata": {
        "id": "64XYDwtrt2W2"
      }
    },
    {
      "cell_type": "code",
      "source": [
        "trip_duration_vs_distance()"
      ],
      "metadata": {
        "colab": {
          "base_uri": "https://localhost:8080/",
          "height": 458
        },
        "id": "KfEP4SFNt8uW",
        "outputId": "66685ab6-b1b6-44ac-ec9b-0fad13cb735e"
      },
      "execution_count": 169,
      "outputs": [
        {
          "output_type": "display_data",
          "data": {
            "text/plain": [
              "<Figure size 720x504 with 1 Axes>"
            ],
            "image/png": "[encoded data removed]"
          },
          "metadata": {
            "needs_background": "light"
          }
        }
      ]
    },
    {
      "cell_type": "markdown",
      "source": [
        "Now lets take the case where distance covered is quite less but the trip duration is considerably high."
      ],
      "metadata": {
        "id": "8ZdgPYrswKfb"
      }
    },
    {
      "cell_type": "markdown",
      "source": [
        "First let's remove those outliers where distance covered is 0.0km still trip_duration is more than 1 min or 60secs."
      ],
      "metadata": {
        "id": "DQE5yOV6wcjH"
      }
    },
    {
      "cell_type": "code",
      "source": [
        "#Removing the entries where distance is 0.0km and duration is more than 1 min. \n",
        "nyc_taxi_df = nyc_taxi_df[~((nyc_taxi_df['distance'] == 0.0) & (nyc_taxi_df['trip_duration']>=60))]\n",
        "nyc_taxi_df.shape"
      ],
      "metadata": {
        "colab": {
          "base_uri": "https://localhost:8080/"
        },
        "id": "SsJ5HaMsuR4x",
        "outputId": "45819c67-dad9-4ce9-c350-072fea85c6bc"
      },
      "execution_count": 170,
      "outputs": [
        {
          "output_type": "execute_result",
          "data": {
            "text/plain": [
              "(1454186, 20)"
            ]
          },
          "metadata": {},
          "execution_count": 170
        }
      ]
    },
    {
      "cell_type": "markdown",
      "source": [
        "Also, we will remove the entries where the distance is less than 1km but trip duration is more than one hour as it is quite obvious that in 1hr the distance covered will be surely more than 1km."
      ],
      "metadata": {
        "id": "PvnvFaVq01Ot"
      }
    },
    {
      "cell_type": "code",
      "source": [
        "#Removing the entries where distance is less than 1.0km and duration is more than 1hr (or 3600 sec). \n",
        "nyc_taxi_df = nyc_taxi_df[~((nyc_taxi_df['distance'] <= 1.0) & (nyc_taxi_df['trip_duration']>=3600))]\n",
        "nyc_taxi_df.shape"
      ],
      "metadata": {
        "colab": {
          "base_uri": "https://localhost:8080/"
        },
        "id": "xk_XCk3W1He7",
        "outputId": "3220387c-28d8-48b8-96c5-e439f208fd8a"
      },
      "execution_count": 171,
      "outputs": [
        {
          "output_type": "execute_result",
          "data": {
            "text/plain": [
              "(1453742, 20)"
            ]
          },
          "metadata": {},
          "execution_count": 171
        }
      ]
    },
    {
      "cell_type": "markdown",
      "source": [
        "Let's delete some more outliers where distance covered is less than 75km but trip_duraiton is more than 30000secs (~ 8hrs). As, it is quite obvious whatever the situation might be if the trip is going with 10km/hr speed also then in 8hrs we are expected to cover 80km but the current data shows there are some entries where the speed is much lesser than that which clearly shows that those are outliers."
      ],
      "metadata": {
        "id": "EHEo_OUL8JNL"
      }
    },
    {
      "cell_type": "code",
      "source": [
        "nyc_taxi_df = nyc_taxi_df[~((nyc_taxi_df['distance'] <= 75.0) & (nyc_taxi_df['trip_duration']>=30000))]\n",
        "nyc_taxi_df.shape"
      ],
      "metadata": {
        "colab": {
          "base_uri": "https://localhost:8080/"
        },
        "id": "nldmbW4W3Cvo",
        "outputId": "e4ac91ce-be12-4a31-fa44-41c52f119e10"
      },
      "execution_count": 172,
      "outputs": [
        {
          "output_type": "execute_result",
          "data": {
            "text/plain": [
              "(1452017, 20)"
            ]
          },
          "metadata": {},
          "execution_count": 172
        }
      ]
    },
    {
      "cell_type": "markdown",
      "source": [
        "Plotting trip_duration vs distance after removing all the outliers."
      ],
      "metadata": {
        "id": "EeSTQuag9eAz"
      }
    },
    {
      "cell_type": "code",
      "source": [
        "trip_duration_vs_distance()"
      ],
      "metadata": {
        "colab": {
          "base_uri": "https://localhost:8080/",
          "height": 458
        },
        "id": "zSWuoiobxUaE",
        "outputId": "05c220a3-778f-4515-af42-c90b5a51b1df"
      },
      "execution_count": 173,
      "outputs": [
        {
          "output_type": "display_data",
          "data": {
            "text/plain": [
              "<Figure size 720x504 with 1 Axes>"
            ],
            "image/png": "[encoded data removed]"
          },
          "metadata": {
            "needs_background": "light"
          }
        }
      ]
    },
    {
      "cell_type": "markdown",
      "source": [
        "### **Pickup and Dropoff Latitude and Longitude Plots**"
      ],
      "metadata": {
        "id": "7jNpjg9Eoaa2"
      }
    },
    {
      "cell_type": "code",
      "source": [
        "#Plotting the pickup latitude and longitude.\n",
        "nyc_taxi_df.plot(kind='scatter', x='pickup_longitude',y='pickup_latitude', color='red', s=0.1, alpha =1)\n",
        "plt.title('Pickup Locations')\n",
        "plt.xlabel(\"pickup_longitude\")\n",
        "plt.ylabel(\"pickup_latitude\")\n",
        "plt.show()"
      ],
      "metadata": {
        "colab": {
          "base_uri": "https://localhost:8080/",
          "height": 296
        },
        "id": "nWd3eBGxmYYw",
        "outputId": "7a86eefa-262b-4216-ac7b-06d3fc55a432"
      },
      "execution_count": 174,
      "outputs": [
        {
          "output_type": "display_data",
          "data": {
            "text/plain": [
              "<Figure size 432x288 with 1 Axes>"
            ],
            "image/png": "[encoded data removed]"
          },
          "metadata": {
            "needs_background": "light"
          }
        }
      ]
    },
    {
      "cell_type": "markdown",
      "source": [
        "Above graph shows that one of the location is very far away from the usual operating zone this might be entered due to some error. Let's remove this outlier."
      ],
      "metadata": {
        "id": "Gk-ueq2MyyGo"
      }
    },
    {
      "cell_type": "code",
      "source": [
        "#Removing the pickup location which is very far away from the other pickup locations.\n",
        "nyc_taxi_df = nyc_taxi_df[nyc_taxi_df['pickup_longitude']>-100.0]"
      ],
      "metadata": {
        "id": "tsz1HuIwlt_s"
      },
      "execution_count": 175,
      "outputs": []
    },
    {
      "cell_type": "code",
      "source": [
        "#Plotting the pickup latitude and longitude again after removing the outlier.\n",
        "nyc_taxi_df.plot(kind='scatter', x='pickup_longitude',y='pickup_latitude', color='red', s=0.1, alpha =1)\n",
        "plt.title('Pickup Locations')\n",
        "plt.xlabel(\"pickup_longitude\")\n",
        "plt.ylabel(\"pickup_latitude\")\n",
        "plt.show()"
      ],
      "metadata": {
        "colab": {
          "base_uri": "https://localhost:8080/",
          "height": 296
        },
        "id": "tzXzPUeFzS1-",
        "outputId": "acb18ba4-f51a-4df0-cdb2-87e967159d1d"
      },
      "execution_count": 176,
      "outputs": [
        {
          "output_type": "display_data",
          "data": {
            "text/plain": [
              "<Figure size 432x288 with 1 Axes>"
            ],
            "image/png": "[encoded data removed]"
          },
          "metadata": {
            "needs_background": "light"
          }
        }
      ]
    },
    {
      "cell_type": "markdown",
      "source": [
        "Let's view the concentrated area of the map."
      ],
      "metadata": {
        "id": "6Qfqv-WJ0Kit"
      }
    },
    {
      "cell_type": "code",
      "source": [
        "#Plotting the pickup latitude and longitude at the concentrated area of the map.\n",
        "nyc_taxi_df.plot(kind='scatter', x='pickup_longitude',y='pickup_latitude', color='red', s=0.1, alpha =1)\n",
        "plt.title('Pickup Locations')\n",
        "plt.xlabel(\"pickup_longitude\")\n",
        "plt.ylabel(\"pickup_latitude\")\n",
        "plt.ylim([40.55,40.9])\n",
        "plt.xlim([-74.07,-73.75])\n",
        "plt.show()"
      ],
      "metadata": {
        "colab": {
          "base_uri": "https://localhost:8080/",
          "height": 296
        },
        "id": "AmUDKoTG0T47",
        "outputId": "479dfa56-8865-4e52-be79-a2724bcf8482"
      },
      "execution_count": 177,
      "outputs": [
        {
          "output_type": "display_data",
          "data": {
            "text/plain": [
              "<Figure size 432x288 with 1 Axes>"
            ],
            "image/png": "[encoded data removed]"
          },
          "metadata": {
            "needs_background": "light"
          }
        }
      ]
    },
    {
      "cell_type": "markdown",
      "source": [
        "Now lets look at the dropoff latitude and longitude."
      ],
      "metadata": {
        "id": "K7z_L9Cz2fpt"
      }
    },
    {
      "cell_type": "code",
      "source": [
        "#Plotting the dropoff latitude and longitude.\n",
        "nyc_taxi_df.plot(kind='scatter', x='dropoff_longitude',y='dropoff_latitude',color='green',s=0.2, alpha =.6)\n",
        "plt.title('Dropoff Locations')\n",
        "plt.xlabel(\"dropoff_longitude\")\n",
        "plt.ylabel(\"dropoff_latitude\")\n",
        "plt.show()"
      ],
      "metadata": {
        "colab": {
          "base_uri": "https://localhost:8080/",
          "height": 296
        },
        "id": "FyW5TuU8mHbq",
        "outputId": "1bcd4385-f614-4e7b-fc5e-ce1d07f3a94e"
      },
      "execution_count": 178,
      "outputs": [
        {
          "output_type": "display_data",
          "data": {
            "text/plain": [
              "<Figure size 432x288 with 1 Axes>"
            ],
            "image/png": "[encoded data removed]"
          },
          "metadata": {
            "needs_background": "light"
          }
        }
      ]
    },
    {
      "cell_type": "code",
      "source": [
        "#Plotting the dropoff concentrated region.\n",
        "nyc_taxi_df.plot(kind='scatter', x='dropoff_longitude',y='dropoff_latitude',color='green',s=0.2, alpha =.6)\n",
        "plt.title('Dropoff Locations')\n",
        "plt.xlabel(\"dropoff_longitude\")\n",
        "plt.ylabel(\"dropoff_latitude\")\n",
        "plt.ylim([40.55,40.9])\n",
        "plt.xlim([-74.07,-73.75])\n",
        "plt.show()"
      ],
      "metadata": {
        "colab": {
          "base_uri": "https://localhost:8080/",
          "height": 296
        },
        "id": "_RHUVj-umgZ3",
        "outputId": "e2659ba1-6fa3-4044-bd5f-df55d45e13d3"
      },
      "execution_count": 179,
      "outputs": [
        {
          "output_type": "display_data",
          "data": {
            "text/plain": [
              "<Figure size 432x288 with 1 Axes>"
            ],
            "image/png": "[encoded data removed]"
          },
          "metadata": {
            "needs_background": "light"
          }
        }
      ]
    },
    {
      "cell_type": "markdown",
      "source": [
        "From the pickup and dropoff plots we can infer that dropoff locations are more distributed than the pickup locations."
      ],
      "metadata": {
        "id": "ibCqgIWI21_n"
      }
    },
    {
      "cell_type": "code",
      "source": [
        "nyc_taxi_df.shape"
      ],
      "metadata": {
        "colab": {
          "base_uri": "https://localhost:8080/"
        },
        "id": "KO11qHY0NRzC",
        "outputId": "11b183f7-f763-4c8a-e4d1-e0cae9e0c674"
      },
      "execution_count": 181,
      "outputs": [
        {
          "output_type": "execute_result",
          "data": {
            "text/plain": [
              "(1452015, 20)"
            ]
          },
          "metadata": {},
          "execution_count": 181
        }
      ]
    },
    {
      "cell_type": "markdown",
      "source": [
        "We have removed all the outliers to the best of our knowledge.\n",
        "Our initial dataset was having 1458644 entries and after removing the outliers we are having 1452015 entries. So, still we have 99.5% of the data for making the model."
      ],
      "metadata": {
        "id": "6EDjMbAnM9HS"
      }
    },
    {
      "cell_type": "markdown",
      "source": [
        "## **Correlation Analysis**"
      ],
      "metadata": {
        "id": "GkcZm6ctOQJd"
      }
    },
    {
      "cell_type": "code",
      "source": [
        "## Plotting Correlation HeatMap\n",
        "plt.figure(figsize=(15,8))\n",
        "correlation = nyc_taxi_df.corr()\n",
        "sns.heatmap(abs(correlation), annot=True, linewidths = 0.1, fmt = '0.2f', cmap='coolwarm')\n",
        "plt.show()"
      ],
      "metadata": {
        "colab": {
          "base_uri": "https://localhost:8080/",
          "height": 565
        },
        "id": "8bJA2DCCCICA",
        "outputId": "6759eff5-de15-46c1-e35b-489f903f815a"
      },
      "execution_count": 194,
      "outputs": [
        {
          "output_type": "display_data",
          "data": {
            "text/plain": [
              "<Figure size 1080x576 with 2 Axes>"
            ],
            "image/png": "[encoded data removed]"
          },
          "metadata": {
            "needs_background": "light"
          }
        }
      ]
    },
    {
      "cell_type": "code",
      "source": [
        "#Looking for the numerical features in the dataset.\n",
        "numeric_features = nyc_taxi_df.describe().columns\n",
        "numeric_features"
      ],
      "metadata": {
        "colab": {
          "base_uri": "https://localhost:8080/"
        },
        "id": "Q5vNEFPKOzf_",
        "outputId": "1e5ac32f-7375-4d0f-c14c-21a4eeefb803"
      },
      "execution_count": 195,
      "outputs": [
        {
          "output_type": "execute_result",
          "data": {
            "text/plain": [
              "Index(['vendor_id', 'passenger_count', 'pickup_longitude', 'pickup_latitude',\n",
              "       'dropoff_longitude', 'dropoff_latitude', 'trip_duration', 'pickup_hr',\n",
              "       'dropoff_hr', 'trip_month', 'distance', 'speed'],\n",
              "      dtype='object')"
            ]
          },
          "metadata": {},
          "execution_count": 195
        }
      ]
    },
    {
      "cell_type": "markdown",
      "source": [
        "### **Removing multicollinearity using VIF - Variance Inflation Factor.**"
      ],
      "metadata": {
        "id": "1dpKz0F5SUeN"
      }
    },
    {
      "cell_type": "code",
      "source": [
        "#Funtion for VIF\n",
        "def calc_vif(X):\n",
        "    vif = pd.DataFrame()\n",
        "    vif[\"variables\"] = X.columns\n",
        "    vif[\"VIF\"] = [variance_inflation_factor(X.values, i) for i in range(X.shape[1])]\n",
        "\n",
        "    return(vif)"
      ],
      "metadata": {
        "id": "hkaIkhj7R-CV"
      },
      "execution_count": 198,
      "outputs": []
    },
    {
      "cell_type": "code",
      "source": [
        "calc_vif(nyc_taxi_df[[feat for feat in nyc_taxi_df.describe().columns if feat not in ['vendor_id','trip_duration','speed']]])"
      ],
      "metadata": {
        "colab": {
          "base_uri": "https://localhost:8080/",
          "height": 332
        },
        "id": "ypMSGTVbSs8R",
        "outputId": "f00cd00d-e49c-4bd8-8f3c-fc6c851d3bc9"
      },
      "execution_count": 199,
      "outputs": [
        {
          "output_type": "execute_result",
          "data": {
            "text/plain": [
              "           variables           VIF\n",
              "0    passenger_count  2.605964e+00\n",
              "1   pickup_longitude  3.507686e+06\n",
              "2    pickup_latitude  2.502449e+06\n",
              "3  dropoff_longitude  3.030832e+06\n",
              "4   dropoff_latitude  1.753530e+06\n",
              "5          pickup_hr  4.330339e+01\n",
              "6         dropoff_hr  4.239736e+01\n",
              "7         trip_month  5.379563e+00\n",
              "8           distance  1.825114e+00"
            ],
            "text/html": [
              "\n",
              "  <div id=\"df-aad95fdd-d028-496f-a5ce-f041641ac0e9\">\n",
              "    <div class=\"colab-df-container\">\n",
              "      <div>\n",
              "<style scoped>\n",
              "    .dataframe tbody tr th:only-of-type {\n",
              "        vertical-align: middle;\n",
              "    }\n",
              "\n",
              "    .dataframe tbody tr th {\n",
              "        vertical-align: top;\n",
              "    }\n",
              "\n",
              "    .dataframe thead th {\n",
              "        text-align: right;\n",
              "    }\n",
              "</style>\n",
              "<table border=\"1\" class=\"dataframe\">\n",
              "  <thead>\n",
              "    <tr style=\"text-align: right;\">\n",
              "      <th></th>\n",
              "      <th>variables</th>\n",
              "      <th>VIF</th>\n",
              "    </tr>\n",
              "  </thead>\n",
              "  <tbody>\n",
              "    <tr>\n",
              "      <th>0</th>\n",
              "      <td>passenger_count</td>\n",
              "      <td>2.605964e+00</td>\n",
              "    </tr>\n",
              "    <tr>\n",
              "      <th>1</th>\n",
              "      <td>pickup_longitude</td>\n",
              "      <td>3.507686e+06</td>\n",
              "    </tr>\n",
              "    <tr>\n",
              "      <th>2</th>\n",
              "      <td>pickup_latitude</td>\n",
              "      <td>2.502449e+06</td>\n",
              "    </tr>\n",
              "    <tr>\n",
              "      <th>3</th>\n",
              "      <td>dropoff_longitude</td>\n",
              "      <td>3.030832e+06</td>\n",
              "    </tr>\n",
              "    <tr>\n",
              "      <th>4</th>\n",
              "      <td>dropoff_latitude</td>\n",
              "      <td>1.753530e+06</td>\n",
              "    </tr>\n",
              "    <tr>\n",
              "      <th>5</th>\n",
              "      <td>pickup_hr</td>\n",
              "      <td>4.330339e+01</td>\n",
              "    </tr>\n",
              "    <tr>\n",
              "      <th>6</th>\n",
              "      <td>dropoff_hr</td>\n",
              "      <td>4.239736e+01</td>\n",
              "    </tr>\n",
              "    <tr>\n",
              "      <th>7</th>\n",
              "      <td>trip_month</td>\n",
              "      <td>5.379563e+00</td>\n",
              "    </tr>\n",
              "    <tr>\n",
              "      <th>8</th>\n",
              "      <td>distance</td>\n",
              "      <td>1.825114e+00</td>\n",
              "    </tr>\n",
              "  </tbody>\n",
              "</table>\n",
              "</div>\n",
              "      <button class=\"colab-df-convert\" onclick=\"convertToInteractive('df-aad95fdd-d028-496f-a5ce-f041641ac0e9')\"\n",
              "              title=\"Convert this dataframe to an interactive table.\"\n",
              "              style=\"display:none;\">\n",
              "        \n",
              "  <svg xmlns=\"http://www.w3.org/2000/svg\" height=\"24px\"viewBox=\"0 0 24 24\"\n",
              "       width=\"24px\">\n",
              "    <path d=\"M0 0h24v24H0V0z\" fill=\"none\"/>\n",
              "    <path d=\"M18.56 5.44l.94 2.06.94-2.06 2.06-.94-2.06-.94-.94-2.06-.94 2.06-2.06.94zm-11 1L8.5 8.5l.94-2.06 2.06-.94-2.06-.94L8.5 2.5l-.94 2.06-2.06.94zm10 10l.94 2.06.94-2.06 2.06-.94-2.06-.94-.94-2.06-.94 2.06-2.06.94z\"/><path d=\"M17.41 7.96l-1.37-1.37c-.4-.4-.92-.59-1.43-.59-.52 0-1.04.2-1.43.59L10.3 9.45l-7.72 7.72c-.78.78-.78 2.05 0 2.83L4 21.41c.39.39.9.59 1.41.59.51 0 1.02-.2 1.41-.59l7.78-7.78 2.81-2.81c.8-.78.8-2.07 0-2.86zM5.41 20L4 18.59l7.72-7.72 1.47 1.35L5.41 20z\"/>\n",
              "  </svg>\n",
              "      </button>\n",
              "      \n",
              "  <style>\n",
              "    .colab-df-container {\n",
              "      display:flex;\n",
              "      flex-wrap:wrap;\n",
              "      gap: 12px;\n",
              "    }\n",
              "\n",
              "    .colab-df-convert {\n",
              "      background-color: #E8F0FE;\n",
              "      border: none;\n",
              "      border-radius: 50%;\n",
              "      cursor: pointer;\n",
              "      display: none;\n",
              "      fill: #1967D2;\n",
              "      height: 32px;\n",
              "      padding: 0 0 0 0;\n",
              "      width: 32px;\n",
              "    }\n",
              "\n",
              "    .colab-df-convert:hover {\n",
              "      background-color: #E2EBFA;\n",
              "      box-shadow: 0px 1px 2px rgba(60, 64, 67, 0.3), 0px 1px 3px 1px rgba(60, 64, 67, 0.15);\n",
              "      fill: #174EA6;\n",
              "    }\n",
              "\n",
              "    [theme=dark] .colab-df-convert {\n",
              "      background-color: #3B4455;\n",
              "      fill: #D2E3FC;\n",
              "    }\n",
              "\n",
              "    [theme=dark] .colab-df-convert:hover {\n",
              "      background-color: #434B5C;\n",
              "      box-shadow: 0px 1px 3px 1px rgba(0, 0, 0, 0.15);\n",
              "      filter: drop-shadow(0px 1px 2px rgba(0, 0, 0, 0.3));\n",
              "      fill: #FFFFFF;\n",
              "    }\n",
              "  </style>\n",
              "\n",
              "      <script>\n",
              "        const buttonEl =\n",
              "          document.querySelector('#df-aad95fdd-d028-496f-a5ce-f041641ac0e9 button.colab-df-convert');\n",
              "        buttonEl.style.display =\n",
              "          google.colab.kernel.accessAllowed ? 'block' : 'none';\n",
              "\n",
              "        async function convertToInteractive(key) {\n",
              "          const element = document.querySelector('#df-aad95fdd-d028-496f-a5ce-f041641ac0e9');\n",
              "          const dataTable =\n",
              "            await google.colab.kernel.invokeFunction('convertToInteractive',\n",
              "                                                     [key], {});\n",
              "          if (!dataTable) return;\n",
              "\n",
              "          const docLinkHtml = 'Like what you see? Visit the ' +\n",
              "            '<a target=\"_blank\" href=https://colab.research.google.com/notebooks/data_table.ipynb>data table notebook</a>'\n",
              "            + ' to learn more about interactive tables.';\n",
              "          element.innerHTML = '';\n",
              "          dataTable['output_type'] = 'display_data';\n",
              "          await google.colab.output.renderOutput(dataTable, element);\n",
              "          const docLink = document.createElement('div');\n",
              "          docLink.innerHTML = docLinkHtml;\n",
              "          element.appendChild(docLink);\n",
              "        }\n",
              "      </script>\n",
              "    </div>\n",
              "  </div>\n",
              "  "
            ]
          },
          "metadata": {},
          "execution_count": 199
        }
      ]
    },
    {
      "cell_type": "code",
      "source": [
        "calc_vif(nyc_taxi_df[[feat for feat in nyc_taxi_df.describe().columns if feat not in ['vendor_id','trip_duration','speed','dropoff_hr','dropoff_longitude','dropoff_latitude','pickup_latitude','pickup_longitude']]])"
      ],
      "metadata": {
        "colab": {
          "base_uri": "https://localhost:8080/",
          "height": 175
        },
        "id": "Pev7gKeETg4K",
        "outputId": "9d8f533c-330a-4350-b6e2-cca741d08d91"
      },
      "execution_count": 202,
      "outputs": [
        {
          "output_type": "execute_result",
          "data": {
            "text/plain": [
              "         variables       VIF\n",
              "0  passenger_count  2.276929\n",
              "1        pickup_hr  3.461440\n",
              "2       trip_month  3.463088\n",
              "3         distance  1.654040"
            ],
            "text/html": [
              "\n",
              "  <div id=\"df-38b083df-633c-4a6e-9e83-eb1588250025\">\n",
              "    <div class=\"colab-df-container\">\n",
              "      <div>\n",
              "<style scoped>\n",
              "    .dataframe tbody tr th:only-of-type {\n",
              "        vertical-align: middle;\n",
              "    }\n",
              "\n",
              "    .dataframe tbody tr th {\n",
              "        vertical-align: top;\n",
              "    }\n",
              "\n",
              "    .dataframe thead th {\n",
              "        text-align: right;\n",
              "    }\n",
              "</style>\n",
              "<table border=\"1\" class=\"dataframe\">\n",
              "  <thead>\n",
              "    <tr style=\"text-align: right;\">\n",
              "      <th></th>\n",
              "      <th>variables</th>\n",
              "      <th>VIF</th>\n",
              "    </tr>\n",
              "  </thead>\n",
              "  <tbody>\n",
              "    <tr>\n",
              "      <th>0</th>\n",
              "      <td>passenger_count</td>\n",
              "      <td>2.276929</td>\n",
              "    </tr>\n",
              "    <tr>\n",
              "      <th>1</th>\n",
              "      <td>pickup_hr</td>\n",
              "      <td>3.461440</td>\n",
              "    </tr>\n",
              "    <tr>\n",
              "      <th>2</th>\n",
              "      <td>trip_month</td>\n",
              "      <td>3.463088</td>\n",
              "    </tr>\n",
              "    <tr>\n",
              "      <th>3</th>\n",
              "      <td>distance</td>\n",
              "      <td>1.654040</td>\n",
              "    </tr>\n",
              "  </tbody>\n",
              "</table>\n",
              "</div>\n",
              "      <button class=\"colab-df-convert\" onclick=\"convertToInteractive('df-38b083df-633c-4a6e-9e83-eb1588250025')\"\n",
              "              title=\"Convert this dataframe to an interactive table.\"\n",
              "              style=\"display:none;\">\n",
              "        \n",
              "  <svg xmlns=\"http://www.w3.org/2000/svg\" height=\"24px\"viewBox=\"0 0 24 24\"\n",
              "       width=\"24px\">\n",
              "    <path d=\"M0 0h24v24H0V0z\" fill=\"none\"/>\n",
              "    <path d=\"M18.56 5.44l.94 2.06.94-2.06 2.06-.94-2.06-.94-.94-2.06-.94 2.06-2.06.94zm-11 1L8.5 8.5l.94-2.06 2.06-.94-2.06-.94L8.5 2.5l-.94 2.06-2.06.94zm10 10l.94 2.06.94-2.06 2.06-.94-2.06-.94-.94-2.06-.94 2.06-2.06.94z\"/><path d=\"M17.41 7.96l-1.37-1.37c-.4-.4-.92-.59-1.43-.59-.52 0-1.04.2-1.43.59L10.3 9.45l-7.72 7.72c-.78.78-.78 2.05 0 2.83L4 21.41c.39.39.9.59 1.41.59.51 0 1.02-.2 1.41-.59l7.78-7.78 2.81-2.81c.8-.78.8-2.07 0-2.86zM5.41 20L4 18.59l7.72-7.72 1.47 1.35L5.41 20z\"/>\n",
              "  </svg>\n",
              "      </button>\n",
              "      \n",
              "  <style>\n",
              "    .colab-df-container {\n",
              "      display:flex;\n",
              "      flex-wrap:wrap;\n",
              "      gap: 12px;\n",
              "    }\n",
              "\n",
              "    .colab-df-convert {\n",
              "      background-color: #E8F0FE;\n",
              "      border: none;\n",
              "      border-radius: 50%;\n",
              "      cursor: pointer;\n",
              "      display: none;\n",
              "      fill: #1967D2;\n",
              "      height: 32px;\n",
              "      padding: 0 0 0 0;\n",
              "      width: 32px;\n",
              "    }\n",
              "\n",
              "    .colab-df-convert:hover {\n",
              "      background-color: #E2EBFA;\n",
              "      box-shadow: 0px 1px 2px rgba(60, 64, 67, 0.3), 0px 1px 3px 1px rgba(60, 64, 67, 0.15);\n",
              "      fill: #174EA6;\n",
              "    }\n",
              "\n",
              "    [theme=dark] .colab-df-convert {\n",
              "      background-color: #3B4455;\n",
              "      fill: #D2E3FC;\n",
              "    }\n",
              "\n",
              "    [theme=dark] .colab-df-convert:hover {\n",
              "      background-color: #434B5C;\n",
              "      box-shadow: 0px 1px 3px 1px rgba(0, 0, 0, 0.15);\n",
              "      filter: drop-shadow(0px 1px 2px rgba(0, 0, 0, 0.3));\n",
              "      fill: #FFFFFF;\n",
              "    }\n",
              "  </style>\n",
              "\n",
              "      <script>\n",
              "        const buttonEl =\n",
              "          document.querySelector('#df-38b083df-633c-4a6e-9e83-eb1588250025 button.colab-df-convert');\n",
              "        buttonEl.style.display =\n",
              "          google.colab.kernel.accessAllowed ? 'block' : 'none';\n",
              "\n",
              "        async function convertToInteractive(key) {\n",
              "          const element = document.querySelector('#df-38b083df-633c-4a6e-9e83-eb1588250025');\n",
              "          const dataTable =\n",
              "            await google.colab.kernel.invokeFunction('convertToInteractive',\n",
              "                                                     [key], {});\n",
              "          if (!dataTable) return;\n",
              "\n",
              "          const docLinkHtml = 'Like what you see? Visit the ' +\n",
              "            '<a target=\"_blank\" href=https://colab.research.google.com/notebooks/data_table.ipynb>data table notebook</a>'\n",
              "            + ' to learn more about interactive tables.';\n",
              "          element.innerHTML = '';\n",
              "          dataTable['output_type'] = 'display_data';\n",
              "          await google.colab.output.renderOutput(dataTable, element);\n",
              "          const docLink = document.createElement('div');\n",
              "          docLink.innerHTML = docLinkHtml;\n",
              "          element.appendChild(docLink);\n",
              "        }\n",
              "      </script>\n",
              "    </div>\n",
              "  </div>\n",
              "  "
            ]
          },
          "metadata": {},
          "execution_count": 202
        }
      ]
    },
    {
      "cell_type": "code",
      "source": [],
      "metadata": {
        "id": "eZfXNWSNT5dm"
      },
      "execution_count": null,
      "outputs": []
    }
  ]
}