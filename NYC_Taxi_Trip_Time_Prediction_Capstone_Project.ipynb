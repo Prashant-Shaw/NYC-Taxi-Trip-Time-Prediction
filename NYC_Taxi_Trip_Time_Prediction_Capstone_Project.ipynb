{
  "nbformat": 4,
  "nbformat_minor": 0,
  "metadata": {
    "kernelspec": {
      "display_name": "Python 3",
      "language": "python",
      "name": "python3"
    },
    "language_info": {
      "codemirror_mode": {
        "name": "ipython",
        "version": 3
      },
      "file_extension": ".py",
      "mimetype": "text/x-python",
      "name": "python",
      "nbconvert_exporter": "python",
      "pygments_lexer": "ipython3",
      "version": "3.6.6"
    },
    "colab": {
      "provenance": [],
      "collapsed_sections": [],
      "include_colab_link": true
    }
  },
  "cells": [
    {
      "cell_type": "markdown",
      "metadata": {
        "id": "view-in-github",
        "colab_type": "text"
      },
      "source": [
        "<a href=\"https://colab.research.google.com/github/Prashant-Shaw/NYC-Taxi-Trip-Time-Prediction/blob/main/NYC_Taxi_Trip_Time_Prediction_Capstone_Project.ipynb\" target=\"_parent\"><img src=\"https://colab.research.google.com/assets/colab-badge.svg\" alt=\"Open In Colab\"/></a>"
      ]
    },
    {
      "cell_type": "markdown",
      "metadata": {
        "id": "tOGC-qoyhJeX"
      },
      "source": [
        "# <b><u> Project Title : Taxi trip time Prediction : Predicting total ride duration of taxi trips in New York City</u></b>"
      ]
    },
    {
      "cell_type": "markdown",
      "metadata": {
        "id": "Y06xIdG26kRF"
      },
      "source": [
        "## <b> Problem Description </b>\n",
        "\n",
        "### Your task is to build a model that predicts the total ride duration of taxi trips in New York City. Your primary dataset is one released by the NYC Taxi and Limousine Commission, which includes pickup time, geo-coordinates, number of passengers, and several other variables."
      ]
    },
    {
      "cell_type": "markdown",
      "metadata": {
        "id": "WWeU1f9bwqQq"
      },
      "source": [
        "## <b> Data Description </b>\n",
        "\n",
        "### The dataset is based on the 2016 NYC Yellow Cab trip record data made available in Big Query on Google Cloud Platform. The data was originally published by the NYC Taxi and Limousine Commission (TLC). The data was sampled and cleaned for the purposes of this project. Based on individual trip attributes, you should predict the duration of each trip in the test set.\n",
        "\n",
        "### <b>NYC Taxi Data.csv</b> - the training set (contains 1458644 trip records)\n",
        "\n",
        "\n",
        "### Data fields\n",
        "* #### id - a unique identifier for each trip\n",
        "* #### vendor_id - a code indicating the provider associated with the trip record\n",
        "* #### pickup_datetime - date and time when the meter was engaged\n",
        "* #### dropoff_datetime - date and time when the meter was disengaged\n",
        "* #### passenger_count - the number of passengers in the vehicle (driver entered value)\n",
        "* #### pickup_longitude - the longitude where the meter was engaged\n",
        "* #### pickup_latitude - the latitude where the meter was engaged\n",
        "* #### dropoff_longitude - the longitude where the meter was disengaged\n",
        "* #### dropoff_latitude - the latitude where the meter was disengaged\n",
        "* #### store_and_fwd_flag - This flag indicates whether the trip record was held in vehicle memory before sending to the vendor because the vehicle did not have a connection to the server - Y=store and forward; N=not a store and forward trip\n",
        "* #### trip_duration - duration of the trip in seconds"
      ]
    },
    {
      "cell_type": "markdown",
      "source": [
        "## **Importing Libraries**"
      ],
      "metadata": {
        "id": "UuH3uWkYvudu"
      }
    },
    {
      "cell_type": "code",
      "metadata": {
        "id": "dByMsuzT8Tnw"
      },
      "source": [
        "import numpy as np\n",
        "import pandas as pd\n",
        "from numpy import math\n",
        "\n",
        "from geopy.distance import geodesic\n",
        "from sklearn.preprocessing import MinMaxScaler\n",
        "from sklearn.model_selection import train_test_split\n",
        "from sklearn.linear_model import LinearRegression\n",
        "from sklearn.metrics import r2_score\n",
        "from sklearn.metrics import mean_squared_error\n",
        "import seaborn as sns\n",
        "import matplotlib.pyplot as plt\n",
        "import warnings\n",
        "warnings.filterwarnings('ignore')"
      ],
      "execution_count": 1,
      "outputs": []
    },
    {
      "cell_type": "markdown",
      "source": [
        "## **Mounting Drive & Reading Dataset**"
      ],
      "metadata": {
        "id": "dPZbQ-UAv32X"
      }
    },
    {
      "cell_type": "code",
      "source": [
        "from google.colab import drive\n",
        "drive.mount('/content/mydrive')"
      ],
      "metadata": {
        "colab": {
          "base_uri": "https://localhost:8080/"
        },
        "id": "4uzz31Kev1lT",
        "outputId": "bff80fb9-6d4d-41a8-9118-d9e7ddf4744e"
      },
      "execution_count": 2,
      "outputs": [
        {
          "output_type": "stream",
          "name": "stdout",
          "text": [
            "Mounted at /content/mydrive\n"
          ]
        }
      ]
    },
    {
      "cell_type": "code",
      "source": [
        "nyc_taxi_path = '/content/mydrive/MyDrive/AlmaBetter/Capstone Project - Supervised ML Regression/NYC Taxi Data.csv'\n",
        "nyc_taxi_df = pd.read_csv(nyc_taxi_path)"
      ],
      "metadata": {
        "id": "dz_bOdw9v5op"
      },
      "execution_count": 3,
      "outputs": []
    },
    {
      "cell_type": "markdown",
      "source": [
        "## **Exploring The Dataset**"
      ],
      "metadata": {
        "id": "h4eYzJM_zDbf"
      }
    },
    {
      "cell_type": "code",
      "source": [
        "nyc_taxi_df.shape"
      ],
      "metadata": {
        "id": "lnYLlSCHwFQ7",
        "colab": {
          "base_uri": "https://localhost:8080/"
        },
        "outputId": "3b36836e-8917-45e8-ecdc-eddd02652444"
      },
      "execution_count": 4,
      "outputs": [
        {
          "output_type": "execute_result",
          "data": {
            "text/plain": [
              "(1458644, 11)"
            ]
          },
          "metadata": {},
          "execution_count": 4
        }
      ]
    },
    {
      "cell_type": "markdown",
      "source": [
        "There are total 1458644 entries and 11 features in the dataset. Lets explore more to know the type of features."
      ],
      "metadata": {
        "id": "V2LcOiA9zOFF"
      }
    },
    {
      "cell_type": "code",
      "source": [
        "#Columns in the dataset\n",
        "nyc_taxi_df.columns"
      ],
      "metadata": {
        "colab": {
          "base_uri": "https://localhost:8080/"
        },
        "id": "tEr44ptSxZFT",
        "outputId": "e920c7b2-add0-4a8e-ab68-2ca3303c70c4"
      },
      "execution_count": 5,
      "outputs": [
        {
          "output_type": "execute_result",
          "data": {
            "text/plain": [
              "Index(['id', 'vendor_id', 'pickup_datetime', 'dropoff_datetime',\n",
              "       'passenger_count', 'pickup_longitude', 'pickup_latitude',\n",
              "       'dropoff_longitude', 'dropoff_latitude', 'store_and_fwd_flag',\n",
              "       'trip_duration'],\n",
              "      dtype='object')"
            ]
          },
          "metadata": {},
          "execution_count": 5
        }
      ]
    },
    {
      "cell_type": "code",
      "source": [
        "#Let's look at the dataset\n",
        "nyc_taxi_df.head()"
      ],
      "metadata": {
        "colab": {
          "base_uri": "https://localhost:8080/",
          "height": 337
        },
        "id": "jigYSgiTwwuR",
        "outputId": "9fd0b6e1-a682-4d90-d08a-dac39deb0174"
      },
      "execution_count": 6,
      "outputs": [
        {
          "output_type": "execute_result",
          "data": {
            "text/plain": [
              "          id  vendor_id      pickup_datetime     dropoff_datetime  \\\n",
              "0  id2875421          2  2016-03-14 17:24:55  2016-03-14 17:32:30   \n",
              "1  id2377394          1  2016-06-12 00:43:35  2016-06-12 00:54:38   \n",
              "2  id3858529          2  2016-01-19 11:35:24  2016-01-19 12:10:48   \n",
              "3  id3504673          2  2016-04-06 19:32:31  2016-04-06 19:39:40   \n",
              "4  id2181028          2  2016-03-26 13:30:55  2016-03-26 13:38:10   \n",
              "\n",
              "   passenger_count  pickup_longitude  pickup_latitude  dropoff_longitude  \\\n",
              "0                1        -73.982155        40.767937         -73.964630   \n",
              "1                1        -73.980415        40.738564         -73.999481   \n",
              "2                1        -73.979027        40.763939         -74.005333   \n",
              "3                1        -74.010040        40.719971         -74.012268   \n",
              "4                1        -73.973053        40.793209         -73.972923   \n",
              "\n",
              "   dropoff_latitude store_and_fwd_flag  trip_duration  \n",
              "0         40.765602                  N            455  \n",
              "1         40.731152                  N            663  \n",
              "2         40.710087                  N           2124  \n",
              "3         40.706718                  N            429  \n",
              "4         40.782520                  N            435  "
            ],
            "text/html": [
              "\n",
              "  <div id=\"df-2a7aa668-2026-4995-9f94-f7c9e0e15190\">\n",
              "    <div class=\"colab-df-container\">\n",
              "      <div>\n",
              "<style scoped>\n",
              "    .dataframe tbody tr th:only-of-type {\n",
              "        vertical-align: middle;\n",
              "    }\n",
              "\n",
              "    .dataframe tbody tr th {\n",
              "        vertical-align: top;\n",
              "    }\n",
              "\n",
              "    .dataframe thead th {\n",
              "        text-align: right;\n",
              "    }\n",
              "</style>\n",
              "<table border=\"1\" class=\"dataframe\">\n",
              "  <thead>\n",
              "    <tr style=\"text-align: right;\">\n",
              "      <th></th>\n",
              "      <th>id</th>\n",
              "      <th>vendor_id</th>\n",
              "      <th>pickup_datetime</th>\n",
              "      <th>dropoff_datetime</th>\n",
              "      <th>passenger_count</th>\n",
              "      <th>pickup_longitude</th>\n",
              "      <th>pickup_latitude</th>\n",
              "      <th>dropoff_longitude</th>\n",
              "      <th>dropoff_latitude</th>\n",
              "      <th>store_and_fwd_flag</th>\n",
              "      <th>trip_duration</th>\n",
              "    </tr>\n",
              "  </thead>\n",
              "  <tbody>\n",
              "    <tr>\n",
              "      <th>0</th>\n",
              "      <td>id2875421</td>\n",
              "      <td>2</td>\n",
              "      <td>2016-03-14 17:24:55</td>\n",
              "      <td>2016-03-14 17:32:30</td>\n",
              "      <td>1</td>\n",
              "      <td>-73.982155</td>\n",
              "      <td>40.767937</td>\n",
              "      <td>-73.964630</td>\n",
              "      <td>40.765602</td>\n",
              "      <td>N</td>\n",
              "      <td>455</td>\n",
              "    </tr>\n",
              "    <tr>\n",
              "      <th>1</th>\n",
              "      <td>id2377394</td>\n",
              "      <td>1</td>\n",
              "      <td>2016-06-12 00:43:35</td>\n",
              "      <td>2016-06-12 00:54:38</td>\n",
              "      <td>1</td>\n",
              "      <td>-73.980415</td>\n",
              "      <td>40.738564</td>\n",
              "      <td>-73.999481</td>\n",
              "      <td>40.731152</td>\n",
              "      <td>N</td>\n",
              "      <td>663</td>\n",
              "    </tr>\n",
              "    <tr>\n",
              "      <th>2</th>\n",
              "      <td>id3858529</td>\n",
              "      <td>2</td>\n",
              "      <td>2016-01-19 11:35:24</td>\n",
              "      <td>2016-01-19 12:10:48</td>\n",
              "      <td>1</td>\n",
              "      <td>-73.979027</td>\n",
              "      <td>40.763939</td>\n",
              "      <td>-74.005333</td>\n",
              "      <td>40.710087</td>\n",
              "      <td>N</td>\n",
              "      <td>2124</td>\n",
              "    </tr>\n",
              "    <tr>\n",
              "      <th>3</th>\n",
              "      <td>id3504673</td>\n",
              "      <td>2</td>\n",
              "      <td>2016-04-06 19:32:31</td>\n",
              "      <td>2016-04-06 19:39:40</td>\n",
              "      <td>1</td>\n",
              "      <td>-74.010040</td>\n",
              "      <td>40.719971</td>\n",
              "      <td>-74.012268</td>\n",
              "      <td>40.706718</td>\n",
              "      <td>N</td>\n",
              "      <td>429</td>\n",
              "    </tr>\n",
              "    <tr>\n",
              "      <th>4</th>\n",
              "      <td>id2181028</td>\n",
              "      <td>2</td>\n",
              "      <td>2016-03-26 13:30:55</td>\n",
              "      <td>2016-03-26 13:38:10</td>\n",
              "      <td>1</td>\n",
              "      <td>-73.973053</td>\n",
              "      <td>40.793209</td>\n",
              "      <td>-73.972923</td>\n",
              "      <td>40.782520</td>\n",
              "      <td>N</td>\n",
              "      <td>435</td>\n",
              "    </tr>\n",
              "  </tbody>\n",
              "</table>\n",
              "</div>\n",
              "      <button class=\"colab-df-convert\" onclick=\"convertToInteractive('df-2a7aa668-2026-4995-9f94-f7c9e0e15190')\"\n",
              "              title=\"Convert this dataframe to an interactive table.\"\n",
              "              style=\"display:none;\">\n",
              "        \n",
              "  <svg xmlns=\"http://www.w3.org/2000/svg\" height=\"24px\"viewBox=\"0 0 24 24\"\n",
              "       width=\"24px\">\n",
              "    <path d=\"M0 0h24v24H0V0z\" fill=\"none\"/>\n",
              "    <path d=\"M18.56 5.44l.94 2.06.94-2.06 2.06-.94-2.06-.94-.94-2.06-.94 2.06-2.06.94zm-11 1L8.5 8.5l.94-2.06 2.06-.94-2.06-.94L8.5 2.5l-.94 2.06-2.06.94zm10 10l.94 2.06.94-2.06 2.06-.94-2.06-.94-.94-2.06-.94 2.06-2.06.94z\"/><path d=\"M17.41 7.96l-1.37-1.37c-.4-.4-.92-.59-1.43-.59-.52 0-1.04.2-1.43.59L10.3 9.45l-7.72 7.72c-.78.78-.78 2.05 0 2.83L4 21.41c.39.39.9.59 1.41.59.51 0 1.02-.2 1.41-.59l7.78-7.78 2.81-2.81c.8-.78.8-2.07 0-2.86zM5.41 20L4 18.59l7.72-7.72 1.47 1.35L5.41 20z\"/>\n",
              "  </svg>\n",
              "      </button>\n",
              "      \n",
              "  <style>\n",
              "    .colab-df-container {\n",
              "      display:flex;\n",
              "      flex-wrap:wrap;\n",
              "      gap: 12px;\n",
              "    }\n",
              "\n",
              "    .colab-df-convert {\n",
              "      background-color: #E8F0FE;\n",
              "      border: none;\n",
              "      border-radius: 50%;\n",
              "      cursor: pointer;\n",
              "      display: none;\n",
              "      fill: #1967D2;\n",
              "      height: 32px;\n",
              "      padding: 0 0 0 0;\n",
              "      width: 32px;\n",
              "    }\n",
              "\n",
              "    .colab-df-convert:hover {\n",
              "      background-color: #E2EBFA;\n",
              "      box-shadow: 0px 1px 2px rgba(60, 64, 67, 0.3), 0px 1px 3px 1px rgba(60, 64, 67, 0.15);\n",
              "      fill: #174EA6;\n",
              "    }\n",
              "\n",
              "    [theme=dark] .colab-df-convert {\n",
              "      background-color: #3B4455;\n",
              "      fill: #D2E3FC;\n",
              "    }\n",
              "\n",
              "    [theme=dark] .colab-df-convert:hover {\n",
              "      background-color: #434B5C;\n",
              "      box-shadow: 0px 1px 3px 1px rgba(0, 0, 0, 0.15);\n",
              "      filter: drop-shadow(0px 1px 2px rgba(0, 0, 0, 0.3));\n",
              "      fill: #FFFFFF;\n",
              "    }\n",
              "  </style>\n",
              "\n",
              "      <script>\n",
              "        const buttonEl =\n",
              "          document.querySelector('#df-2a7aa668-2026-4995-9f94-f7c9e0e15190 button.colab-df-convert');\n",
              "        buttonEl.style.display =\n",
              "          google.colab.kernel.accessAllowed ? 'block' : 'none';\n",
              "\n",
              "        async function convertToInteractive(key) {\n",
              "          const element = document.querySelector('#df-2a7aa668-2026-4995-9f94-f7c9e0e15190');\n",
              "          const dataTable =\n",
              "            await google.colab.kernel.invokeFunction('convertToInteractive',\n",
              "                                                     [key], {});\n",
              "          if (!dataTable) return;\n",
              "\n",
              "          const docLinkHtml = 'Like what you see? Visit the ' +\n",
              "            '<a target=\"_blank\" href=https://colab.research.google.com/notebooks/data_table.ipynb>data table notebook</a>'\n",
              "            + ' to learn more about interactive tables.';\n",
              "          element.innerHTML = '';\n",
              "          dataTable['output_type'] = 'display_data';\n",
              "          await google.colab.output.renderOutput(dataTable, element);\n",
              "          const docLink = document.createElement('div');\n",
              "          docLink.innerHTML = docLinkHtml;\n",
              "          element.appendChild(docLink);\n",
              "        }\n",
              "      </script>\n",
              "    </div>\n",
              "  </div>\n",
              "  "
            ]
          },
          "metadata": {},
          "execution_count": 6
        }
      ]
    },
    {
      "cell_type": "code",
      "source": [
        "#Checking the datatype of each features.\n",
        "nyc_taxi_df.dtypes"
      ],
      "metadata": {
        "colab": {
          "base_uri": "https://localhost:8080/"
        },
        "id": "5PocpSrkwy1c",
        "outputId": "5d628a55-19c0-4145-e245-53e790ef0f23"
      },
      "execution_count": 7,
      "outputs": [
        {
          "output_type": "execute_result",
          "data": {
            "text/plain": [
              "id                     object\n",
              "vendor_id               int64\n",
              "pickup_datetime        object\n",
              "dropoff_datetime       object\n",
              "passenger_count         int64\n",
              "pickup_longitude      float64\n",
              "pickup_latitude       float64\n",
              "dropoff_longitude     float64\n",
              "dropoff_latitude      float64\n",
              "store_and_fwd_flag     object\n",
              "trip_duration           int64\n",
              "dtype: object"
            ]
          },
          "metadata": {},
          "execution_count": 7
        }
      ]
    },
    {
      "cell_type": "markdown",
      "source": [
        "* id, pickup_datetime, dropoff_datetime, store_and_fwd_flag are of object dtype.\n",
        "* vendor_id, passenger_count and trip_duration are of int dtype.\n",
        "* pickup_longitude, pickup_lattitude, dropoff_longitude and dropoff_lattitude are of float dtype."
      ],
      "metadata": {
        "id": "YNaE3f_Pz3VB"
      }
    },
    {
      "cell_type": "markdown",
      "source": [
        "###Independent Variables - \n",
        "id, \n",
        "vendor_id, \n",
        "pickup_datetime, \n",
        "dropoff_datetime, \n",
        "passenger_count, \n",
        "pickup_longitude, \n",
        "pickup_latitude, \n",
        "dropoff_longitude, \n",
        "dropoff_latitude, \n",
        "store_and_fwd_flag\n",
        "\n",
        "###Dependent / Target Variable -\n",
        "trip_duration "
      ],
      "metadata": {
        "id": "8cg-a_qZ02CA"
      }
    },
    {
      "cell_type": "code",
      "source": [
        "#Checking for null values in the dataset\n",
        "nyc_taxi_df.isnull().sum()"
      ],
      "metadata": {
        "colab": {
          "base_uri": "https://localhost:8080/"
        },
        "id": "PgFbefKGxkmT",
        "outputId": "4bb392e9-6457-49c9-c673-90d460811cda"
      },
      "execution_count": 8,
      "outputs": [
        {
          "output_type": "execute_result",
          "data": {
            "text/plain": [
              "id                    0\n",
              "vendor_id             0\n",
              "pickup_datetime       0\n",
              "dropoff_datetime      0\n",
              "passenger_count       0\n",
              "pickup_longitude      0\n",
              "pickup_latitude       0\n",
              "dropoff_longitude     0\n",
              "dropoff_latitude      0\n",
              "store_and_fwd_flag    0\n",
              "trip_duration         0\n",
              "dtype: int64"
            ]
          },
          "metadata": {},
          "execution_count": 8
        }
      ]
    },
    {
      "cell_type": "markdown",
      "source": [
        "There are no null values in the dataset which is good."
      ],
      "metadata": {
        "id": "8Nw521rz2X84"
      }
    },
    {
      "cell_type": "code",
      "source": [
        "#Checking the info of the dataset\n",
        "nyc_taxi_df.info()"
      ],
      "metadata": {
        "colab": {
          "base_uri": "https://localhost:8080/"
        },
        "id": "h-I6nRqhy6-O",
        "outputId": "185e1df8-3ebf-4e83-ea0b-302ae89d64bc"
      },
      "execution_count": 9,
      "outputs": [
        {
          "output_type": "stream",
          "name": "stdout",
          "text": [
            "<class 'pandas.core.frame.DataFrame'>\n",
            "RangeIndex: 1458644 entries, 0 to 1458643\n",
            "Data columns (total 11 columns):\n",
            " #   Column              Non-Null Count    Dtype  \n",
            "---  ------              --------------    -----  \n",
            " 0   id                  1458644 non-null  object \n",
            " 1   vendor_id           1458644 non-null  int64  \n",
            " 2   pickup_datetime     1458644 non-null  object \n",
            " 3   dropoff_datetime    1458644 non-null  object \n",
            " 4   passenger_count     1458644 non-null  int64  \n",
            " 5   pickup_longitude    1458644 non-null  float64\n",
            " 6   pickup_latitude     1458644 non-null  float64\n",
            " 7   dropoff_longitude   1458644 non-null  float64\n",
            " 8   dropoff_latitude    1458644 non-null  float64\n",
            " 9   store_and_fwd_flag  1458644 non-null  object \n",
            " 10  trip_duration       1458644 non-null  int64  \n",
            "dtypes: float64(4), int64(3), object(4)\n",
            "memory usage: 122.4+ MB\n"
          ]
        }
      ]
    },
    {
      "cell_type": "code",
      "source": [
        "#Checking the unique values in the dataset\n",
        "nyc_taxi_df.nunique()"
      ],
      "metadata": {
        "colab": {
          "base_uri": "https://localhost:8080/"
        },
        "id": "qvjMzvhr3NGX",
        "outputId": "2e454683-c588-438f-adff-a5eb067a5f33"
      },
      "execution_count": 10,
      "outputs": [
        {
          "output_type": "execute_result",
          "data": {
            "text/plain": [
              "id                    1458644\n",
              "vendor_id                   2\n",
              "pickup_datetime       1380222\n",
              "dropoff_datetime      1380377\n",
              "passenger_count            10\n",
              "pickup_longitude        23047\n",
              "pickup_latitude         45245\n",
              "dropoff_longitude       33821\n",
              "dropoff_latitude        62519\n",
              "store_and_fwd_flag          2\n",
              "trip_duration            7417\n",
              "dtype: int64"
            ]
          },
          "metadata": {},
          "execution_count": 10
        }
      ]
    },
    {
      "cell_type": "markdown",
      "source": [
        "There are 1458644 unique entries in column 'id' which is same as number of rows in the dataset. So, there is no duplicate entries in the dataset.  "
      ],
      "metadata": {
        "id": "FH9gCTvR8Q6C"
      }
    },
    {
      "cell_type": "code",
      "source": [
        "#Describing the dataset\n",
        "nyc_taxi_df.describe()"
      ],
      "metadata": {
        "colab": {
          "base_uri": "https://localhost:8080/",
          "height": 300
        },
        "id": "FKDNjjwB7uhm",
        "outputId": "edadd98f-bbbd-4a50-cb5e-0c6966ab2c60"
      },
      "execution_count": 11,
      "outputs": [
        {
          "output_type": "execute_result",
          "data": {
            "text/plain": [
              "          vendor_id  passenger_count  pickup_longitude  pickup_latitude  \\\n",
              "count  1.458644e+06     1.458644e+06      1.458644e+06     1.458644e+06   \n",
              "mean   1.534950e+00     1.664530e+00     -7.397349e+01     4.075092e+01   \n",
              "std    4.987772e-01     1.314242e+00      7.090186e-02     3.288119e-02   \n",
              "min    1.000000e+00     0.000000e+00     -1.219333e+02     3.435970e+01   \n",
              "25%    1.000000e+00     1.000000e+00     -7.399187e+01     4.073735e+01   \n",
              "50%    2.000000e+00     1.000000e+00     -7.398174e+01     4.075410e+01   \n",
              "75%    2.000000e+00     2.000000e+00     -7.396733e+01     4.076836e+01   \n",
              "max    2.000000e+00     9.000000e+00     -6.133553e+01     5.188108e+01   \n",
              "\n",
              "       dropoff_longitude  dropoff_latitude  trip_duration  \n",
              "count       1.458644e+06      1.458644e+06   1.458644e+06  \n",
              "mean       -7.397342e+01      4.075180e+01   9.594923e+02  \n",
              "std         7.064327e-02      3.589056e-02   5.237432e+03  \n",
              "min        -1.219333e+02      3.218114e+01   1.000000e+00  \n",
              "25%        -7.399133e+01      4.073588e+01   3.970000e+02  \n",
              "50%        -7.397975e+01      4.075452e+01   6.620000e+02  \n",
              "75%        -7.396301e+01      4.076981e+01   1.075000e+03  \n",
              "max        -6.133553e+01      4.392103e+01   3.526282e+06  "
            ],
            "text/html": [
              "\n",
              "  <div id=\"df-a3d422c8-4092-4110-8a7c-9bf2d5f3208f\">\n",
              "    <div class=\"colab-df-container\">\n",
              "      <div>\n",
              "<style scoped>\n",
              "    .dataframe tbody tr th:only-of-type {\n",
              "        vertical-align: middle;\n",
              "    }\n",
              "\n",
              "    .dataframe tbody tr th {\n",
              "        vertical-align: top;\n",
              "    }\n",
              "\n",
              "    .dataframe thead th {\n",
              "        text-align: right;\n",
              "    }\n",
              "</style>\n",
              "<table border=\"1\" class=\"dataframe\">\n",
              "  <thead>\n",
              "    <tr style=\"text-align: right;\">\n",
              "      <th></th>\n",
              "      <th>vendor_id</th>\n",
              "      <th>passenger_count</th>\n",
              "      <th>pickup_longitude</th>\n",
              "      <th>pickup_latitude</th>\n",
              "      <th>dropoff_longitude</th>\n",
              "      <th>dropoff_latitude</th>\n",
              "      <th>trip_duration</th>\n",
              "    </tr>\n",
              "  </thead>\n",
              "  <tbody>\n",
              "    <tr>\n",
              "      <th>count</th>\n",
              "      <td>1.458644e+06</td>\n",
              "      <td>1.458644e+06</td>\n",
              "      <td>1.458644e+06</td>\n",
              "      <td>1.458644e+06</td>\n",
              "      <td>1.458644e+06</td>\n",
              "      <td>1.458644e+06</td>\n",
              "      <td>1.458644e+06</td>\n",
              "    </tr>\n",
              "    <tr>\n",
              "      <th>mean</th>\n",
              "      <td>1.534950e+00</td>\n",
              "      <td>1.664530e+00</td>\n",
              "      <td>-7.397349e+01</td>\n",
              "      <td>4.075092e+01</td>\n",
              "      <td>-7.397342e+01</td>\n",
              "      <td>4.075180e+01</td>\n",
              "      <td>9.594923e+02</td>\n",
              "    </tr>\n",
              "    <tr>\n",
              "      <th>std</th>\n",
              "      <td>4.987772e-01</td>\n",
              "      <td>1.314242e+00</td>\n",
              "      <td>7.090186e-02</td>\n",
              "      <td>3.288119e-02</td>\n",
              "      <td>7.064327e-02</td>\n",
              "      <td>3.589056e-02</td>\n",
              "      <td>5.237432e+03</td>\n",
              "    </tr>\n",
              "    <tr>\n",
              "      <th>min</th>\n",
              "      <td>1.000000e+00</td>\n",
              "      <td>0.000000e+00</td>\n",
              "      <td>-1.219333e+02</td>\n",
              "      <td>3.435970e+01</td>\n",
              "      <td>-1.219333e+02</td>\n",
              "      <td>3.218114e+01</td>\n",
              "      <td>1.000000e+00</td>\n",
              "    </tr>\n",
              "    <tr>\n",
              "      <th>25%</th>\n",
              "      <td>1.000000e+00</td>\n",
              "      <td>1.000000e+00</td>\n",
              "      <td>-7.399187e+01</td>\n",
              "      <td>4.073735e+01</td>\n",
              "      <td>-7.399133e+01</td>\n",
              "      <td>4.073588e+01</td>\n",
              "      <td>3.970000e+02</td>\n",
              "    </tr>\n",
              "    <tr>\n",
              "      <th>50%</th>\n",
              "      <td>2.000000e+00</td>\n",
              "      <td>1.000000e+00</td>\n",
              "      <td>-7.398174e+01</td>\n",
              "      <td>4.075410e+01</td>\n",
              "      <td>-7.397975e+01</td>\n",
              "      <td>4.075452e+01</td>\n",
              "      <td>6.620000e+02</td>\n",
              "    </tr>\n",
              "    <tr>\n",
              "      <th>75%</th>\n",
              "      <td>2.000000e+00</td>\n",
              "      <td>2.000000e+00</td>\n",
              "      <td>-7.396733e+01</td>\n",
              "      <td>4.076836e+01</td>\n",
              "      <td>-7.396301e+01</td>\n",
              "      <td>4.076981e+01</td>\n",
              "      <td>1.075000e+03</td>\n",
              "    </tr>\n",
              "    <tr>\n",
              "      <th>max</th>\n",
              "      <td>2.000000e+00</td>\n",
              "      <td>9.000000e+00</td>\n",
              "      <td>-6.133553e+01</td>\n",
              "      <td>5.188108e+01</td>\n",
              "      <td>-6.133553e+01</td>\n",
              "      <td>4.392103e+01</td>\n",
              "      <td>3.526282e+06</td>\n",
              "    </tr>\n",
              "  </tbody>\n",
              "</table>\n",
              "</div>\n",
              "      <button class=\"colab-df-convert\" onclick=\"convertToInteractive('df-a3d422c8-4092-4110-8a7c-9bf2d5f3208f')\"\n",
              "              title=\"Convert this dataframe to an interactive table.\"\n",
              "              style=\"display:none;\">\n",
              "        \n",
              "  <svg xmlns=\"http://www.w3.org/2000/svg\" height=\"24px\"viewBox=\"0 0 24 24\"\n",
              "       width=\"24px\">\n",
              "    <path d=\"M0 0h24v24H0V0z\" fill=\"none\"/>\n",
              "    <path d=\"M18.56 5.44l.94 2.06.94-2.06 2.06-.94-2.06-.94-.94-2.06-.94 2.06-2.06.94zm-11 1L8.5 8.5l.94-2.06 2.06-.94-2.06-.94L8.5 2.5l-.94 2.06-2.06.94zm10 10l.94 2.06.94-2.06 2.06-.94-2.06-.94-.94-2.06-.94 2.06-2.06.94z\"/><path d=\"M17.41 7.96l-1.37-1.37c-.4-.4-.92-.59-1.43-.59-.52 0-1.04.2-1.43.59L10.3 9.45l-7.72 7.72c-.78.78-.78 2.05 0 2.83L4 21.41c.39.39.9.59 1.41.59.51 0 1.02-.2 1.41-.59l7.78-7.78 2.81-2.81c.8-.78.8-2.07 0-2.86zM5.41 20L4 18.59l7.72-7.72 1.47 1.35L5.41 20z\"/>\n",
              "  </svg>\n",
              "      </button>\n",
              "      \n",
              "  <style>\n",
              "    .colab-df-container {\n",
              "      display:flex;\n",
              "      flex-wrap:wrap;\n",
              "      gap: 12px;\n",
              "    }\n",
              "\n",
              "    .colab-df-convert {\n",
              "      background-color: #E8F0FE;\n",
              "      border: none;\n",
              "      border-radius: 50%;\n",
              "      cursor: pointer;\n",
              "      display: none;\n",
              "      fill: #1967D2;\n",
              "      height: 32px;\n",
              "      padding: 0 0 0 0;\n",
              "      width: 32px;\n",
              "    }\n",
              "\n",
              "    .colab-df-convert:hover {\n",
              "      background-color: #E2EBFA;\n",
              "      box-shadow: 0px 1px 2px rgba(60, 64, 67, 0.3), 0px 1px 3px 1px rgba(60, 64, 67, 0.15);\n",
              "      fill: #174EA6;\n",
              "    }\n",
              "\n",
              "    [theme=dark] .colab-df-convert {\n",
              "      background-color: #3B4455;\n",
              "      fill: #D2E3FC;\n",
              "    }\n",
              "\n",
              "    [theme=dark] .colab-df-convert:hover {\n",
              "      background-color: #434B5C;\n",
              "      box-shadow: 0px 1px 3px 1px rgba(0, 0, 0, 0.15);\n",
              "      filter: drop-shadow(0px 1px 2px rgba(0, 0, 0, 0.3));\n",
              "      fill: #FFFFFF;\n",
              "    }\n",
              "  </style>\n",
              "\n",
              "      <script>\n",
              "        const buttonEl =\n",
              "          document.querySelector('#df-a3d422c8-4092-4110-8a7c-9bf2d5f3208f button.colab-df-convert');\n",
              "        buttonEl.style.display =\n",
              "          google.colab.kernel.accessAllowed ? 'block' : 'none';\n",
              "\n",
              "        async function convertToInteractive(key) {\n",
              "          const element = document.querySelector('#df-a3d422c8-4092-4110-8a7c-9bf2d5f3208f');\n",
              "          const dataTable =\n",
              "            await google.colab.kernel.invokeFunction('convertToInteractive',\n",
              "                                                     [key], {});\n",
              "          if (!dataTable) return;\n",
              "\n",
              "          const docLinkHtml = 'Like what you see? Visit the ' +\n",
              "            '<a target=\"_blank\" href=https://colab.research.google.com/notebooks/data_table.ipynb>data table notebook</a>'\n",
              "            + ' to learn more about interactive tables.';\n",
              "          element.innerHTML = '';\n",
              "          dataTable['output_type'] = 'display_data';\n",
              "          await google.colab.output.renderOutput(dataTable, element);\n",
              "          const docLink = document.createElement('div');\n",
              "          docLink.innerHTML = docLinkHtml;\n",
              "          element.appendChild(docLink);\n",
              "        }\n",
              "      </script>\n",
              "    </div>\n",
              "  </div>\n",
              "  "
            ]
          },
          "metadata": {},
          "execution_count": 11
        }
      ]
    },
    {
      "cell_type": "markdown",
      "source": [
        "From the above description we infer that - \n",
        "\n",
        "The min passenger_count in the dataset is 0 which is not possible so this might be the error in recording the data or the driver might have entered wrongly the number of passengers to increase the trip counts so, we will drop the readings where passenger count is 0. "
      ],
      "metadata": {
        "id": "za1ybcsF9MxV"
      }
    },
    {
      "cell_type": "markdown",
      "source": [
        "## **Preprocessing & Visualizing The Data**"
      ],
      "metadata": {
        "id": "OR4WYeHULoFe"
      }
    },
    {
      "cell_type": "markdown",
      "source": [
        "## **Univariate Analysis**"
      ],
      "metadata": {
        "id": "LNDeNHj47TwT"
      }
    },
    {
      "cell_type": "markdown",
      "source": [
        "### **Exploring passenger_count column**"
      ],
      "metadata": {
        "id": "poR23CrsD4Dk"
      }
    },
    {
      "cell_type": "code",
      "source": [
        "#Dropping the rows where passenger_count is 0.\n",
        "nyc_taxi_df=nyc_taxi_df[nyc_taxi_df['passenger_count']!=0]"
      ],
      "metadata": {
        "id": "ZInz3Vi_IY1P"
      },
      "execution_count": 12,
      "outputs": []
    },
    {
      "cell_type": "markdown",
      "source": [
        "In the passenger_count the maximum entry is 9 which also doesn't seems correct. So, lets explore the passenger_count column."
      ],
      "metadata": {
        "id": "eB9wppdQJBvR"
      }
    },
    {
      "cell_type": "code",
      "source": [
        "#Extracting the count of passengers for each trip.\n",
        "nyc_taxi_df['passenger_count'].value_counts()"
      ],
      "metadata": {
        "colab": {
          "base_uri": "https://localhost:8080/"
        },
        "id": "SzbiebhwJAOW",
        "outputId": "c42e645e-eab2-438d-f276-3c2b51be5af2"
      },
      "execution_count": 13,
      "outputs": [
        {
          "output_type": "execute_result",
          "data": {
            "text/plain": [
              "1    1033540\n",
              "2     210318\n",
              "5      78088\n",
              "3      59896\n",
              "6      48333\n",
              "4      28404\n",
              "7          3\n",
              "9          1\n",
              "8          1\n",
              "Name: passenger_count, dtype: int64"
            ]
          },
          "metadata": {},
          "execution_count": 13
        }
      ]
    },
    {
      "cell_type": "code",
      "source": [
        "#Plotting boxplot for passenger_count to check the outliers.\n",
        "sns.boxplot(nyc_taxi_df['passenger_count'])"
      ],
      "metadata": {
        "colab": {
          "base_uri": "https://localhost:8080/",
          "height": 297
        },
        "id": "0n98rLmX6klV",
        "outputId": "8dbe8a3d-2023-4d7e-886f-a3295141a900"
      },
      "execution_count": 14,
      "outputs": [
        {
          "output_type": "execute_result",
          "data": {
            "text/plain": [
              "<matplotlib.axes._subplots.AxesSubplot at 0x7f20092f66d0>"
            ]
          },
          "metadata": {},
          "execution_count": 14
        },
        {
          "output_type": "display_data",
          "data": {
            "text/plain": [
              "<Figure size 432x288 with 1 Axes>"
            ],
            "image/png": "[encoded data removed]"
          },
          "metadata": {
            "needs_background": "light"
          }
        }
      ]
    },
    {
      "cell_type": "markdown",
      "source": [
        "In the column passenger_count for number of passengers 7, 8 & 9 there are only 3, 1 & 1 entries respectively which is very less compared to passenger_count for other trips. Also, in traditional taxi maximum of 6 passengers (if it is a SUV) are allowed So, lets drop these outliers."
      ],
      "metadata": {
        "id": "kELTi3GSJqV-"
      }
    },
    {
      "cell_type": "code",
      "source": [
        "#Dropping the rows where passenger_count is 7, 8 & 9.\n",
        "nyc_taxi_df=nyc_taxi_df[nyc_taxi_df['passenger_count']<7]\n",
        "nyc_taxi_df.reset_index(inplace = True)"
      ],
      "metadata": {
        "id": "SrYdMccOJ__B"
      },
      "execution_count": 15,
      "outputs": []
    },
    {
      "cell_type": "code",
      "source": [
        "#Checking the passenger_count feature after removing the outliers.\n",
        "nyc_taxi_df['passenger_count'].value_counts()"
      ],
      "metadata": {
        "colab": {
          "base_uri": "https://localhost:8080/"
        },
        "id": "khaRRFzXKedL",
        "outputId": "c3faada7-2091-47bd-a87c-7a7ec877cb50"
      },
      "execution_count": 16,
      "outputs": [
        {
          "output_type": "execute_result",
          "data": {
            "text/plain": [
              "1    1033540\n",
              "2     210318\n",
              "5      78088\n",
              "3      59896\n",
              "6      48333\n",
              "4      28404\n",
              "Name: passenger_count, dtype: int64"
            ]
          },
          "metadata": {},
          "execution_count": 16
        }
      ]
    },
    {
      "cell_type": "code",
      "source": [
        "#Plotting boxplot again for passenger_count after removing the outliers.\n",
        "sns.boxplot(nyc_taxi_df['passenger_count'])"
      ],
      "metadata": {
        "colab": {
          "base_uri": "https://localhost:8080/",
          "height": 297
        },
        "id": "Dx5H81Lk7DXn",
        "outputId": "620e6974-90a3-40c8-da77-2233280e7524"
      },
      "execution_count": 17,
      "outputs": [
        {
          "output_type": "execute_result",
          "data": {
            "text/plain": [
              "<matplotlib.axes._subplots.AxesSubplot at 0x7f20091d7dd0>"
            ]
          },
          "metadata": {},
          "execution_count": 17
        },
        {
          "output_type": "display_data",
          "data": {
            "text/plain": [
              "<Figure size 432x288 with 1 Axes>"
            ],
            "image/png": "[encoded data removed]"
          },
          "metadata": {
            "needs_background": "light"
          }
        }
      ]
    },
    {
      "cell_type": "code",
      "source": [
        "#Plotting Number of Trips vs passenger_count.\n",
        "plt.figure(figsize=(10,7))\n",
        "plt.title(\"Number of Trips vs passenger_count\")\n",
        "sns.countplot(x = 'passenger_count', data = nyc_taxi_df)\n",
        "plt.xlabel(\"passenger_count\")\n",
        "plt.ylabel(\"Number of Trips\")\n",
        "plt.show()"
      ],
      "metadata": {
        "colab": {
          "base_uri": "https://localhost:8080/",
          "height": 459
        },
        "id": "P-GmmfKF7zje",
        "outputId": "f821b8be-3d2e-48c4-dc24-cadded9f4713"
      },
      "execution_count": 18,
      "outputs": [
        {
          "output_type": "display_data",
          "data": {
            "text/plain": [
              "<Figure size 720x504 with 1 Axes>"
            ],
            "image/png": "[encoded data removed]"
          },
          "metadata": {
            "needs_background": "light"
          }
        }
      ]
    },
    {
      "cell_type": "markdown",
      "source": [
        "From the above graph we infer that most of the people prefer to go solo. And, the median of the data is at 2 passenger_count and mean is little bit right of median so this feature is right skewed."
      ],
      "metadata": {
        "id": "-zkLbj6L_h4W"
      }
    },
    {
      "cell_type": "markdown",
      "source": [
        "### **Exploring VendorID column**"
      ],
      "metadata": {
        "id": "scAO0hgDED8q"
      }
    },
    {
      "cell_type": "code",
      "source": [
        "#Plotting countplot for vendor_id.\n",
        "plt.figure(figsize=(10,7))\n",
        "plt.title(\"Number of Trips per vendor\")\n",
        "sns.countplot(x = 'vendor_id', data = nyc_taxi_df)\n",
        "plt.xlabel(\"Vendor ID\")\n",
        "plt.ylabel(\"Number of Trips\")\n",
        "plt.show()"
      ],
      "metadata": {
        "colab": {
          "base_uri": "https://localhost:8080/",
          "height": 458
        },
        "id": "dPZn2ZYht7ZE",
        "outputId": "0292a101-92c0-482d-90ab-6d760c6c7c9d"
      },
      "execution_count": 19,
      "outputs": [
        {
          "output_type": "display_data",
          "data": {
            "text/plain": [
              "<Figure size 720x504 with 1 Axes>"
            ],
            "image/png": "[encoded data removed]"
          },
          "metadata": {
            "needs_background": "light"
          }
        }
      ]
    },
    {
      "cell_type": "markdown",
      "source": [
        "Trips taken by the vendor 2 is more than vendor 1."
      ],
      "metadata": {
        "id": "DgCj8OTYMtGM"
      }
    },
    {
      "cell_type": "markdown",
      "source": [
        "### **Exploring the pickup and dropoff datetime columns and extracting more features out of it for the dataset.**"
      ],
      "metadata": {
        "id": "K_JLFv1XXlbS"
      }
    },
    {
      "cell_type": "code",
      "source": [
        "#Changing the dtype of pickup_datetime & dropoff_datetime from object type to datetime.\n",
        "nyc_taxi_df['pickup_datetime'] = pd.to_datetime(nyc_taxi_df['pickup_datetime'])\n",
        "nyc_taxi_df['dropoff_datetime'] = pd.to_datetime(nyc_taxi_df['dropoff_datetime'])"
      ],
      "metadata": {
        "id": "4ot28hRN81Bs"
      },
      "execution_count": 20,
      "outputs": []
    },
    {
      "cell_type": "markdown",
      "source": [
        "Let's develop some more features from the datetime column. As we already have a seperate trip_duration column so the datetime column we can use to extract some more useful insights to the dataset."
      ],
      "metadata": {
        "id": "Dr1V4qShdxf9"
      }
    },
    {
      "cell_type": "code",
      "source": [
        "#Making two new features pickup_day and dropoff_day from datetime to get more insights to the trips day wise\n",
        "nyc_taxi_df['pickup_day'] = nyc_taxi_df['pickup_datetime'].dt.day_name()\n",
        "nyc_taxi_df['dropoff_day'] = nyc_taxi_df['dropoff_datetime'].dt.day_name()"
      ],
      "metadata": {
        "id": "JAgnOvwrcF_L"
      },
      "execution_count": 21,
      "outputs": []
    },
    {
      "cell_type": "code",
      "source": [
        "#Plotting countplots for pickup_day and dropoff_day.\n",
        "figure,(fig1,fig2) = plt.subplots(ncols = 2,figsize=(20,7))\n",
        "fig1.set_title(\"Number of Trips vs Pickup Day\")\n",
        "ax = sns.countplot(x = 'pickup_day', data = nyc_taxi_df, ax = fig1)\n",
        "ax = plt.xlabel(\"pickup_day\")\n",
        "ax = plt.ylabel(\"Number of Trips\")\n",
        "fig2.set_title(\"Number of Trips vs Dropoff Day\")\n",
        "ax = sns.countplot(x = 'dropoff_day', data = nyc_taxi_df, ax = fig2)\n",
        "ax = plt.xlabel(\"dropoff_day\")\n",
        "ax = plt.ylabel(\"Number of Trips\")\n",
        "plt.show()"
      ],
      "metadata": {
        "colab": {
          "base_uri": "https://localhost:8080/",
          "height": 459
        },
        "id": "7f74gQt1aBtu",
        "outputId": "e761d813-0a2d-4891-91ba-3ccac11a5e6e"
      },
      "execution_count": 22,
      "outputs": [
        {
          "output_type": "display_data",
          "data": {
            "text/plain": [
              "<Figure size 1440x504 with 2 Axes>"
            ],
            "image/png": "[encoded data removed]"
          },
          "metadata": {
            "needs_background": "light"
          }
        }
      ]
    },
    {
      "cell_type": "markdown",
      "source": [
        "From the above graph we can infer that most of the trips are done on Friday and Saturday. So, on weekends people prefer to go on trips."
      ],
      "metadata": {
        "id": "nV-Dl-Dmdftv"
      }
    },
    {
      "cell_type": "code",
      "source": [
        "#Extracting Hr from datetime to visualize at which time of the day most of the trips are done.\n",
        "nyc_taxi_df['pickup_hr'] = nyc_taxi_df['pickup_datetime'].dt.hour\n",
        "nyc_taxi_df['dropoff_hr'] = nyc_taxi_df['dropoff_datetime'].dt.hour"
      ],
      "metadata": {
        "id": "Bt_W0fagj_2g"
      },
      "execution_count": 23,
      "outputs": []
    },
    {
      "cell_type": "code",
      "source": [
        "#Plotting countplots for pickup_hr and dropoff_hr.\n",
        "figure,(fig3,fig4) = plt.subplots(ncols = 2,figsize=(20,7))\n",
        "fig3.set_title(\"Number of Trips vs Pickup Hr\")\n",
        "ax = sns.countplot(x = 'pickup_hr', data = nyc_taxi_df, ax = fig3)\n",
        "ax = plt.xlabel(\"pickup_hr\")\n",
        "ax = plt.ylabel(\"Number of Trips\")\n",
        "fig4.set_title(\"Number of Trips vs Dropoff Hr\")\n",
        "ax = sns.countplot(x = 'dropoff_hr', data = nyc_taxi_df, ax = fig4)\n",
        "ax = plt.xlabel(\"dropoff_hr\")\n",
        "ax = plt.ylabel(\"Number of Trips\")\n",
        "plt.show()"
      ],
      "metadata": {
        "colab": {
          "base_uri": "https://localhost:8080/",
          "height": 459
        },
        "id": "916nzvxOd3i6",
        "outputId": "5e046199-0ab4-4e0c-e3b1-4f936f4fc5fe"
      },
      "execution_count": 24,
      "outputs": [
        {
          "output_type": "display_data",
          "data": {
            "text/plain": [
              "<Figure size 1440x504 with 2 Axes>"
            ],
            "image/png": "[encoded data removed]"
          },
          "metadata": {
            "needs_background": "light"
          }
        }
      ]
    },
    {
      "cell_type": "markdown",
      "source": [
        "The above graph shows that most of the trips are done between 6:00 PM to 7:00 PM, reason might be this is the time when people will leave from offices and they are taking cab on their way back home or on Friday since we saw is the busiest day we can infer that most of the people are going for trips after office on Friday."
      ],
      "metadata": {
        "id": "WvKcRUu7euQ6"
      }
    },
    {
      "cell_type": "code",
      "source": [
        "#Function to check at which time of the day (Morning, Afternoon, Evening or Night) trips are done.\n",
        "def time_of_day(hr):\n",
        "  if hr>=6 and hr<12:\n",
        "    return 'Morning'\n",
        "  elif hr>=12 and hr<17:\n",
        "    return 'Afternoon'\n",
        "  elif hr>=17 and hr<22:\n",
        "    return 'Evening'\n",
        "  else:\n",
        "    return 'Night'"
      ],
      "metadata": {
        "id": "uRENmFkBlpa2"
      },
      "execution_count": 25,
      "outputs": []
    },
    {
      "cell_type": "code",
      "source": [
        "#Making columns 'pickup_timeofday' and 'dropoff_timeofday' from 'pickup_hr' and 'dropoff_hr' column\n",
        "nyc_taxi_df['pickup_timeofday'] = nyc_taxi_df['pickup_hr'].apply(time_of_day)\n",
        "nyc_taxi_df['dropoff_timeofday'] = nyc_taxi_df['dropoff_hr'].apply(time_of_day)"
      ],
      "metadata": {
        "id": "17vRSHJPm086"
      },
      "execution_count": 26,
      "outputs": []
    },
    {
      "cell_type": "code",
      "source": [
        "#Plotting countplots for pickup_timeofday and dropoff_timeofday.\n",
        "figure,(fig5,fig6) = plt.subplots(ncols = 2,figsize=(20,7))\n",
        "fig5.set_title(\"Number of Trips vs Pickup timeofday\")\n",
        "ax = sns.countplot(x = 'pickup_timeofday', data = nyc_taxi_df, ax = fig5)\n",
        "ax = plt.xlabel(\"pickup_timeofday\")\n",
        "ax = plt.ylabel(\"Number of Trips\")\n",
        "fig6.set_title(\"Number of Trips vs Dropoff timeofday\")\n",
        "ax = sns.countplot(x = 'dropoff_timeofday', data = nyc_taxi_df, ax = fig6)\n",
        "ax = plt.xlabel(\"dropoff_timeofday\")\n",
        "ax = plt.ylabel(\"Number of Trips\")\n",
        "plt.show()"
      ],
      "metadata": {
        "colab": {
          "base_uri": "https://localhost:8080/",
          "height": 459
        },
        "id": "-uGkhh7Sfrr8",
        "outputId": "1c2a0a81-0d6d-4a65-9a96-134c2a037d81"
      },
      "execution_count": 27,
      "outputs": [
        {
          "output_type": "display_data",
          "data": {
            "text/plain": [
              "<Figure size 1440x504 with 2 Axes>"
            ],
            "image/png": "[encoded data removed]"
          },
          "metadata": {
            "needs_background": "light"
          }
        }
      ]
    },
    {
      "cell_type": "markdown",
      "source": [
        "Above graph shows that most of the trips are taken in the evening we found the same thing in the previous graph that most of the trips are between 6:00 PM to 7:00 PM."
      ],
      "metadata": {
        "id": "0wJ-ndg3hO7x"
      }
    },
    {
      "cell_type": "code",
      "source": [
        "#Extracting trip_month from datetime to visualize which month there was more trips.\n",
        "nyc_taxi_df['trip_month'] = nyc_taxi_df['pickup_datetime'].dt.month"
      ],
      "metadata": {
        "id": "Wu2jU8ssk6LK"
      },
      "execution_count": 28,
      "outputs": []
    },
    {
      "cell_type": "code",
      "source": [
        "#Plotting countplot for month.\n",
        "plt.figure(figsize=(10,7))\n",
        "plt.title(\"Number of Trips vs month\")\n",
        "sns.countplot(x = 'trip_month', data = nyc_taxi_df)\n",
        "plt.xlabel(\"trip_month\")\n",
        "plt.ylabel(\"Number of Trips\")\n",
        "plt.show()"
      ],
      "metadata": {
        "colab": {
          "base_uri": "https://localhost:8080/",
          "height": 459
        },
        "id": "-RQGsgHehi9v",
        "outputId": "66777f63-88a7-4370-a317-77edb8322b63"
      },
      "execution_count": 29,
      "outputs": [
        {
          "output_type": "display_data",
          "data": {
            "text/plain": [
              "<Figure size 720x504 with 1 Axes>"
            ],
            "image/png": "[encoded data removed]"
          },
          "metadata": {
            "needs_background": "light"
          }
        }
      ]
    },
    {
      "cell_type": "markdown",
      "source": [
        "Number of trips are not varying much if we observe month wise."
      ],
      "metadata": {
        "id": "DYA2ctCoiBXd"
      }
    },
    {
      "cell_type": "markdown",
      "source": [
        "### **Exploring latitude longitude column**"
      ],
      "metadata": {
        "id": "8CZ2-klrNkFC"
      }
    },
    {
      "cell_type": "code",
      "source": [
        "#Function to get distance in km out of pickup and dropoff latitude and longitude\n",
        "def get_distance_km(lat_1,long_1,lat_2,long_2):\n",
        "  pick_cord = (lat_1,long_1)\n",
        "  drop_cord = (lat_2,long_2)\n",
        "  return geodesic(pick_cord, drop_cord).kilometers"
      ],
      "metadata": {
        "id": "Ll1ezV7GnyqO"
      },
      "execution_count": 30,
      "outputs": []
    },
    {
      "cell_type": "code",
      "source": [
        "#Adding a new column distance which contains the distance between pickup and drop location in km\n",
        "nyc_taxi_df['distance'] = nyc_taxi_df.apply(lambda x: get_distance_km(x['pickup_latitude'],x['pickup_longitude'],x['dropoff_latitude'],x['dropoff_longitude']), axis=1)"
      ],
      "metadata": {
        "id": "UXknjTSn3Lph"
      },
      "execution_count": 31,
      "outputs": []
    },
    {
      "cell_type": "code",
      "source": [
        "nyc_taxi_df.head()"
      ],
      "metadata": {
        "colab": {
          "base_uri": "https://localhost:8080/",
          "height": 357
        },
        "id": "g3ZFb7sb4PVi",
        "outputId": "e2ed5d2c-1753-477d-9798-f9bcb3e97a84"
      },
      "execution_count": 32,
      "outputs": [
        {
          "output_type": "execute_result",
          "data": {
            "text/plain": [
              "   index         id  vendor_id     pickup_datetime    dropoff_datetime  \\\n",
              "0      0  id2875421          2 2016-03-14 17:24:55 2016-03-14 17:32:30   \n",
              "1      1  id2377394          1 2016-06-12 00:43:35 2016-06-12 00:54:38   \n",
              "2      2  id3858529          2 2016-01-19 11:35:24 2016-01-19 12:10:48   \n",
              "3      3  id3504673          2 2016-04-06 19:32:31 2016-04-06 19:39:40   \n",
              "4      4  id2181028          2 2016-03-26 13:30:55 2016-03-26 13:38:10   \n",
              "\n",
              "   passenger_count  pickup_longitude  pickup_latitude  dropoff_longitude  \\\n",
              "0                1        -73.982155        40.767937         -73.964630   \n",
              "1                1        -73.980415        40.738564         -73.999481   \n",
              "2                1        -73.979027        40.763939         -74.005333   \n",
              "3                1        -74.010040        40.719971         -74.012268   \n",
              "4                1        -73.973053        40.793209         -73.972923   \n",
              "\n",
              "   dropoff_latitude store_and_fwd_flag  trip_duration pickup_day dropoff_day  \\\n",
              "0         40.765602                  N            455     Monday      Monday   \n",
              "1         40.731152                  N            663     Sunday      Sunday   \n",
              "2         40.710087                  N           2124    Tuesday     Tuesday   \n",
              "3         40.706718                  N            429  Wednesday   Wednesday   \n",
              "4         40.782520                  N            435   Saturday    Saturday   \n",
              "\n",
              "   pickup_hr  dropoff_hr pickup_timeofday dropoff_timeofday  trip_month  \\\n",
              "0         17          17          Evening           Evening           3   \n",
              "1          0           0            Night             Night           6   \n",
              "2         11          12          Morning         Afternoon           1   \n",
              "3         19          19          Evening           Evening           4   \n",
              "4         13          13        Afternoon         Afternoon           3   \n",
              "\n",
              "   distance  \n",
              "0  1.502172  \n",
              "1  1.808660  \n",
              "2  6.379687  \n",
              "3  1.483632  \n",
              "4  1.187038  "
            ],
            "text/html": [
              "\n",
              "  <div id=\"df-4c9b5d25-089f-4931-8b98-86c5b16825fe\">\n",
              "    <div class=\"colab-df-container\">\n",
              "      <div>\n",
              "<style scoped>\n",
              "    .dataframe tbody tr th:only-of-type {\n",
              "        vertical-align: middle;\n",
              "    }\n",
              "\n",
              "    .dataframe tbody tr th {\n",
              "        vertical-align: top;\n",
              "    }\n",
              "\n",
              "    .dataframe thead th {\n",
              "        text-align: right;\n",
              "    }\n",
              "</style>\n",
              "<table border=\"1\" class=\"dataframe\">\n",
              "  <thead>\n",
              "    <tr style=\"text-align: right;\">\n",
              "      <th></th>\n",
              "      <th>index</th>\n",
              "      <th>id</th>\n",
              "      <th>vendor_id</th>\n",
              "      <th>pickup_datetime</th>\n",
              "      <th>dropoff_datetime</th>\n",
              "      <th>passenger_count</th>\n",
              "      <th>pickup_longitude</th>\n",
              "      <th>pickup_latitude</th>\n",
              "      <th>dropoff_longitude</th>\n",
              "      <th>dropoff_latitude</th>\n",
              "      <th>store_and_fwd_flag</th>\n",
              "      <th>trip_duration</th>\n",
              "      <th>pickup_day</th>\n",
              "      <th>dropoff_day</th>\n",
              "      <th>pickup_hr</th>\n",
              "      <th>dropoff_hr</th>\n",
              "      <th>pickup_timeofday</th>\n",
              "      <th>dropoff_timeofday</th>\n",
              "      <th>trip_month</th>\n",
              "      <th>distance</th>\n",
              "    </tr>\n",
              "  </thead>\n",
              "  <tbody>\n",
              "    <tr>\n",
              "      <th>0</th>\n",
              "      <td>0</td>\n",
              "      <td>id2875421</td>\n",
              "      <td>2</td>\n",
              "      <td>2016-03-14 17:24:55</td>\n",
              "      <td>2016-03-14 17:32:30</td>\n",
              "      <td>1</td>\n",
              "      <td>-73.982155</td>\n",
              "      <td>40.767937</td>\n",
              "      <td>-73.964630</td>\n",
              "      <td>40.765602</td>\n",
              "      <td>N</td>\n",
              "      <td>455</td>\n",
              "      <td>Monday</td>\n",
              "      <td>Monday</td>\n",
              "      <td>17</td>\n",
              "      <td>17</td>\n",
              "      <td>Evening</td>\n",
              "      <td>Evening</td>\n",
              "      <td>3</td>\n",
              "      <td>1.502172</td>\n",
              "    </tr>\n",
              "    <tr>\n",
              "      <th>1</th>\n",
              "      <td>1</td>\n",
              "      <td>id2377394</td>\n",
              "      <td>1</td>\n",
              "      <td>2016-06-12 00:43:35</td>\n",
              "      <td>2016-06-12 00:54:38</td>\n",
              "      <td>1</td>\n",
              "      <td>-73.980415</td>\n",
              "      <td>40.738564</td>\n",
              "      <td>-73.999481</td>\n",
              "      <td>40.731152</td>\n",
              "      <td>N</td>\n",
              "      <td>663</td>\n",
              "      <td>Sunday</td>\n",
              "      <td>Sunday</td>\n",
              "      <td>0</td>\n",
              "      <td>0</td>\n",
              "      <td>Night</td>\n",
              "      <td>Night</td>\n",
              "      <td>6</td>\n",
              "      <td>1.808660</td>\n",
              "    </tr>\n",
              "    <tr>\n",
              "      <th>2</th>\n",
              "      <td>2</td>\n",
              "      <td>id3858529</td>\n",
              "      <td>2</td>\n",
              "      <td>2016-01-19 11:35:24</td>\n",
              "      <td>2016-01-19 12:10:48</td>\n",
              "      <td>1</td>\n",
              "      <td>-73.979027</td>\n",
              "      <td>40.763939</td>\n",
              "      <td>-74.005333</td>\n",
              "      <td>40.710087</td>\n",
              "      <td>N</td>\n",
              "      <td>2124</td>\n",
              "      <td>Tuesday</td>\n",
              "      <td>Tuesday</td>\n",
              "      <td>11</td>\n",
              "      <td>12</td>\n",
              "      <td>Morning</td>\n",
              "      <td>Afternoon</td>\n",
              "      <td>1</td>\n",
              "      <td>6.379687</td>\n",
              "    </tr>\n",
              "    <tr>\n",
              "      <th>3</th>\n",
              "      <td>3</td>\n",
              "      <td>id3504673</td>\n",
              "      <td>2</td>\n",
              "      <td>2016-04-06 19:32:31</td>\n",
              "      <td>2016-04-06 19:39:40</td>\n",
              "      <td>1</td>\n",
              "      <td>-74.010040</td>\n",
              "      <td>40.719971</td>\n",
              "      <td>-74.012268</td>\n",
              "      <td>40.706718</td>\n",
              "      <td>N</td>\n",
              "      <td>429</td>\n",
              "      <td>Wednesday</td>\n",
              "      <td>Wednesday</td>\n",
              "      <td>19</td>\n",
              "      <td>19</td>\n",
              "      <td>Evening</td>\n",
              "      <td>Evening</td>\n",
              "      <td>4</td>\n",
              "      <td>1.483632</td>\n",
              "    </tr>\n",
              "    <tr>\n",
              "      <th>4</th>\n",
              "      <td>4</td>\n",
              "      <td>id2181028</td>\n",
              "      <td>2</td>\n",
              "      <td>2016-03-26 13:30:55</td>\n",
              "      <td>2016-03-26 13:38:10</td>\n",
              "      <td>1</td>\n",
              "      <td>-73.973053</td>\n",
              "      <td>40.793209</td>\n",
              "      <td>-73.972923</td>\n",
              "      <td>40.782520</td>\n",
              "      <td>N</td>\n",
              "      <td>435</td>\n",
              "      <td>Saturday</td>\n",
              "      <td>Saturday</td>\n",
              "      <td>13</td>\n",
              "      <td>13</td>\n",
              "      <td>Afternoon</td>\n",
              "      <td>Afternoon</td>\n",
              "      <td>3</td>\n",
              "      <td>1.187038</td>\n",
              "    </tr>\n",
              "  </tbody>\n",
              "</table>\n",
              "</div>\n",
              "      <button class=\"colab-df-convert\" onclick=\"convertToInteractive('df-4c9b5d25-089f-4931-8b98-86c5b16825fe')\"\n",
              "              title=\"Convert this dataframe to an interactive table.\"\n",
              "              style=\"display:none;\">\n",
              "        \n",
              "  <svg xmlns=\"http://www.w3.org/2000/svg\" height=\"24px\"viewBox=\"0 0 24 24\"\n",
              "       width=\"24px\">\n",
              "    <path d=\"M0 0h24v24H0V0z\" fill=\"none\"/>\n",
              "    <path d=\"M18.56 5.44l.94 2.06.94-2.06 2.06-.94-2.06-.94-.94-2.06-.94 2.06-2.06.94zm-11 1L8.5 8.5l.94-2.06 2.06-.94-2.06-.94L8.5 2.5l-.94 2.06-2.06.94zm10 10l.94 2.06.94-2.06 2.06-.94-2.06-.94-.94-2.06-.94 2.06-2.06.94z\"/><path d=\"M17.41 7.96l-1.37-1.37c-.4-.4-.92-.59-1.43-.59-.52 0-1.04.2-1.43.59L10.3 9.45l-7.72 7.72c-.78.78-.78 2.05 0 2.83L4 21.41c.39.39.9.59 1.41.59.51 0 1.02-.2 1.41-.59l7.78-7.78 2.81-2.81c.8-.78.8-2.07 0-2.86zM5.41 20L4 18.59l7.72-7.72 1.47 1.35L5.41 20z\"/>\n",
              "  </svg>\n",
              "      </button>\n",
              "      \n",
              "  <style>\n",
              "    .colab-df-container {\n",
              "      display:flex;\n",
              "      flex-wrap:wrap;\n",
              "      gap: 12px;\n",
              "    }\n",
              "\n",
              "    .colab-df-convert {\n",
              "      background-color: #E8F0FE;\n",
              "      border: none;\n",
              "      border-radius: 50%;\n",
              "      cursor: pointer;\n",
              "      display: none;\n",
              "      fill: #1967D2;\n",
              "      height: 32px;\n",
              "      padding: 0 0 0 0;\n",
              "      width: 32px;\n",
              "    }\n",
              "\n",
              "    .colab-df-convert:hover {\n",
              "      background-color: #E2EBFA;\n",
              "      box-shadow: 0px 1px 2px rgba(60, 64, 67, 0.3), 0px 1px 3px 1px rgba(60, 64, 67, 0.15);\n",
              "      fill: #174EA6;\n",
              "    }\n",
              "\n",
              "    [theme=dark] .colab-df-convert {\n",
              "      background-color: #3B4455;\n",
              "      fill: #D2E3FC;\n",
              "    }\n",
              "\n",
              "    [theme=dark] .colab-df-convert:hover {\n",
              "      background-color: #434B5C;\n",
              "      box-shadow: 0px 1px 3px 1px rgba(0, 0, 0, 0.15);\n",
              "      filter: drop-shadow(0px 1px 2px rgba(0, 0, 0, 0.3));\n",
              "      fill: #FFFFFF;\n",
              "    }\n",
              "  </style>\n",
              "\n",
              "      <script>\n",
              "        const buttonEl =\n",
              "          document.querySelector('#df-4c9b5d25-089f-4931-8b98-86c5b16825fe button.colab-df-convert');\n",
              "        buttonEl.style.display =\n",
              "          google.colab.kernel.accessAllowed ? 'block' : 'none';\n",
              "\n",
              "        async function convertToInteractive(key) {\n",
              "          const element = document.querySelector('#df-4c9b5d25-089f-4931-8b98-86c5b16825fe');\n",
              "          const dataTable =\n",
              "            await google.colab.kernel.invokeFunction('convertToInteractive',\n",
              "                                                     [key], {});\n",
              "          if (!dataTable) return;\n",
              "\n",
              "          const docLinkHtml = 'Like what you see? Visit the ' +\n",
              "            '<a target=\"_blank\" href=https://colab.research.google.com/notebooks/data_table.ipynb>data table notebook</a>'\n",
              "            + ' to learn more about interactive tables.';\n",
              "          element.innerHTML = '';\n",
              "          dataTable['output_type'] = 'display_data';\n",
              "          await google.colab.output.renderOutput(dataTable, element);\n",
              "          const docLink = document.createElement('div');\n",
              "          docLink.innerHTML = docLinkHtml;\n",
              "          element.appendChild(docLink);\n",
              "        }\n",
              "      </script>\n",
              "    </div>\n",
              "  </div>\n",
              "  "
            ]
          },
          "metadata": {},
          "execution_count": 32
        }
      ]
    },
    {
      "cell_type": "code",
      "source": [
        "#Plotting boxplot for distance column.\n",
        "sns.boxplot(nyc_taxi_df['distance'])"
      ],
      "metadata": {
        "colab": {
          "base_uri": "https://localhost:8080/",
          "height": 296
        },
        "id": "GVn3NkloSGuP",
        "outputId": "2276ad78-27bb-4ec7-f83d-1449c01b3f79"
      },
      "execution_count": 33,
      "outputs": [
        {
          "output_type": "execute_result",
          "data": {
            "text/plain": [
              "<matplotlib.axes._subplots.AxesSubplot at 0x7f1ffd6f33d0>"
            ]
          },
          "metadata": {},
          "execution_count": 33
        },
        {
          "output_type": "display_data",
          "data": {
            "text/plain": [
              "<Figure size 432x288 with 1 Axes>"
            ],
            "image/png": "[encoded data removed]"
          },
          "metadata": {
            "needs_background": "light"
          }
        }
      ]
    },
    {
      "cell_type": "markdown",
      "source": [
        "From this box plot we can see that there are some trips with more than 200kms distance travelled. We can not direclty delete these data as these might be the long trips people take for vacation or on weekends."
      ],
      "metadata": {
        "id": "AkyKg1A8ShXm"
      }
    },
    {
      "cell_type": "code",
      "source": [
        "# Exploring the distance feature.\n",
        "nyc_taxi_df['distance'].value_counts()"
      ],
      "metadata": {
        "colab": {
          "base_uri": "https://localhost:8080/"
        },
        "id": "SH5p7ItGL1hc",
        "outputId": "d693f3c2-82e8-4c9a-c3af-15cf6983f1f5"
      },
      "execution_count": 34,
      "outputs": [
        {
          "output_type": "execute_result",
          "data": {
            "text/plain": [
              "0.000000     5887\n",
              "2.064458        2\n",
              "0.942752        2\n",
              "0.000644        2\n",
              "1.289928        2\n",
              "             ... \n",
              "2.817283        1\n",
              "26.281212       1\n",
              "2.252518        1\n",
              "2.133112        1\n",
              "1.133655        1\n",
              "Name: distance, Length: 1452682, dtype: int64"
            ]
          },
          "metadata": {},
          "execution_count": 34
        }
      ]
    },
    {
      "cell_type": "markdown",
      "source": [
        "From the above data we can infer that there are 5887 entries with 0.0km distance which is again not a correct entry. We have to deep dive in this column to check why the distance covered is 0.0km."
      ],
      "metadata": {
        "id": "80EvWcloMP23"
      }
    },
    {
      "cell_type": "code",
      "source": [
        "nyc_taxi_df[nyc_taxi_df['distance']==0.0].head(10)"
      ],
      "metadata": {
        "colab": {
          "base_uri": "https://localhost:8080/",
          "height": 600
        },
        "id": "FIUNQZyiMt5f",
        "outputId": "368f6bfb-df42-4a23-fe2b-2b29aab92aa9"
      },
      "execution_count": 35,
      "outputs": [
        {
          "output_type": "execute_result",
          "data": {
            "text/plain": [
              "      index         id  vendor_id     pickup_datetime    dropoff_datetime  \\\n",
              "246     246  id3487442          2 2016-02-29 18:39:12 2016-02-29 18:42:59   \n",
              "291     291  id0924324          2 2016-05-10 18:07:52 2016-05-10 18:26:21   \n",
              "407     407  id1145809          2 2016-05-16 23:15:13 2016-05-16 23:31:00   \n",
              "702     702  id3499387          1 2016-01-25 19:45:12 2016-01-25 19:54:52   \n",
              "1620   1620  id0753277          1 2016-01-27 22:29:31 2016-01-27 22:29:58   \n",
              "1728   1728  id2134482          1 2016-01-22 16:13:01 2016-01-22 16:13:20   \n",
              "1769   1769  id2892749          1 2016-01-18 15:24:43 2016-01-18 15:28:57   \n",
              "2087   2087  id0931199          2 2016-05-04 22:28:43 2016-05-04 22:32:51   \n",
              "2441   2441  id2251007          2 2016-05-23 14:20:49 2016-05-23 14:20:57   \n",
              "2609   2609  id1992673          2 2016-03-02 20:10:41 2016-03-02 20:30:53   \n",
              "\n",
              "      passenger_count  pickup_longitude  pickup_latitude  dropoff_longitude  \\\n",
              "246                 1        -73.981819        40.768963         -73.981819   \n",
              "291                 2        -73.959068        40.775661         -73.959068   \n",
              "407                 6        -73.808487        40.687336         -73.808487   \n",
              "702                 1        -73.786720        40.647041         -73.786720   \n",
              "1620                1        -74.209854        40.816853         -74.209854   \n",
              "1728                1        -73.776314        40.645454         -73.776314   \n",
              "1769                5        -73.954666        40.821003         -73.954666   \n",
              "2087                1        -73.954628        40.777180         -73.954628   \n",
              "2441                1        -73.781830        40.644699         -73.781830   \n",
              "2609                5        -73.875313        40.773682         -73.875313   \n",
              "\n",
              "      dropoff_latitude store_and_fwd_flag  trip_duration pickup_day  \\\n",
              "246          40.768963                  N            227     Monday   \n",
              "291          40.775661                  N           1109    Tuesday   \n",
              "407          40.687336                  N            947     Monday   \n",
              "702          40.647041                  N            580     Monday   \n",
              "1620         40.816853                  N             27  Wednesday   \n",
              "1728         40.645454                  N             19     Friday   \n",
              "1769         40.821003                  Y            254     Monday   \n",
              "2087         40.777180                  N            248  Wednesday   \n",
              "2441         40.644699                  N              8     Monday   \n",
              "2609         40.773682                  N           1212  Wednesday   \n",
              "\n",
              "     dropoff_day  pickup_hr  dropoff_hr pickup_timeofday dropoff_timeofday  \\\n",
              "246       Monday         18          18          Evening           Evening   \n",
              "291      Tuesday         18          18          Evening           Evening   \n",
              "407       Monday         23          23            Night             Night   \n",
              "702       Monday         19          19          Evening           Evening   \n",
              "1620   Wednesday         22          22            Night             Night   \n",
              "1728      Friday         16          16        Afternoon         Afternoon   \n",
              "1769      Monday         15          15        Afternoon         Afternoon   \n",
              "2087   Wednesday         22          22            Night             Night   \n",
              "2441      Monday         14          14        Afternoon         Afternoon   \n",
              "2609   Wednesday         20          20          Evening           Evening   \n",
              "\n",
              "      trip_month  distance  \n",
              "246            2       0.0  \n",
              "291            5       0.0  \n",
              "407            5       0.0  \n",
              "702            1       0.0  \n",
              "1620           1       0.0  \n",
              "1728           1       0.0  \n",
              "1769           1       0.0  \n",
              "2087           5       0.0  \n",
              "2441           5       0.0  \n",
              "2609           3       0.0  "
            ],
            "text/html": [
              "\n",
              "  <div id=\"df-98b9262f-7c29-4dd4-96f7-963d9f69fc04\">\n",
              "    <div class=\"colab-df-container\">\n",
              "      <div>\n",
              "<style scoped>\n",
              "    .dataframe tbody tr th:only-of-type {\n",
              "        vertical-align: middle;\n",
              "    }\n",
              "\n",
              "    .dataframe tbody tr th {\n",
              "        vertical-align: top;\n",
              "    }\n",
              "\n",
              "    .dataframe thead th {\n",
              "        text-align: right;\n",
              "    }\n",
              "</style>\n",
              "<table border=\"1\" class=\"dataframe\">\n",
              "  <thead>\n",
              "    <tr style=\"text-align: right;\">\n",
              "      <th></th>\n",
              "      <th>index</th>\n",
              "      <th>id</th>\n",
              "      <th>vendor_id</th>\n",
              "      <th>pickup_datetime</th>\n",
              "      <th>dropoff_datetime</th>\n",
              "      <th>passenger_count</th>\n",
              "      <th>pickup_longitude</th>\n",
              "      <th>pickup_latitude</th>\n",
              "      <th>dropoff_longitude</th>\n",
              "      <th>dropoff_latitude</th>\n",
              "      <th>store_and_fwd_flag</th>\n",
              "      <th>trip_duration</th>\n",
              "      <th>pickup_day</th>\n",
              "      <th>dropoff_day</th>\n",
              "      <th>pickup_hr</th>\n",
              "      <th>dropoff_hr</th>\n",
              "      <th>pickup_timeofday</th>\n",
              "      <th>dropoff_timeofday</th>\n",
              "      <th>trip_month</th>\n",
              "      <th>distance</th>\n",
              "    </tr>\n",
              "  </thead>\n",
              "  <tbody>\n",
              "    <tr>\n",
              "      <th>246</th>\n",
              "      <td>246</td>\n",
              "      <td>id3487442</td>\n",
              "      <td>2</td>\n",
              "      <td>2016-02-29 18:39:12</td>\n",
              "      <td>2016-02-29 18:42:59</td>\n",
              "      <td>1</td>\n",
              "      <td>-73.981819</td>\n",
              "      <td>40.768963</td>\n",
              "      <td>-73.981819</td>\n",
              "      <td>40.768963</td>\n",
              "      <td>N</td>\n",
              "      <td>227</td>\n",
              "      <td>Monday</td>\n",
              "      <td>Monday</td>\n",
              "      <td>18</td>\n",
              "      <td>18</td>\n",
              "      <td>Evening</td>\n",
              "      <td>Evening</td>\n",
              "      <td>2</td>\n",
              "      <td>0.0</td>\n",
              "    </tr>\n",
              "    <tr>\n",
              "      <th>291</th>\n",
              "      <td>291</td>\n",
              "      <td>id0924324</td>\n",
              "      <td>2</td>\n",
              "      <td>2016-05-10 18:07:52</td>\n",
              "      <td>2016-05-10 18:26:21</td>\n",
              "      <td>2</td>\n",
              "      <td>-73.959068</td>\n",
              "      <td>40.775661</td>\n",
              "      <td>-73.959068</td>\n",
              "      <td>40.775661</td>\n",
              "      <td>N</td>\n",
              "      <td>1109</td>\n",
              "      <td>Tuesday</td>\n",
              "      <td>Tuesday</td>\n",
              "      <td>18</td>\n",
              "      <td>18</td>\n",
              "      <td>Evening</td>\n",
              "      <td>Evening</td>\n",
              "      <td>5</td>\n",
              "      <td>0.0</td>\n",
              "    </tr>\n",
              "    <tr>\n",
              "      <th>407</th>\n",
              "      <td>407</td>\n",
              "      <td>id1145809</td>\n",
              "      <td>2</td>\n",
              "      <td>2016-05-16 23:15:13</td>\n",
              "      <td>2016-05-16 23:31:00</td>\n",
              "      <td>6</td>\n",
              "      <td>-73.808487</td>\n",
              "      <td>40.687336</td>\n",
              "      <td>-73.808487</td>\n",
              "      <td>40.687336</td>\n",
              "      <td>N</td>\n",
              "      <td>947</td>\n",
              "      <td>Monday</td>\n",
              "      <td>Monday</td>\n",
              "      <td>23</td>\n",
              "      <td>23</td>\n",
              "      <td>Night</td>\n",
              "      <td>Night</td>\n",
              "      <td>5</td>\n",
              "      <td>0.0</td>\n",
              "    </tr>\n",
              "    <tr>\n",
              "      <th>702</th>\n",
              "      <td>702</td>\n",
              "      <td>id3499387</td>\n",
              "      <td>1</td>\n",
              "      <td>2016-01-25 19:45:12</td>\n",
              "      <td>2016-01-25 19:54:52</td>\n",
              "      <td>1</td>\n",
              "      <td>-73.786720</td>\n",
              "      <td>40.647041</td>\n",
              "      <td>-73.786720</td>\n",
              "      <td>40.647041</td>\n",
              "      <td>N</td>\n",
              "      <td>580</td>\n",
              "      <td>Monday</td>\n",
              "      <td>Monday</td>\n",
              "      <td>19</td>\n",
              "      <td>19</td>\n",
              "      <td>Evening</td>\n",
              "      <td>Evening</td>\n",
              "      <td>1</td>\n",
              "      <td>0.0</td>\n",
              "    </tr>\n",
              "    <tr>\n",
              "      <th>1620</th>\n",
              "      <td>1620</td>\n",
              "      <td>id0753277</td>\n",
              "      <td>1</td>\n",
              "      <td>2016-01-27 22:29:31</td>\n",
              "      <td>2016-01-27 22:29:58</td>\n",
              "      <td>1</td>\n",
              "      <td>-74.209854</td>\n",
              "      <td>40.816853</td>\n",
              "      <td>-74.209854</td>\n",
              "      <td>40.816853</td>\n",
              "      <td>N</td>\n",
              "      <td>27</td>\n",
              "      <td>Wednesday</td>\n",
              "      <td>Wednesday</td>\n",
              "      <td>22</td>\n",
              "      <td>22</td>\n",
              "      <td>Night</td>\n",
              "      <td>Night</td>\n",
              "      <td>1</td>\n",
              "      <td>0.0</td>\n",
              "    </tr>\n",
              "    <tr>\n",
              "      <th>1728</th>\n",
              "      <td>1728</td>\n",
              "      <td>id2134482</td>\n",
              "      <td>1</td>\n",
              "      <td>2016-01-22 16:13:01</td>\n",
              "      <td>2016-01-22 16:13:20</td>\n",
              "      <td>1</td>\n",
              "      <td>-73.776314</td>\n",
              "      <td>40.645454</td>\n",
              "      <td>-73.776314</td>\n",
              "      <td>40.645454</td>\n",
              "      <td>N</td>\n",
              "      <td>19</td>\n",
              "      <td>Friday</td>\n",
              "      <td>Friday</td>\n",
              "      <td>16</td>\n",
              "      <td>16</td>\n",
              "      <td>Afternoon</td>\n",
              "      <td>Afternoon</td>\n",
              "      <td>1</td>\n",
              "      <td>0.0</td>\n",
              "    </tr>\n",
              "    <tr>\n",
              "      <th>1769</th>\n",
              "      <td>1769</td>\n",
              "      <td>id2892749</td>\n",
              "      <td>1</td>\n",
              "      <td>2016-01-18 15:24:43</td>\n",
              "      <td>2016-01-18 15:28:57</td>\n",
              "      <td>5</td>\n",
              "      <td>-73.954666</td>\n",
              "      <td>40.821003</td>\n",
              "      <td>-73.954666</td>\n",
              "      <td>40.821003</td>\n",
              "      <td>Y</td>\n",
              "      <td>254</td>\n",
              "      <td>Monday</td>\n",
              "      <td>Monday</td>\n",
              "      <td>15</td>\n",
              "      <td>15</td>\n",
              "      <td>Afternoon</td>\n",
              "      <td>Afternoon</td>\n",
              "      <td>1</td>\n",
              "      <td>0.0</td>\n",
              "    </tr>\n",
              "    <tr>\n",
              "      <th>2087</th>\n",
              "      <td>2087</td>\n",
              "      <td>id0931199</td>\n",
              "      <td>2</td>\n",
              "      <td>2016-05-04 22:28:43</td>\n",
              "      <td>2016-05-04 22:32:51</td>\n",
              "      <td>1</td>\n",
              "      <td>-73.954628</td>\n",
              "      <td>40.777180</td>\n",
              "      <td>-73.954628</td>\n",
              "      <td>40.777180</td>\n",
              "      <td>N</td>\n",
              "      <td>248</td>\n",
              "      <td>Wednesday</td>\n",
              "      <td>Wednesday</td>\n",
              "      <td>22</td>\n",
              "      <td>22</td>\n",
              "      <td>Night</td>\n",
              "      <td>Night</td>\n",
              "      <td>5</td>\n",
              "      <td>0.0</td>\n",
              "    </tr>\n",
              "    <tr>\n",
              "      <th>2441</th>\n",
              "      <td>2441</td>\n",
              "      <td>id2251007</td>\n",
              "      <td>2</td>\n",
              "      <td>2016-05-23 14:20:49</td>\n",
              "      <td>2016-05-23 14:20:57</td>\n",
              "      <td>1</td>\n",
              "      <td>-73.781830</td>\n",
              "      <td>40.644699</td>\n",
              "      <td>-73.781830</td>\n",
              "      <td>40.644699</td>\n",
              "      <td>N</td>\n",
              "      <td>8</td>\n",
              "      <td>Monday</td>\n",
              "      <td>Monday</td>\n",
              "      <td>14</td>\n",
              "      <td>14</td>\n",
              "      <td>Afternoon</td>\n",
              "      <td>Afternoon</td>\n",
              "      <td>5</td>\n",
              "      <td>0.0</td>\n",
              "    </tr>\n",
              "    <tr>\n",
              "      <th>2609</th>\n",
              "      <td>2609</td>\n",
              "      <td>id1992673</td>\n",
              "      <td>2</td>\n",
              "      <td>2016-03-02 20:10:41</td>\n",
              "      <td>2016-03-02 20:30:53</td>\n",
              "      <td>5</td>\n",
              "      <td>-73.875313</td>\n",
              "      <td>40.773682</td>\n",
              "      <td>-73.875313</td>\n",
              "      <td>40.773682</td>\n",
              "      <td>N</td>\n",
              "      <td>1212</td>\n",
              "      <td>Wednesday</td>\n",
              "      <td>Wednesday</td>\n",
              "      <td>20</td>\n",
              "      <td>20</td>\n",
              "      <td>Evening</td>\n",
              "      <td>Evening</td>\n",
              "      <td>3</td>\n",
              "      <td>0.0</td>\n",
              "    </tr>\n",
              "  </tbody>\n",
              "</table>\n",
              "</div>\n",
              "      <button class=\"colab-df-convert\" onclick=\"convertToInteractive('df-98b9262f-7c29-4dd4-96f7-963d9f69fc04')\"\n",
              "              title=\"Convert this dataframe to an interactive table.\"\n",
              "              style=\"display:none;\">\n",
              "        \n",
              "  <svg xmlns=\"http://www.w3.org/2000/svg\" height=\"24px\"viewBox=\"0 0 24 24\"\n",
              "       width=\"24px\">\n",
              "    <path d=\"M0 0h24v24H0V0z\" fill=\"none\"/>\n",
              "    <path d=\"M18.56 5.44l.94 2.06.94-2.06 2.06-.94-2.06-.94-.94-2.06-.94 2.06-2.06.94zm-11 1L8.5 8.5l.94-2.06 2.06-.94-2.06-.94L8.5 2.5l-.94 2.06-2.06.94zm10 10l.94 2.06.94-2.06 2.06-.94-2.06-.94-.94-2.06-.94 2.06-2.06.94z\"/><path d=\"M17.41 7.96l-1.37-1.37c-.4-.4-.92-.59-1.43-.59-.52 0-1.04.2-1.43.59L10.3 9.45l-7.72 7.72c-.78.78-.78 2.05 0 2.83L4 21.41c.39.39.9.59 1.41.59.51 0 1.02-.2 1.41-.59l7.78-7.78 2.81-2.81c.8-.78.8-2.07 0-2.86zM5.41 20L4 18.59l7.72-7.72 1.47 1.35L5.41 20z\"/>\n",
              "  </svg>\n",
              "      </button>\n",
              "      \n",
              "  <style>\n",
              "    .colab-df-container {\n",
              "      display:flex;\n",
              "      flex-wrap:wrap;\n",
              "      gap: 12px;\n",
              "    }\n",
              "\n",
              "    .colab-df-convert {\n",
              "      background-color: #E8F0FE;\n",
              "      border: none;\n",
              "      border-radius: 50%;\n",
              "      cursor: pointer;\n",
              "      display: none;\n",
              "      fill: #1967D2;\n",
              "      height: 32px;\n",
              "      padding: 0 0 0 0;\n",
              "      width: 32px;\n",
              "    }\n",
              "\n",
              "    .colab-df-convert:hover {\n",
              "      background-color: #E2EBFA;\n",
              "      box-shadow: 0px 1px 2px rgba(60, 64, 67, 0.3), 0px 1px 3px 1px rgba(60, 64, 67, 0.15);\n",
              "      fill: #174EA6;\n",
              "    }\n",
              "\n",
              "    [theme=dark] .colab-df-convert {\n",
              "      background-color: #3B4455;\n",
              "      fill: #D2E3FC;\n",
              "    }\n",
              "\n",
              "    [theme=dark] .colab-df-convert:hover {\n",
              "      background-color: #434B5C;\n",
              "      box-shadow: 0px 1px 3px 1px rgba(0, 0, 0, 0.15);\n",
              "      filter: drop-shadow(0px 1px 2px rgba(0, 0, 0, 0.3));\n",
              "      fill: #FFFFFF;\n",
              "    }\n",
              "  </style>\n",
              "\n",
              "      <script>\n",
              "        const buttonEl =\n",
              "          document.querySelector('#df-98b9262f-7c29-4dd4-96f7-963d9f69fc04 button.colab-df-convert');\n",
              "        buttonEl.style.display =\n",
              "          google.colab.kernel.accessAllowed ? 'block' : 'none';\n",
              "\n",
              "        async function convertToInteractive(key) {\n",
              "          const element = document.querySelector('#df-98b9262f-7c29-4dd4-96f7-963d9f69fc04');\n",
              "          const dataTable =\n",
              "            await google.colab.kernel.invokeFunction('convertToInteractive',\n",
              "                                                     [key], {});\n",
              "          if (!dataTable) return;\n",
              "\n",
              "          const docLinkHtml = 'Like what you see? Visit the ' +\n",
              "            '<a target=\"_blank\" href=https://colab.research.google.com/notebooks/data_table.ipynb>data table notebook</a>'\n",
              "            + ' to learn more about interactive tables.';\n",
              "          element.innerHTML = '';\n",
              "          dataTable['output_type'] = 'display_data';\n",
              "          await google.colab.output.renderOutput(dataTable, element);\n",
              "          const docLink = document.createElement('div');\n",
              "          docLink.innerHTML = docLinkHtml;\n",
              "          element.appendChild(docLink);\n",
              "        }\n",
              "      </script>\n",
              "    </div>\n",
              "  </div>\n",
              "  "
            ]
          },
          "metadata": {},
          "execution_count": 35
        }
      ]
    },
    {
      "cell_type": "markdown",
      "source": [
        "From the above data we can infer that for some of the entries trip_duration is more than 1000s still the distance is 0.0km. We will deep dive more for these data in bivariate analysis when we will be comparing the distance with trip_duration."
      ],
      "metadata": {
        "id": "xCnrrBRHRnOg"
      }
    },
    {
      "cell_type": "markdown",
      "source": [
        "### **Exploring the column trip duration.**"
      ],
      "metadata": {
        "id": "aZx6L1psPEhZ"
      }
    },
    {
      "cell_type": "code",
      "source": [
        "#Plotting distribution of target variable trip_duration.\n",
        "plt.figure(figsize=(10,5))\n",
        "plt.title(\"Distribution of Trip Duration\")\n",
        "sns.distplot(nyc_taxi_df['trip_duration'])\n",
        "plt.show()"
      ],
      "metadata": {
        "colab": {
          "base_uri": "https://localhost:8080/",
          "height": 351
        },
        "id": "xy3-XvqiFhqD",
        "outputId": "405ade14-8c57-4460-b4a4-79de14b84958"
      },
      "execution_count": 36,
      "outputs": [
        {
          "output_type": "display_data",
          "data": {
            "text/plain": [
              "<Figure size 720x360 with 1 Axes>"
            ],
            "image/png": "[encoded data removed]"
          },
          "metadata": {
            "needs_background": "light"
          }
        }
      ]
    },
    {
      "cell_type": "markdown",
      "source": [
        "From the above graph we can easily infer that there are some outliers because of which the graph is highly skewed. The same thing can be seen from boxplot."
      ],
      "metadata": {
        "id": "kCQKvigJ5gkJ"
      }
    },
    {
      "cell_type": "code",
      "source": [
        "#Plotting boxplot for trip_duration\n",
        "sns.boxplot(nyc_taxi_df['trip_duration'])"
      ],
      "metadata": {
        "colab": {
          "base_uri": "https://localhost:8080/",
          "height": 297
        },
        "id": "2_nsthqIx420",
        "outputId": "c0c10deb-75c4-4486-8807-f316bbad114f"
      },
      "execution_count": 37,
      "outputs": [
        {
          "output_type": "execute_result",
          "data": {
            "text/plain": [
              "<matplotlib.axes._subplots.AxesSubplot at 0x7f2008d0c410>"
            ]
          },
          "metadata": {},
          "execution_count": 37
        },
        {
          "output_type": "display_data",
          "data": {
            "text/plain": [
              "<Figure size 432x288 with 1 Axes>"
            ],
            "image/png": "[encoded data removed]"
          },
          "metadata": {
            "needs_background": "light"
          }
        }
      ]
    },
    {
      "cell_type": "code",
      "source": [
        "#Look for outlier in the trip_duration column.\n",
        "nyc_taxi_df.sort_values(by = 'trip_duration', ascending = False).head()"
      ],
      "metadata": {
        "colab": {
          "base_uri": "https://localhost:8080/",
          "height": 357
        },
        "id": "4Mnl7QMezpzb",
        "outputId": "933d57aa-ead1-40a4-b183-32bb884f2ec6"
      },
      "execution_count": 38,
      "outputs": [
        {
          "output_type": "execute_result",
          "data": {
            "text/plain": [
              "           index         id  vendor_id     pickup_datetime  \\\n",
              "978342    978383  id0053347          1 2016-02-13 22:46:52   \n",
              "924111    924150  id1325766          1 2016-01-05 06:14:15   \n",
              "680570    680594  id0369307          1 2016-02-13 22:38:00   \n",
              "354994    355003  id1864733          1 2016-01-05 00:19:42   \n",
              "1234240  1234291  id1942836          2 2016-02-15 23:18:06   \n",
              "\n",
              "           dropoff_datetime  passenger_count  pickup_longitude  \\\n",
              "978342  2016-03-25 18:18:14                1        -73.783905   \n",
              "924111  2016-01-31 01:01:07                1        -73.983788   \n",
              "680570  2016-03-08 15:57:38                2        -73.921677   \n",
              "354994  2016-01-27 11:08:38                1        -73.789650   \n",
              "1234240 2016-02-16 23:17:58                2        -73.794525   \n",
              "\n",
              "         pickup_latitude  dropoff_longitude  dropoff_latitude  \\\n",
              "978342         40.648632         -73.978271         40.750202   \n",
              "924111         40.742325         -73.985489         40.727676   \n",
              "680570         40.735252         -73.984749         40.759979   \n",
              "354994         40.643559         -73.956810         40.773087   \n",
              "1234240        40.644825         -73.991051         40.755573   \n",
              "\n",
              "        store_and_fwd_flag  trip_duration pickup_day dropoff_day  pickup_hr  \\\n",
              "978342                   N        3526282   Saturday      Friday         22   \n",
              "924111                   N        2227612    Tuesday      Sunday          6   \n",
              "680570                   N        2049578   Saturday     Tuesday         22   \n",
              "354994                   N        1939736    Tuesday   Wednesday          0   \n",
              "1234240                  N          86392     Monday     Tuesday         23   \n",
              "\n",
              "         dropoff_hr pickup_timeofday dropoff_timeofday  trip_month   distance  \n",
              "978342           18            Night           Evening           2  19.926608  \n",
              "924111            1          Morning             Night           1   1.633027  \n",
              "680570           15            Night         Afternoon           2   5.992874  \n",
              "354994           11            Night           Morning           1  20.160235  \n",
              "1234240          23            Night             Night           2  20.666941  "
            ],
            "text/html": [
              "\n",
              "  <div id=\"df-dad3b47c-1c72-42a2-8de0-41383f7ca8a6\">\n",
              "    <div class=\"colab-df-container\">\n",
              "      <div>\n",
              "<style scoped>\n",
              "    .dataframe tbody tr th:only-of-type {\n",
              "        vertical-align: middle;\n",
              "    }\n",
              "\n",
              "    .dataframe tbody tr th {\n",
              "        vertical-align: top;\n",
              "    }\n",
              "\n",
              "    .dataframe thead th {\n",
              "        text-align: right;\n",
              "    }\n",
              "</style>\n",
              "<table border=\"1\" class=\"dataframe\">\n",
              "  <thead>\n",
              "    <tr style=\"text-align: right;\">\n",
              "      <th></th>\n",
              "      <th>index</th>\n",
              "      <th>id</th>\n",
              "      <th>vendor_id</th>\n",
              "      <th>pickup_datetime</th>\n",
              "      <th>dropoff_datetime</th>\n",
              "      <th>passenger_count</th>\n",
              "      <th>pickup_longitude</th>\n",
              "      <th>pickup_latitude</th>\n",
              "      <th>dropoff_longitude</th>\n",
              "      <th>dropoff_latitude</th>\n",
              "      <th>store_and_fwd_flag</th>\n",
              "      <th>trip_duration</th>\n",
              "      <th>pickup_day</th>\n",
              "      <th>dropoff_day</th>\n",
              "      <th>pickup_hr</th>\n",
              "      <th>dropoff_hr</th>\n",
              "      <th>pickup_timeofday</th>\n",
              "      <th>dropoff_timeofday</th>\n",
              "      <th>trip_month</th>\n",
              "      <th>distance</th>\n",
              "    </tr>\n",
              "  </thead>\n",
              "  <tbody>\n",
              "    <tr>\n",
              "      <th>978342</th>\n",
              "      <td>978383</td>\n",
              "      <td>id0053347</td>\n",
              "      <td>1</td>\n",
              "      <td>2016-02-13 22:46:52</td>\n",
              "      <td>2016-03-25 18:18:14</td>\n",
              "      <td>1</td>\n",
              "      <td>-73.783905</td>\n",
              "      <td>40.648632</td>\n",
              "      <td>-73.978271</td>\n",
              "      <td>40.750202</td>\n",
              "      <td>N</td>\n",
              "      <td>3526282</td>\n",
              "      <td>Saturday</td>\n",
              "      <td>Friday</td>\n",
              "      <td>22</td>\n",
              "      <td>18</td>\n",
              "      <td>Night</td>\n",
              "      <td>Evening</td>\n",
              "      <td>2</td>\n",
              "      <td>19.926608</td>\n",
              "    </tr>\n",
              "    <tr>\n",
              "      <th>924111</th>\n",
              "      <td>924150</td>\n",
              "      <td>id1325766</td>\n",
              "      <td>1</td>\n",
              "      <td>2016-01-05 06:14:15</td>\n",
              "      <td>2016-01-31 01:01:07</td>\n",
              "      <td>1</td>\n",
              "      <td>-73.983788</td>\n",
              "      <td>40.742325</td>\n",
              "      <td>-73.985489</td>\n",
              "      <td>40.727676</td>\n",
              "      <td>N</td>\n",
              "      <td>2227612</td>\n",
              "      <td>Tuesday</td>\n",
              "      <td>Sunday</td>\n",
              "      <td>6</td>\n",
              "      <td>1</td>\n",
              "      <td>Morning</td>\n",
              "      <td>Night</td>\n",
              "      <td>1</td>\n",
              "      <td>1.633027</td>\n",
              "    </tr>\n",
              "    <tr>\n",
              "      <th>680570</th>\n",
              "      <td>680594</td>\n",
              "      <td>id0369307</td>\n",
              "      <td>1</td>\n",
              "      <td>2016-02-13 22:38:00</td>\n",
              "      <td>2016-03-08 15:57:38</td>\n",
              "      <td>2</td>\n",
              "      <td>-73.921677</td>\n",
              "      <td>40.735252</td>\n",
              "      <td>-73.984749</td>\n",
              "      <td>40.759979</td>\n",
              "      <td>N</td>\n",
              "      <td>2049578</td>\n",
              "      <td>Saturday</td>\n",
              "      <td>Tuesday</td>\n",
              "      <td>22</td>\n",
              "      <td>15</td>\n",
              "      <td>Night</td>\n",
              "      <td>Afternoon</td>\n",
              "      <td>2</td>\n",
              "      <td>5.992874</td>\n",
              "    </tr>\n",
              "    <tr>\n",
              "      <th>354994</th>\n",
              "      <td>355003</td>\n",
              "      <td>id1864733</td>\n",
              "      <td>1</td>\n",
              "      <td>2016-01-05 00:19:42</td>\n",
              "      <td>2016-01-27 11:08:38</td>\n",
              "      <td>1</td>\n",
              "      <td>-73.789650</td>\n",
              "      <td>40.643559</td>\n",
              "      <td>-73.956810</td>\n",
              "      <td>40.773087</td>\n",
              "      <td>N</td>\n",
              "      <td>1939736</td>\n",
              "      <td>Tuesday</td>\n",
              "      <td>Wednesday</td>\n",
              "      <td>0</td>\n",
              "      <td>11</td>\n",
              "      <td>Night</td>\n",
              "      <td>Morning</td>\n",
              "      <td>1</td>\n",
              "      <td>20.160235</td>\n",
              "    </tr>\n",
              "    <tr>\n",
              "      <th>1234240</th>\n",
              "      <td>1234291</td>\n",
              "      <td>id1942836</td>\n",
              "      <td>2</td>\n",
              "      <td>2016-02-15 23:18:06</td>\n",
              "      <td>2016-02-16 23:17:58</td>\n",
              "      <td>2</td>\n",
              "      <td>-73.794525</td>\n",
              "      <td>40.644825</td>\n",
              "      <td>-73.991051</td>\n",
              "      <td>40.755573</td>\n",
              "      <td>N</td>\n",
              "      <td>86392</td>\n",
              "      <td>Monday</td>\n",
              "      <td>Tuesday</td>\n",
              "      <td>23</td>\n",
              "      <td>23</td>\n",
              "      <td>Night</td>\n",
              "      <td>Night</td>\n",
              "      <td>2</td>\n",
              "      <td>20.666941</td>\n",
              "    </tr>\n",
              "  </tbody>\n",
              "</table>\n",
              "</div>\n",
              "      <button class=\"colab-df-convert\" onclick=\"convertToInteractive('df-dad3b47c-1c72-42a2-8de0-41383f7ca8a6')\"\n",
              "              title=\"Convert this dataframe to an interactive table.\"\n",
              "              style=\"display:none;\">\n",
              "        \n",
              "  <svg xmlns=\"http://www.w3.org/2000/svg\" height=\"24px\"viewBox=\"0 0 24 24\"\n",
              "       width=\"24px\">\n",
              "    <path d=\"M0 0h24v24H0V0z\" fill=\"none\"/>\n",
              "    <path d=\"M18.56 5.44l.94 2.06.94-2.06 2.06-.94-2.06-.94-.94-2.06-.94 2.06-2.06.94zm-11 1L8.5 8.5l.94-2.06 2.06-.94-2.06-.94L8.5 2.5l-.94 2.06-2.06.94zm10 10l.94 2.06.94-2.06 2.06-.94-2.06-.94-.94-2.06-.94 2.06-2.06.94z\"/><path d=\"M17.41 7.96l-1.37-1.37c-.4-.4-.92-.59-1.43-.59-.52 0-1.04.2-1.43.59L10.3 9.45l-7.72 7.72c-.78.78-.78 2.05 0 2.83L4 21.41c.39.39.9.59 1.41.59.51 0 1.02-.2 1.41-.59l7.78-7.78 2.81-2.81c.8-.78.8-2.07 0-2.86zM5.41 20L4 18.59l7.72-7.72 1.47 1.35L5.41 20z\"/>\n",
              "  </svg>\n",
              "      </button>\n",
              "      \n",
              "  <style>\n",
              "    .colab-df-container {\n",
              "      display:flex;\n",
              "      flex-wrap:wrap;\n",
              "      gap: 12px;\n",
              "    }\n",
              "\n",
              "    .colab-df-convert {\n",
              "      background-color: #E8F0FE;\n",
              "      border: none;\n",
              "      border-radius: 50%;\n",
              "      cursor: pointer;\n",
              "      display: none;\n",
              "      fill: #1967D2;\n",
              "      height: 32px;\n",
              "      padding: 0 0 0 0;\n",
              "      width: 32px;\n",
              "    }\n",
              "\n",
              "    .colab-df-convert:hover {\n",
              "      background-color: #E2EBFA;\n",
              "      box-shadow: 0px 1px 2px rgba(60, 64, 67, 0.3), 0px 1px 3px 1px rgba(60, 64, 67, 0.15);\n",
              "      fill: #174EA6;\n",
              "    }\n",
              "\n",
              "    [theme=dark] .colab-df-convert {\n",
              "      background-color: #3B4455;\n",
              "      fill: #D2E3FC;\n",
              "    }\n",
              "\n",
              "    [theme=dark] .colab-df-convert:hover {\n",
              "      background-color: #434B5C;\n",
              "      box-shadow: 0px 1px 3px 1px rgba(0, 0, 0, 0.15);\n",
              "      filter: drop-shadow(0px 1px 2px rgba(0, 0, 0, 0.3));\n",
              "      fill: #FFFFFF;\n",
              "    }\n",
              "  </style>\n",
              "\n",
              "      <script>\n",
              "        const buttonEl =\n",
              "          document.querySelector('#df-dad3b47c-1c72-42a2-8de0-41383f7ca8a6 button.colab-df-convert');\n",
              "        buttonEl.style.display =\n",
              "          google.colab.kernel.accessAllowed ? 'block' : 'none';\n",
              "\n",
              "        async function convertToInteractive(key) {\n",
              "          const element = document.querySelector('#df-dad3b47c-1c72-42a2-8de0-41383f7ca8a6');\n",
              "          const dataTable =\n",
              "            await google.colab.kernel.invokeFunction('convertToInteractive',\n",
              "                                                     [key], {});\n",
              "          if (!dataTable) return;\n",
              "\n",
              "          const docLinkHtml = 'Like what you see? Visit the ' +\n",
              "            '<a target=\"_blank\" href=https://colab.research.google.com/notebooks/data_table.ipynb>data table notebook</a>'\n",
              "            + ' to learn more about interactive tables.';\n",
              "          element.innerHTML = '';\n",
              "          dataTable['output_type'] = 'display_data';\n",
              "          await google.colab.output.renderOutput(dataTable, element);\n",
              "          const docLink = document.createElement('div');\n",
              "          docLink.innerHTML = docLinkHtml;\n",
              "          element.appendChild(docLink);\n",
              "        }\n",
              "      </script>\n",
              "    </div>\n",
              "  </div>\n",
              "  "
            ]
          },
          "metadata": {},
          "execution_count": 38
        }
      ]
    },
    {
      "cell_type": "markdown",
      "source": [
        "After sorting out the dataset with respect to trip_duration in descending order we found out that the longest trip durations 3526282s, 2227612s, 2049578s and 1939736s are clearly outliers as the corresponding distance covered for the same trips are 19.9km, 1.6km, 5.99km and 20.16km. There might be several reasons for this - \n",
        "* The driver have enter the dropoff time wrongly.\n",
        "* The driver might have forgotten to record the dropoff time and lately when he remembers he could have recorded any random time.\n",
        "\n",
        "Clearly, time taken for for such trips shouldn't be that high so, we have to remove these outliers."
      ],
      "metadata": {
        "id": "O81ZWyK65_dS"
      }
    },
    {
      "cell_type": "markdown",
      "source": [
        "For removing these outliers I am calculating the average speed for the whole dataset and then I will use the equation, \n",
        "trip_duration = distance/average_speed \n",
        "for approximately calculating trip_duration for these outliers."
      ],
      "metadata": {
        "id": "2nNG0JAr7cDV"
      }
    },
    {
      "cell_type": "code",
      "source": [
        "#Calculating the average speed considering all the entries except for the outliers.\n",
        "total_distance = nyc_taxi_df.sort_values(by = 'trip_duration', ascending = False).loc[5:,['distance']].values.sum()\n",
        "total_duration = nyc_taxi_df.sort_values(by = 'trip_duration', ascending = False).loc[5:,['trip_duration']].values.sum()\n",
        "avg_speed = total_distance/total_duration\n",
        "print(f'Total Distance - {total_distance} km')\n",
        "print(f'Total Duration - {total_duration} s')\n",
        "print(f'Average Speed - {avg_speed} km/s')"
      ],
      "metadata": {
        "colab": {
          "base_uri": "https://localhost:8080/"
        },
        "id": "2x2es1Fw0ykG",
        "outputId": "c0151c5e-03dd-4e24-d5e6-e9c9a34ea96d"
      },
      "execution_count": 39,
      "outputs": [
        {
          "output_type": "stream",
          "name": "stdout",
          "text": [
            "Total Distance - 503799.6484398022 km\n",
            "Total Duration - 124279144 s\n",
            "Average Speed - 0.004053774689981789 km/s\n"
          ]
        }
      ]
    },
    {
      "cell_type": "code",
      "source": [
        "#Function to change the trip_duration for outliers.\n",
        "def change_trip_duration(speed, distance):\n",
        "  duration = distance/avg_speed\n",
        "  return (int(duration))"
      ],
      "metadata": {
        "id": "QsrgXtDS4F9P"
      },
      "execution_count": 40,
      "outputs": []
    },
    {
      "cell_type": "code",
      "source": [
        "#Changing the outliers for trip_duration\n",
        "nyc_taxi_df.reset_index(inplace = True)\n",
        "for rows in range(1,nyc_taxi_df.shape[0]):\n",
        "  if nyc_taxi_df['trip_duration'][rows] > 1000000:\n",
        "    nyc_taxi_df['trip_duration'][rows] = change_trip_duration(avg_speed, nyc_taxi_df['distance'][rows])\n",
        "    #print (nyc_taxi_df['trip_duration'][i])\n",
        "\n",
        "nyc_taxi_df.sort_values(by = 'trip_duration', ascending = False).head()"
      ],
      "metadata": {
        "colab": {
          "base_uri": "https://localhost:8080/",
          "height": 386
        },
        "id": "HtPVkGYYXwXp",
        "outputId": "81a1c593-d3cb-4090-cdc2-072a6ef55355"
      },
      "execution_count": 41,
      "outputs": [
        {
          "output_type": "execute_result",
          "data": {
            "text/plain": [
              "         level_0    index         id  vendor_id     pickup_datetime  \\\n",
              "1234240  1234240  1234291  id1942836          2 2016-02-15 23:18:06   \n",
              "295376    295376   295382  id0593332          2 2016-05-31 13:00:39   \n",
              "73815      73815    73816  id0953667          2 2016-05-06 00:00:10   \n",
              "59891      59891    59891  id2837671          2 2016-06-30 16:37:52   \n",
              "1360381  1360381  1360439  id1358458          2 2016-06-23 16:01:45   \n",
              "\n",
              "           dropoff_datetime  passenger_count  pickup_longitude  \\\n",
              "1234240 2016-02-16 23:17:58                2        -73.794525   \n",
              "295376  2016-06-01 13:00:30                1        -73.781952   \n",
              "73815   2016-05-07 00:00:00                1        -73.996010   \n",
              "59891   2016-07-01 16:37:39                1        -73.992279   \n",
              "1360381 2016-06-24 16:01:30                1        -73.782089   \n",
              "\n",
              "         pickup_latitude  dropoff_longitude  ...  store_and_fwd_flag  \\\n",
              "1234240        40.644825         -73.991051  ...                   N   \n",
              "295376         40.644688         -73.993874  ...                   N   \n",
              "73815          40.753220         -73.979027  ...                   N   \n",
              "59891          40.749729         -73.962524  ...                   N   \n",
              "1360381        40.644806         -73.985016  ...                   N   \n",
              "\n",
              "        trip_duration  pickup_day dropoff_day pickup_hr  dropoff_hr  \\\n",
              "1234240         86392      Monday     Tuesday        23          23   \n",
              "295376          86391     Tuesday   Wednesday        13          13   \n",
              "73815           86390      Friday    Saturday         0           0   \n",
              "59891           86387    Thursday      Friday        16          16   \n",
              "1360381         86385    Thursday      Friday        16          16   \n",
              "\n",
              "         pickup_timeofday dropoff_timeofday trip_month   distance  \n",
              "1234240             Night             Night          2  20.666941  \n",
              "295376          Afternoon         Afternoon          5  21.147722  \n",
              "73815               Night             Night          5   2.005244  \n",
              "59891           Afternoon         Afternoon          6   6.199703  \n",
              "1360381         Afternoon         Afternoon          6  17.335134  \n",
              "\n",
              "[5 rows x 21 columns]"
            ],
            "text/html": [
              "\n",
              "  <div id=\"df-8d4e2c52-551c-49df-873d-49fe643e83a8\">\n",
              "    <div class=\"colab-df-container\">\n",
              "      <div>\n",
              "<style scoped>\n",
              "    .dataframe tbody tr th:only-of-type {\n",
              "        vertical-align: middle;\n",
              "    }\n",
              "\n",
              "    .dataframe tbody tr th {\n",
              "        vertical-align: top;\n",
              "    }\n",
              "\n",
              "    .dataframe thead th {\n",
              "        text-align: right;\n",
              "    }\n",
              "</style>\n",
              "<table border=\"1\" class=\"dataframe\">\n",
              "  <thead>\n",
              "    <tr style=\"text-align: right;\">\n",
              "      <th></th>\n",
              "      <th>level_0</th>\n",
              "      <th>index</th>\n",
              "      <th>id</th>\n",
              "      <th>vendor_id</th>\n",
              "      <th>pickup_datetime</th>\n",
              "      <th>dropoff_datetime</th>\n",
              "      <th>passenger_count</th>\n",
              "      <th>pickup_longitude</th>\n",
              "      <th>pickup_latitude</th>\n",
              "      <th>dropoff_longitude</th>\n",
              "      <th>...</th>\n",
              "      <th>store_and_fwd_flag</th>\n",
              "      <th>trip_duration</th>\n",
              "      <th>pickup_day</th>\n",
              "      <th>dropoff_day</th>\n",
              "      <th>pickup_hr</th>\n",
              "      <th>dropoff_hr</th>\n",
              "      <th>pickup_timeofday</th>\n",
              "      <th>dropoff_timeofday</th>\n",
              "      <th>trip_month</th>\n",
              "      <th>distance</th>\n",
              "    </tr>\n",
              "  </thead>\n",
              "  <tbody>\n",
              "    <tr>\n",
              "      <th>1234240</th>\n",
              "      <td>1234240</td>\n",
              "      <td>1234291</td>\n",
              "      <td>id1942836</td>\n",
              "      <td>2</td>\n",
              "      <td>2016-02-15 23:18:06</td>\n",
              "      <td>2016-02-16 23:17:58</td>\n",
              "      <td>2</td>\n",
              "      <td>-73.794525</td>\n",
              "      <td>40.644825</td>\n",
              "      <td>-73.991051</td>\n",
              "      <td>...</td>\n",
              "      <td>N</td>\n",
              "      <td>86392</td>\n",
              "      <td>Monday</td>\n",
              "      <td>Tuesday</td>\n",
              "      <td>23</td>\n",
              "      <td>23</td>\n",
              "      <td>Night</td>\n",
              "      <td>Night</td>\n",
              "      <td>2</td>\n",
              "      <td>20.666941</td>\n",
              "    </tr>\n",
              "    <tr>\n",
              "      <th>295376</th>\n",
              "      <td>295376</td>\n",
              "      <td>295382</td>\n",
              "      <td>id0593332</td>\n",
              "      <td>2</td>\n",
              "      <td>2016-05-31 13:00:39</td>\n",
              "      <td>2016-06-01 13:00:30</td>\n",
              "      <td>1</td>\n",
              "      <td>-73.781952</td>\n",
              "      <td>40.644688</td>\n",
              "      <td>-73.993874</td>\n",
              "      <td>...</td>\n",
              "      <td>N</td>\n",
              "      <td>86391</td>\n",
              "      <td>Tuesday</td>\n",
              "      <td>Wednesday</td>\n",
              "      <td>13</td>\n",
              "      <td>13</td>\n",
              "      <td>Afternoon</td>\n",
              "      <td>Afternoon</td>\n",
              "      <td>5</td>\n",
              "      <td>21.147722</td>\n",
              "    </tr>\n",
              "    <tr>\n",
              "      <th>73815</th>\n",
              "      <td>73815</td>\n",
              "      <td>73816</td>\n",
              "      <td>id0953667</td>\n",
              "      <td>2</td>\n",
              "      <td>2016-05-06 00:00:10</td>\n",
              "      <td>2016-05-07 00:00:00</td>\n",
              "      <td>1</td>\n",
              "      <td>-73.996010</td>\n",
              "      <td>40.753220</td>\n",
              "      <td>-73.979027</td>\n",
              "      <td>...</td>\n",
              "      <td>N</td>\n",
              "      <td>86390</td>\n",
              "      <td>Friday</td>\n",
              "      <td>Saturday</td>\n",
              "      <td>0</td>\n",
              "      <td>0</td>\n",
              "      <td>Night</td>\n",
              "      <td>Night</td>\n",
              "      <td>5</td>\n",
              "      <td>2.005244</td>\n",
              "    </tr>\n",
              "    <tr>\n",
              "      <th>59891</th>\n",
              "      <td>59891</td>\n",
              "      <td>59891</td>\n",
              "      <td>id2837671</td>\n",
              "      <td>2</td>\n",
              "      <td>2016-06-30 16:37:52</td>\n",
              "      <td>2016-07-01 16:37:39</td>\n",
              "      <td>1</td>\n",
              "      <td>-73.992279</td>\n",
              "      <td>40.749729</td>\n",
              "      <td>-73.962524</td>\n",
              "      <td>...</td>\n",
              "      <td>N</td>\n",
              "      <td>86387</td>\n",
              "      <td>Thursday</td>\n",
              "      <td>Friday</td>\n",
              "      <td>16</td>\n",
              "      <td>16</td>\n",
              "      <td>Afternoon</td>\n",
              "      <td>Afternoon</td>\n",
              "      <td>6</td>\n",
              "      <td>6.199703</td>\n",
              "    </tr>\n",
              "    <tr>\n",
              "      <th>1360381</th>\n",
              "      <td>1360381</td>\n",
              "      <td>1360439</td>\n",
              "      <td>id1358458</td>\n",
              "      <td>2</td>\n",
              "      <td>2016-06-23 16:01:45</td>\n",
              "      <td>2016-06-24 16:01:30</td>\n",
              "      <td>1</td>\n",
              "      <td>-73.782089</td>\n",
              "      <td>40.644806</td>\n",
              "      <td>-73.985016</td>\n",
              "      <td>...</td>\n",
              "      <td>N</td>\n",
              "      <td>86385</td>\n",
              "      <td>Thursday</td>\n",
              "      <td>Friday</td>\n",
              "      <td>16</td>\n",
              "      <td>16</td>\n",
              "      <td>Afternoon</td>\n",
              "      <td>Afternoon</td>\n",
              "      <td>6</td>\n",
              "      <td>17.335134</td>\n",
              "    </tr>\n",
              "  </tbody>\n",
              "</table>\n",
              "<p>5 rows × 21 columns</p>\n",
              "</div>\n",
              "      <button class=\"colab-df-convert\" onclick=\"convertToInteractive('df-8d4e2c52-551c-49df-873d-49fe643e83a8')\"\n",
              "              title=\"Convert this dataframe to an interactive table.\"\n",
              "              style=\"display:none;\">\n",
              "        \n",
              "  <svg xmlns=\"http://www.w3.org/2000/svg\" height=\"24px\"viewBox=\"0 0 24 24\"\n",
              "       width=\"24px\">\n",
              "    <path d=\"M0 0h24v24H0V0z\" fill=\"none\"/>\n",
              "    <path d=\"M18.56 5.44l.94 2.06.94-2.06 2.06-.94-2.06-.94-.94-2.06-.94 2.06-2.06.94zm-11 1L8.5 8.5l.94-2.06 2.06-.94-2.06-.94L8.5 2.5l-.94 2.06-2.06.94zm10 10l.94 2.06.94-2.06 2.06-.94-2.06-.94-.94-2.06-.94 2.06-2.06.94z\"/><path d=\"M17.41 7.96l-1.37-1.37c-.4-.4-.92-.59-1.43-.59-.52 0-1.04.2-1.43.59L10.3 9.45l-7.72 7.72c-.78.78-.78 2.05 0 2.83L4 21.41c.39.39.9.59 1.41.59.51 0 1.02-.2 1.41-.59l7.78-7.78 2.81-2.81c.8-.78.8-2.07 0-2.86zM5.41 20L4 18.59l7.72-7.72 1.47 1.35L5.41 20z\"/>\n",
              "  </svg>\n",
              "      </button>\n",
              "      \n",
              "  <style>\n",
              "    .colab-df-container {\n",
              "      display:flex;\n",
              "      flex-wrap:wrap;\n",
              "      gap: 12px;\n",
              "    }\n",
              "\n",
              "    .colab-df-convert {\n",
              "      background-color: #E8F0FE;\n",
              "      border: none;\n",
              "      border-radius: 50%;\n",
              "      cursor: pointer;\n",
              "      display: none;\n",
              "      fill: #1967D2;\n",
              "      height: 32px;\n",
              "      padding: 0 0 0 0;\n",
              "      width: 32px;\n",
              "    }\n",
              "\n",
              "    .colab-df-convert:hover {\n",
              "      background-color: #E2EBFA;\n",
              "      box-shadow: 0px 1px 2px rgba(60, 64, 67, 0.3), 0px 1px 3px 1px rgba(60, 64, 67, 0.15);\n",
              "      fill: #174EA6;\n",
              "    }\n",
              "\n",
              "    [theme=dark] .colab-df-convert {\n",
              "      background-color: #3B4455;\n",
              "      fill: #D2E3FC;\n",
              "    }\n",
              "\n",
              "    [theme=dark] .colab-df-convert:hover {\n",
              "      background-color: #434B5C;\n",
              "      box-shadow: 0px 1px 3px 1px rgba(0, 0, 0, 0.15);\n",
              "      filter: drop-shadow(0px 1px 2px rgba(0, 0, 0, 0.3));\n",
              "      fill: #FFFFFF;\n",
              "    }\n",
              "  </style>\n",
              "\n",
              "      <script>\n",
              "        const buttonEl =\n",
              "          document.querySelector('#df-8d4e2c52-551c-49df-873d-49fe643e83a8 button.colab-df-convert');\n",
              "        buttonEl.style.display =\n",
              "          google.colab.kernel.accessAllowed ? 'block' : 'none';\n",
              "\n",
              "        async function convertToInteractive(key) {\n",
              "          const element = document.querySelector('#df-8d4e2c52-551c-49df-873d-49fe643e83a8');\n",
              "          const dataTable =\n",
              "            await google.colab.kernel.invokeFunction('convertToInteractive',\n",
              "                                                     [key], {});\n",
              "          if (!dataTable) return;\n",
              "\n",
              "          const docLinkHtml = 'Like what you see? Visit the ' +\n",
              "            '<a target=\"_blank\" href=https://colab.research.google.com/notebooks/data_table.ipynb>data table notebook</a>'\n",
              "            + ' to learn more about interactive tables.';\n",
              "          element.innerHTML = '';\n",
              "          dataTable['output_type'] = 'display_data';\n",
              "          await google.colab.output.renderOutput(dataTable, element);\n",
              "          const docLink = document.createElement('div');\n",
              "          docLink.innerHTML = docLinkHtml;\n",
              "          element.appendChild(docLink);\n",
              "        }\n",
              "      </script>\n",
              "    </div>\n",
              "  </div>\n",
              "  "
            ]
          },
          "metadata": {},
          "execution_count": 41
        }
      ]
    },
    {
      "cell_type": "code",
      "source": [
        "#Checking the distribution of trip_duration again after removing the outliers.\n",
        "plt.figure(figsize=(10,5))\n",
        "plt.title(\"Distribution of Trip Duration\")\n",
        "sns.distplot(nyc_taxi_df['trip_duration'])\n",
        "plt.show()"
      ],
      "metadata": {
        "colab": {
          "base_uri": "https://localhost:8080/",
          "height": 351
        },
        "id": "KEw2NsmEpkXR",
        "outputId": "77f8a004-077c-41a0-83bc-d3ec84fc3527"
      },
      "execution_count": 42,
      "outputs": [
        {
          "output_type": "display_data",
          "data": {
            "text/plain": [
              "<Figure size 720x360 with 1 Axes>"
            ],
            "image/png": "[encoded data removed]"
          },
          "metadata": {
            "needs_background": "light"
          }
        }
      ]
    },
    {
      "cell_type": "markdown",
      "source": [
        "After removing the outlier skewness is improved still there is some skewness in the data which will improve after doing the log transformation of the data."
      ],
      "metadata": {
        "id": "bJqPDhecoAU6"
      }
    },
    {
      "cell_type": "markdown",
      "source": [
        "### **Exploring store_and_fwd_flag column**"
      ],
      "metadata": {
        "id": "lQWbOhtJT2qy"
      }
    },
    {
      "cell_type": "code",
      "source": [
        "#Checking the number of store and forward trips.\n",
        "nyc_taxi_df['store_and_fwd_flag'].value_counts()"
      ],
      "metadata": {
        "id": "7igS2n93G9Ej",
        "colab": {
          "base_uri": "https://localhost:8080/"
        },
        "outputId": "627e2050-ff58-4b39-b10a-f6c557889200"
      },
      "execution_count": 43,
      "outputs": [
        {
          "output_type": "execute_result",
          "data": {
            "text/plain": [
              "N    1450537\n",
              "Y       8042\n",
              "Name: store_and_fwd_flag, dtype: int64"
            ]
          },
          "metadata": {},
          "execution_count": 43
        }
      ]
    },
    {
      "cell_type": "markdown",
      "source": [
        "The above data shows that 8042 trips record was held in vehicle memory before sending to the vendor because the vehicle did not have a connection to the server. The major reason might be that the trip was done for outstation where network was not good or the driver doesn't have proper network strength to share the data real time to the server."
      ],
      "metadata": {
        "id": "4ORSINOFUWI5"
      }
    },
    {
      "cell_type": "code",
      "source": [
        "#Exploring the dataset more where store_and_fwd_flag is 'Y'.\n",
        "nyc_taxi_df[nyc_taxi_df['store_and_fwd_flag'] == 'Y']"
      ],
      "metadata": {
        "colab": {
          "base_uri": "https://localhost:8080/",
          "height": 661
        },
        "id": "7Ru8zEWZUEJV",
        "outputId": "a1214afb-aac0-448b-bda6-b732d03f976e"
      },
      "execution_count": 44,
      "outputs": [
        {
          "output_type": "execute_result",
          "data": {
            "text/plain": [
              "         level_0    index         id  vendor_id     pickup_datetime  \\\n",
              "348          348      348  id1633648          1 2016-06-20 14:19:16   \n",
              "491          491      491  id2042535          1 2016-02-12 12:36:38   \n",
              "610          610      610  id0909228          1 2016-05-08 15:02:28   \n",
              "774          774      774  id3697489          1 2016-01-13 13:53:29   \n",
              "846          846      846  id1026973          1 2016-06-25 21:53:30   \n",
              "...          ...      ...        ...        ...                 ...   \n",
              "1457491  1457491  1457556  id2229555          1 2016-01-22 19:05:50   \n",
              "1457605  1457605  1457670  id0510811          1 2016-04-07 21:14:30   \n",
              "1457832  1457832  1457897  id3209015          1 2016-03-20 18:49:55   \n",
              "1457995  1457995  1458060  id1371896          1 2016-03-28 11:45:49   \n",
              "1458351  1458351  1458416  id2463060          1 2016-01-04 14:35:34   \n",
              "\n",
              "           dropoff_datetime  passenger_count  pickup_longitude  \\\n",
              "348     2016-06-20 14:34:34                1        -73.977905   \n",
              "491     2016-02-12 12:47:07                1        -73.978981   \n",
              "610     2016-05-08 15:17:54                1        -73.988510   \n",
              "774     2016-01-13 14:08:21                1        -73.948982   \n",
              "846     2016-06-25 22:05:27                1        -73.982628   \n",
              "...                     ...              ...               ...   \n",
              "1457491 2016-01-22 19:27:09                1        -73.874535   \n",
              "1457605 2016-04-07 21:51:38                1        -73.781944   \n",
              "1457832 2016-03-20 19:09:25                1        -73.990097   \n",
              "1457995 2016-03-28 12:21:45                1        -73.971008   \n",
              "1458351 2016-01-04 14:45:26                1        -73.985489   \n",
              "\n",
              "         pickup_latitude  dropoff_longitude  ...  store_and_fwd_flag  \\\n",
              "348            40.754871         -73.952774  ...                   Y   \n",
              "491            40.756519         -73.992165  ...                   Y   \n",
              "610            40.742935         -74.010620  ...                   Y   \n",
              "774            40.781578         -73.982346  ...                   Y   \n",
              "846            40.762341         -73.995537  ...                   Y   \n",
              "...                  ...                ...  ...                 ...   \n",
              "1457491        40.774082         -73.925362  ...                   Y   \n",
              "1457605        40.644760         -73.976173  ...                   Y   \n",
              "1457832        40.714352         -74.002579  ...                   Y   \n",
              "1457995        40.759079         -74.010025  ...                   Y   \n",
              "1458351        40.753231         -73.982491  ...                   Y   \n",
              "\n",
              "        trip_duration  pickup_day dropoff_day pickup_hr  dropoff_hr  \\\n",
              "348               918      Monday      Monday        14          14   \n",
              "491               629      Friday      Friday        12          12   \n",
              "610               926      Sunday      Sunday        15          15   \n",
              "774               892   Wednesday   Wednesday        13          14   \n",
              "846               717    Saturday    Saturday        21          22   \n",
              "...               ...         ...         ...       ...         ...   \n",
              "1457491          1279      Friday      Friday        19          19   \n",
              "1457605          2228    Thursday    Thursday        21          21   \n",
              "1457832          1170      Sunday      Sunday        18          19   \n",
              "1457995          2156      Monday      Monday        11          12   \n",
              "1458351           592      Monday      Monday        14          14   \n",
              "\n",
              "         pickup_timeofday dropoff_timeofday trip_month   distance  \n",
              "348             Afternoon         Afternoon          6   2.585050  \n",
              "491             Afternoon         Afternoon          2   1.378288  \n",
              "610             Afternoon         Afternoon          5   2.853606  \n",
              "774             Afternoon         Afternoon          1   2.831724  \n",
              "846               Evening             Night          6   1.770384  \n",
              "...                   ...               ...        ...        ...  \n",
              "1457491           Evening           Evening          1   6.302747  \n",
              "1457605           Evening           Evening          4  16.667616  \n",
              "1457832           Evening           Evening          3   4.112272  \n",
              "1457995           Morning         Afternoon          3   5.377813  \n",
              "1458351         Afternoon         Afternoon          1   1.674752  \n",
              "\n",
              "[8042 rows x 21 columns]"
            ],
            "text/html": [
              "\n",
              "  <div id=\"df-096aac4b-9f56-4fdc-b333-caf5bcf4f55e\">\n",
              "    <div class=\"colab-df-container\">\n",
              "      <div>\n",
              "<style scoped>\n",
              "    .dataframe tbody tr th:only-of-type {\n",
              "        vertical-align: middle;\n",
              "    }\n",
              "\n",
              "    .dataframe tbody tr th {\n",
              "        vertical-align: top;\n",
              "    }\n",
              "\n",
              "    .dataframe thead th {\n",
              "        text-align: right;\n",
              "    }\n",
              "</style>\n",
              "<table border=\"1\" class=\"dataframe\">\n",
              "  <thead>\n",
              "    <tr style=\"text-align: right;\">\n",
              "      <th></th>\n",
              "      <th>level_0</th>\n",
              "      <th>index</th>\n",
              "      <th>id</th>\n",
              "      <th>vendor_id</th>\n",
              "      <th>pickup_datetime</th>\n",
              "      <th>dropoff_datetime</th>\n",
              "      <th>passenger_count</th>\n",
              "      <th>pickup_longitude</th>\n",
              "      <th>pickup_latitude</th>\n",
              "      <th>dropoff_longitude</th>\n",
              "      <th>...</th>\n",
              "      <th>store_and_fwd_flag</th>\n",
              "      <th>trip_duration</th>\n",
              "      <th>pickup_day</th>\n",
              "      <th>dropoff_day</th>\n",
              "      <th>pickup_hr</th>\n",
              "      <th>dropoff_hr</th>\n",
              "      <th>pickup_timeofday</th>\n",
              "      <th>dropoff_timeofday</th>\n",
              "      <th>trip_month</th>\n",
              "      <th>distance</th>\n",
              "    </tr>\n",
              "  </thead>\n",
              "  <tbody>\n",
              "    <tr>\n",
              "      <th>348</th>\n",
              "      <td>348</td>\n",
              "      <td>348</td>\n",
              "      <td>id1633648</td>\n",
              "      <td>1</td>\n",
              "      <td>2016-06-20 14:19:16</td>\n",
              "      <td>2016-06-20 14:34:34</td>\n",
              "      <td>1</td>\n",
              "      <td>-73.977905</td>\n",
              "      <td>40.754871</td>\n",
              "      <td>-73.952774</td>\n",
              "      <td>...</td>\n",
              "      <td>Y</td>\n",
              "      <td>918</td>\n",
              "      <td>Monday</td>\n",
              "      <td>Monday</td>\n",
              "      <td>14</td>\n",
              "      <td>14</td>\n",
              "      <td>Afternoon</td>\n",
              "      <td>Afternoon</td>\n",
              "      <td>6</td>\n",
              "      <td>2.585050</td>\n",
              "    </tr>\n",
              "    <tr>\n",
              "      <th>491</th>\n",
              "      <td>491</td>\n",
              "      <td>491</td>\n",
              "      <td>id2042535</td>\n",
              "      <td>1</td>\n",
              "      <td>2016-02-12 12:36:38</td>\n",
              "      <td>2016-02-12 12:47:07</td>\n",
              "      <td>1</td>\n",
              "      <td>-73.978981</td>\n",
              "      <td>40.756519</td>\n",
              "      <td>-73.992165</td>\n",
              "      <td>...</td>\n",
              "      <td>Y</td>\n",
              "      <td>629</td>\n",
              "      <td>Friday</td>\n",
              "      <td>Friday</td>\n",
              "      <td>12</td>\n",
              "      <td>12</td>\n",
              "      <td>Afternoon</td>\n",
              "      <td>Afternoon</td>\n",
              "      <td>2</td>\n",
              "      <td>1.378288</td>\n",
              "    </tr>\n",
              "    <tr>\n",
              "      <th>610</th>\n",
              "      <td>610</td>\n",
              "      <td>610</td>\n",
              "      <td>id0909228</td>\n",
              "      <td>1</td>\n",
              "      <td>2016-05-08 15:02:28</td>\n",
              "      <td>2016-05-08 15:17:54</td>\n",
              "      <td>1</td>\n",
              "      <td>-73.988510</td>\n",
              "      <td>40.742935</td>\n",
              "      <td>-74.010620</td>\n",
              "      <td>...</td>\n",
              "      <td>Y</td>\n",
              "      <td>926</td>\n",
              "      <td>Sunday</td>\n",
              "      <td>Sunday</td>\n",
              "      <td>15</td>\n",
              "      <td>15</td>\n",
              "      <td>Afternoon</td>\n",
              "      <td>Afternoon</td>\n",
              "      <td>5</td>\n",
              "      <td>2.853606</td>\n",
              "    </tr>\n",
              "    <tr>\n",
              "      <th>774</th>\n",
              "      <td>774</td>\n",
              "      <td>774</td>\n",
              "      <td>id3697489</td>\n",
              "      <td>1</td>\n",
              "      <td>2016-01-13 13:53:29</td>\n",
              "      <td>2016-01-13 14:08:21</td>\n",
              "      <td>1</td>\n",
              "      <td>-73.948982</td>\n",
              "      <td>40.781578</td>\n",
              "      <td>-73.982346</td>\n",
              "      <td>...</td>\n",
              "      <td>Y</td>\n",
              "      <td>892</td>\n",
              "      <td>Wednesday</td>\n",
              "      <td>Wednesday</td>\n",
              "      <td>13</td>\n",
              "      <td>14</td>\n",
              "      <td>Afternoon</td>\n",
              "      <td>Afternoon</td>\n",
              "      <td>1</td>\n",
              "      <td>2.831724</td>\n",
              "    </tr>\n",
              "    <tr>\n",
              "      <th>846</th>\n",
              "      <td>846</td>\n",
              "      <td>846</td>\n",
              "      <td>id1026973</td>\n",
              "      <td>1</td>\n",
              "      <td>2016-06-25 21:53:30</td>\n",
              "      <td>2016-06-25 22:05:27</td>\n",
              "      <td>1</td>\n",
              "      <td>-73.982628</td>\n",
              "      <td>40.762341</td>\n",
              "      <td>-73.995537</td>\n",
              "      <td>...</td>\n",
              "      <td>Y</td>\n",
              "      <td>717</td>\n",
              "      <td>Saturday</td>\n",
              "      <td>Saturday</td>\n",
              "      <td>21</td>\n",
              "      <td>22</td>\n",
              "      <td>Evening</td>\n",
              "      <td>Night</td>\n",
              "      <td>6</td>\n",
              "      <td>1.770384</td>\n",
              "    </tr>\n",
              "    <tr>\n",
              "      <th>...</th>\n",
              "      <td>...</td>\n",
              "      <td>...</td>\n",
              "      <td>...</td>\n",
              "      <td>...</td>\n",
              "      <td>...</td>\n",
              "      <td>...</td>\n",
              "      <td>...</td>\n",
              "      <td>...</td>\n",
              "      <td>...</td>\n",
              "      <td>...</td>\n",
              "      <td>...</td>\n",
              "      <td>...</td>\n",
              "      <td>...</td>\n",
              "      <td>...</td>\n",
              "      <td>...</td>\n",
              "      <td>...</td>\n",
              "      <td>...</td>\n",
              "      <td>...</td>\n",
              "      <td>...</td>\n",
              "      <td>...</td>\n",
              "      <td>...</td>\n",
              "    </tr>\n",
              "    <tr>\n",
              "      <th>1457491</th>\n",
              "      <td>1457491</td>\n",
              "      <td>1457556</td>\n",
              "      <td>id2229555</td>\n",
              "      <td>1</td>\n",
              "      <td>2016-01-22 19:05:50</td>\n",
              "      <td>2016-01-22 19:27:09</td>\n",
              "      <td>1</td>\n",
              "      <td>-73.874535</td>\n",
              "      <td>40.774082</td>\n",
              "      <td>-73.925362</td>\n",
              "      <td>...</td>\n",
              "      <td>Y</td>\n",
              "      <td>1279</td>\n",
              "      <td>Friday</td>\n",
              "      <td>Friday</td>\n",
              "      <td>19</td>\n",
              "      <td>19</td>\n",
              "      <td>Evening</td>\n",
              "      <td>Evening</td>\n",
              "      <td>1</td>\n",
              "      <td>6.302747</td>\n",
              "    </tr>\n",
              "    <tr>\n",
              "      <th>1457605</th>\n",
              "      <td>1457605</td>\n",
              "      <td>1457670</td>\n",
              "      <td>id0510811</td>\n",
              "      <td>1</td>\n",
              "      <td>2016-04-07 21:14:30</td>\n",
              "      <td>2016-04-07 21:51:38</td>\n",
              "      <td>1</td>\n",
              "      <td>-73.781944</td>\n",
              "      <td>40.644760</td>\n",
              "      <td>-73.976173</td>\n",
              "      <td>...</td>\n",
              "      <td>Y</td>\n",
              "      <td>2228</td>\n",
              "      <td>Thursday</td>\n",
              "      <td>Thursday</td>\n",
              "      <td>21</td>\n",
              "      <td>21</td>\n",
              "      <td>Evening</td>\n",
              "      <td>Evening</td>\n",
              "      <td>4</td>\n",
              "      <td>16.667616</td>\n",
              "    </tr>\n",
              "    <tr>\n",
              "      <th>1457832</th>\n",
              "      <td>1457832</td>\n",
              "      <td>1457897</td>\n",
              "      <td>id3209015</td>\n",
              "      <td>1</td>\n",
              "      <td>2016-03-20 18:49:55</td>\n",
              "      <td>2016-03-20 19:09:25</td>\n",
              "      <td>1</td>\n",
              "      <td>-73.990097</td>\n",
              "      <td>40.714352</td>\n",
              "      <td>-74.002579</td>\n",
              "      <td>...</td>\n",
              "      <td>Y</td>\n",
              "      <td>1170</td>\n",
              "      <td>Sunday</td>\n",
              "      <td>Sunday</td>\n",
              "      <td>18</td>\n",
              "      <td>19</td>\n",
              "      <td>Evening</td>\n",
              "      <td>Evening</td>\n",
              "      <td>3</td>\n",
              "      <td>4.112272</td>\n",
              "    </tr>\n",
              "    <tr>\n",
              "      <th>1457995</th>\n",
              "      <td>1457995</td>\n",
              "      <td>1458060</td>\n",
              "      <td>id1371896</td>\n",
              "      <td>1</td>\n",
              "      <td>2016-03-28 11:45:49</td>\n",
              "      <td>2016-03-28 12:21:45</td>\n",
              "      <td>1</td>\n",
              "      <td>-73.971008</td>\n",
              "      <td>40.759079</td>\n",
              "      <td>-74.010025</td>\n",
              "      <td>...</td>\n",
              "      <td>Y</td>\n",
              "      <td>2156</td>\n",
              "      <td>Monday</td>\n",
              "      <td>Monday</td>\n",
              "      <td>11</td>\n",
              "      <td>12</td>\n",
              "      <td>Morning</td>\n",
              "      <td>Afternoon</td>\n",
              "      <td>3</td>\n",
              "      <td>5.377813</td>\n",
              "    </tr>\n",
              "    <tr>\n",
              "      <th>1458351</th>\n",
              "      <td>1458351</td>\n",
              "      <td>1458416</td>\n",
              "      <td>id2463060</td>\n",
              "      <td>1</td>\n",
              "      <td>2016-01-04 14:35:34</td>\n",
              "      <td>2016-01-04 14:45:26</td>\n",
              "      <td>1</td>\n",
              "      <td>-73.985489</td>\n",
              "      <td>40.753231</td>\n",
              "      <td>-73.982491</td>\n",
              "      <td>...</td>\n",
              "      <td>Y</td>\n",
              "      <td>592</td>\n",
              "      <td>Monday</td>\n",
              "      <td>Monday</td>\n",
              "      <td>14</td>\n",
              "      <td>14</td>\n",
              "      <td>Afternoon</td>\n",
              "      <td>Afternoon</td>\n",
              "      <td>1</td>\n",
              "      <td>1.674752</td>\n",
              "    </tr>\n",
              "  </tbody>\n",
              "</table>\n",
              "<p>8042 rows × 21 columns</p>\n",
              "</div>\n",
              "      <button class=\"colab-df-convert\" onclick=\"convertToInteractive('df-096aac4b-9f56-4fdc-b333-caf5bcf4f55e')\"\n",
              "              title=\"Convert this dataframe to an interactive table.\"\n",
              "              style=\"display:none;\">\n",
              "        \n",
              "  <svg xmlns=\"http://www.w3.org/2000/svg\" height=\"24px\"viewBox=\"0 0 24 24\"\n",
              "       width=\"24px\">\n",
              "    <path d=\"M0 0h24v24H0V0z\" fill=\"none\"/>\n",
              "    <path d=\"M18.56 5.44l.94 2.06.94-2.06 2.06-.94-2.06-.94-.94-2.06-.94 2.06-2.06.94zm-11 1L8.5 8.5l.94-2.06 2.06-.94-2.06-.94L8.5 2.5l-.94 2.06-2.06.94zm10 10l.94 2.06.94-2.06 2.06-.94-2.06-.94-.94-2.06-.94 2.06-2.06.94z\"/><path d=\"M17.41 7.96l-1.37-1.37c-.4-.4-.92-.59-1.43-.59-.52 0-1.04.2-1.43.59L10.3 9.45l-7.72 7.72c-.78.78-.78 2.05 0 2.83L4 21.41c.39.39.9.59 1.41.59.51 0 1.02-.2 1.41-.59l7.78-7.78 2.81-2.81c.8-.78.8-2.07 0-2.86zM5.41 20L4 18.59l7.72-7.72 1.47 1.35L5.41 20z\"/>\n",
              "  </svg>\n",
              "      </button>\n",
              "      \n",
              "  <style>\n",
              "    .colab-df-container {\n",
              "      display:flex;\n",
              "      flex-wrap:wrap;\n",
              "      gap: 12px;\n",
              "    }\n",
              "\n",
              "    .colab-df-convert {\n",
              "      background-color: #E8F0FE;\n",
              "      border: none;\n",
              "      border-radius: 50%;\n",
              "      cursor: pointer;\n",
              "      display: none;\n",
              "      fill: #1967D2;\n",
              "      height: 32px;\n",
              "      padding: 0 0 0 0;\n",
              "      width: 32px;\n",
              "    }\n",
              "\n",
              "    .colab-df-convert:hover {\n",
              "      background-color: #E2EBFA;\n",
              "      box-shadow: 0px 1px 2px rgba(60, 64, 67, 0.3), 0px 1px 3px 1px rgba(60, 64, 67, 0.15);\n",
              "      fill: #174EA6;\n",
              "    }\n",
              "\n",
              "    [theme=dark] .colab-df-convert {\n",
              "      background-color: #3B4455;\n",
              "      fill: #D2E3FC;\n",
              "    }\n",
              "\n",
              "    [theme=dark] .colab-df-convert:hover {\n",
              "      background-color: #434B5C;\n",
              "      box-shadow: 0px 1px 3px 1px rgba(0, 0, 0, 0.15);\n",
              "      filter: drop-shadow(0px 1px 2px rgba(0, 0, 0, 0.3));\n",
              "      fill: #FFFFFF;\n",
              "    }\n",
              "  </style>\n",
              "\n",
              "      <script>\n",
              "        const buttonEl =\n",
              "          document.querySelector('#df-096aac4b-9f56-4fdc-b333-caf5bcf4f55e button.colab-df-convert');\n",
              "        buttonEl.style.display =\n",
              "          google.colab.kernel.accessAllowed ? 'block' : 'none';\n",
              "\n",
              "        async function convertToInteractive(key) {\n",
              "          const element = document.querySelector('#df-096aac4b-9f56-4fdc-b333-caf5bcf4f55e');\n",
              "          const dataTable =\n",
              "            await google.colab.kernel.invokeFunction('convertToInteractive',\n",
              "                                                     [key], {});\n",
              "          if (!dataTable) return;\n",
              "\n",
              "          const docLinkHtml = 'Like what you see? Visit the ' +\n",
              "            '<a target=\"_blank\" href=https://colab.research.google.com/notebooks/data_table.ipynb>data table notebook</a>'\n",
              "            + ' to learn more about interactive tables.';\n",
              "          element.innerHTML = '';\n",
              "          dataTable['output_type'] = 'display_data';\n",
              "          await google.colab.output.renderOutput(dataTable, element);\n",
              "          const docLink = document.createElement('div');\n",
              "          docLink.innerHTML = docLinkHtml;\n",
              "          element.appendChild(docLink);\n",
              "        }\n",
              "      </script>\n",
              "    </div>\n",
              "  </div>\n",
              "  "
            ]
          },
          "metadata": {},
          "execution_count": 44
        }
      ]
    },
    {
      "cell_type": "markdown",
      "source": [
        "In this data we can see that these trips are done by vendor 1 let's check if these trips are done by only vendor 1 or vendor 2 is also there."
      ],
      "metadata": {
        "id": "jnEGDOqhVsSP"
      }
    },
    {
      "cell_type": "code",
      "source": [
        "#Checking which vendor_id has store_and_fwd_flag as 'Y'\n",
        "nyc_taxi_df[nyc_taxi_df['store_and_fwd_flag'] == 'Y']['vendor_id'].value_counts()"
      ],
      "metadata": {
        "colab": {
          "base_uri": "https://localhost:8080/"
        },
        "id": "kIi1k2zwVNGL",
        "outputId": "1864cff8-7a98-42d4-f2e6-1fe37cf38e75"
      },
      "execution_count": 45,
      "outputs": [
        {
          "output_type": "execute_result",
          "data": {
            "text/plain": [
              "1    8042\n",
              "Name: vendor_id, dtype: int64"
            ]
          },
          "metadata": {},
          "execution_count": 45
        }
      ]
    },
    {
      "cell_type": "markdown",
      "source": [
        "From this we can infer that all the store_and_fwd_flag trips are done by vendor 1. So, vendor 1 has to work on its connectivity to the server so that it can share the data in realtime to the server."
      ],
      "metadata": {
        "id": "3uTT6llfWH2E"
      }
    },
    {
      "cell_type": "markdown",
      "source": [
        "## **Bivariate Analysis**"
      ],
      "metadata": {
        "id": "ZM-EjliviQhd"
      }
    },
    {
      "cell_type": "markdown",
      "source": [
        "We will first explore all the features with respect to Trip Duration as it is the target variable."
      ],
      "metadata": {
        "id": "XNmKy_ycgyj4"
      }
    },
    {
      "cell_type": "markdown",
      "source": [
        "### **Trip duration vs Vendor ID**"
      ],
      "metadata": {
        "id": "7hiJqKIqgc50"
      }
    },
    {
      "cell_type": "code",
      "source": [
        "#Plotting Trip Duration vs Vendor ID.\n",
        "trip_vendor_df = nyc_taxi_df.groupby(['vendor_id'])[['trip_duration']].mean().reset_index()\n",
        "plt.figure(figsize=(10,7))\n",
        "plt.title(\"Trip Duration vs Vendor ID\")\n",
        "sns.barplot(x = 'vendor_id', y = 'trip_duration', data = trip_vendor_df)\n",
        "plt.xlabel(\"vendor_id\")\n",
        "plt.ylabel(\"trip_duraiton\")\n",
        "plt.show()"
      ],
      "metadata": {
        "colab": {
          "base_uri": "https://localhost:8080/",
          "height": 459
        },
        "id": "FATYtGJEWGb7",
        "outputId": "bd288d46-ae91-4840-fa4a-15e17138c7b7"
      },
      "execution_count": 46,
      "outputs": [
        {
          "output_type": "display_data",
          "data": {
            "text/plain": [
              "<Figure size 720x504 with 1 Axes>"
            ],
            "image/png": "[encoded data removed]"
          },
          "metadata": {
            "needs_background": "light"
          }
        }
      ]
    },
    {
      "cell_type": "markdown",
      "source": [
        "The above graph shows that average trip duration for vendor 2 is higher than vendor 1 by approx 200sec. This means, on an average vendor 2 takes 200sec(or 3mins) more than vendor 1 per trip."
      ],
      "metadata": {
        "id": "Zu-9qajcir72"
      }
    },
    {
      "cell_type": "markdown",
      "source": [
        "### **Trip Duration per Hour**"
      ],
      "metadata": {
        "id": "S8AcKHRllDKT"
      }
    },
    {
      "cell_type": "code",
      "source": [
        "#Plotting Trip Duration per Hour.\n",
        "trip_hr_df = nyc_taxi_df.groupby(['pickup_hr'])[['trip_duration']].mean().reset_index()\n",
        "plt.figure(figsize=(10,7))\n",
        "plt.title(\"Trip Duration per Hour\")\n",
        "sns.pointplot(x = 'pickup_hr', y = 'trip_duration', data = trip_hr_df)\n",
        "plt.xlabel(\"pickup_hr\")\n",
        "plt.ylabel(\"trip_duraiton\")\n",
        "plt.show()"
      ],
      "metadata": {
        "colab": {
          "base_uri": "https://localhost:8080/",
          "height": 459
        },
        "id": "NgqZx99iidHz",
        "outputId": "c93d4ee6-c081-44ad-abbf-3692b885b619"
      },
      "execution_count": 51,
      "outputs": [
        {
          "output_type": "display_data",
          "data": {
            "text/plain": [
              "<Figure size 720x504 with 1 Axes>"
            ],
            "image/png": "[encoded data removed]"
          },
          "metadata": {
            "needs_background": "light"
          }
        }
      ]
    },
    {
      "cell_type": "markdown",
      "source": [
        "From the above graph we can infer that -\n",
        "* Average trip_duration is highest at 3:00 PM so, at this time the traffic is more.\n",
        "* At morning 6:00 AM there is lowest traffic and thus the trip_duration is also very less at that time. \n",
        "* Traffic starts increasing after 6:00AM as more and more people starts going out for work, schools, vacation etc.\n",
        "* Traffic starts decreasing after 3:00 PM as people starts coming to their home.\n",
        "* Between 7:00 PM to 9:00 PM and 12:00AM to 4:00AM there is average traffic."
      ],
      "metadata": {
        "id": "ZW827_4ymm3d"
      }
    },
    {
      "cell_type": "markdown",
      "source": [
        "### **Trip Duration per day of week**"
      ],
      "metadata": {
        "id": "xuGx1IGkoUi9"
      }
    },
    {
      "cell_type": "code",
      "source": [
        "#Plotting Trip Duration per Day of Week.\n",
        "trip_day_df = nyc_taxi_df.groupby(['pickup_day'])[['trip_duration']].mean().reset_index()\n",
        "plt.figure(figsize=(10,7))\n",
        "plt.title(\"Trip Duration per Day of Week\")\n",
        "sns.pointplot(x = 'pickup_day', y = 'trip_duration', data = trip_day_df)\n",
        "plt.xlabel(\"pickup_day\")\n",
        "plt.ylabel(\"trip_duraiton\")\n",
        "plt.show()"
      ],
      "metadata": {
        "colab": {
          "base_uri": "https://localhost:8080/",
          "height": 459
        },
        "id": "emXVFKmTluYM",
        "outputId": "9b41c165-4793-4f73-8a29-17a3e2ff9f5b"
      },
      "execution_count": 48,
      "outputs": [
        {
          "output_type": "display_data",
          "data": {
            "text/plain": [
              "<Figure size 720x504 with 1 Axes>"
            ],
            "image/png": "[encoded data removed]"
          },
          "metadata": {
            "needs_background": "light"
          }
        }
      ]
    },
    {
      "cell_type": "markdown",
      "source": [
        "The above graph shows that average trip duration is less on Saturday, Sunday and Monday and it increases drastically on Tuesday, Wednessday and Thursday having highest average trip duration on Thursday."
      ],
      "metadata": {
        "id": "D8kGpypfodWI"
      }
    },
    {
      "cell_type": "markdown",
      "source": [
        "### **Trip Duration per Time of day**"
      ],
      "metadata": {
        "id": "XROm2kYFpPE3"
      }
    },
    {
      "cell_type": "code",
      "source": [
        "#Plotting Trip Duration per Time of Week.\n",
        "trip_timeday_df = nyc_taxi_df.groupby(['pickup_timeofday'])[['trip_duration']].mean().reset_index()\n",
        "plt.figure(figsize=(10,7))\n",
        "plt.title(\"Trip Duration per Time of day\")\n",
        "sns.pointplot(x = 'pickup_timeofday', y = 'trip_duration', data = trip_timeday_df)\n",
        "plt.xlabel(\"pickup_timeofday\")\n",
        "plt.ylabel(\"trip_duraiton\")\n",
        "plt.show()"
      ],
      "metadata": {
        "colab": {
          "base_uri": "https://localhost:8080/",
          "height": 459
        },
        "id": "irYHb-6YoBLI",
        "outputId": "ac401609-4179-4cfa-d08b-6708d816f81d"
      },
      "execution_count": 49,
      "outputs": [
        {
          "output_type": "display_data",
          "data": {
            "text/plain": [
              "<Figure size 720x504 with 1 Axes>"
            ],
            "image/png": "[encoded data removed]"
          },
          "metadata": {
            "needs_background": "light"
          }
        }
      ]
    },
    {
      "cell_type": "markdown",
      "source": [
        "This graph also shows that the average time duration is most in the afternoon, lowest in the morning and average in the evening and night. "
      ],
      "metadata": {
        "id": "nanAeW2vp0Mz"
      }
    },
    {
      "cell_type": "markdown",
      "source": [
        "### **Trip Duration vs Distance**"
      ],
      "metadata": {
        "id": "fYkQXl9mSlNC"
      }
    },
    {
      "cell_type": "markdown",
      "source": [
        "This two columns has to be explored properly as there should be a linear relationship between Trip Duration and Distance."
      ],
      "metadata": {
        "id": "kGuahRDgv6NK"
      }
    },
    {
      "cell_type": "code",
      "source": [
        "#Function for plotting trip_duration vs Distance\n",
        "def trip_duration_vs_distance():\n",
        "  plt.figure(figsize=(10,7))\n",
        "  plt.title(\"Trip Duration vs Distance\")\n",
        "  sns.scatterplot(x = 'distance', y = 'trip_duration', data = nyc_taxi_df)\n",
        "  plt.xlabel(\"Distance in km\")\n",
        "  plt.ylabel(\"Trip Duration in sec\")\n",
        "  plt.show()"
      ],
      "metadata": {
        "id": "gMcJRAgit_jG"
      },
      "execution_count": 67,
      "outputs": []
    },
    {
      "cell_type": "code",
      "source": [
        "trip_duration_vs_distance()"
      ],
      "metadata": {
        "colab": {
          "base_uri": "https://localhost:8080/",
          "height": 458
        },
        "id": "E9VofeFMplpT",
        "outputId": "6e05a0f7-6d7e-4255-ed4a-6d0ae9a68fca"
      },
      "execution_count": 58,
      "outputs": [
        {
          "output_type": "display_data",
          "data": {
            "text/plain": [
              "<Figure size 720x504 with 1 Axes>"
            ],
            "image/png": "[encoded data removed]"
          },
          "metadata": {
            "needs_background": "light"
          }
        }
      ]
    },
    {
      "cell_type": "markdown",
      "source": [
        "From the above graph we can notice majorly two points - \n",
        "\n",
        "\n",
        "1.   There are some data where more than 200kms of distance are covered within a very short time which is not possible.\n",
        "2.   For some of the data distance covered is quite low still the trip duration is more than 20000 secs (>5hrs) this also shows that there is some ambiguity in the data.\n",
        "\n"
      ],
      "metadata": {
        "id": "0itlPC6_k56r"
      }
    },
    {
      "cell_type": "markdown",
      "source": [
        "Let's clear the above two outliers one by one. \n",
        "First we will be clearing the outliers in which quite a huge distance is covered in negligible timing. For doing this lets calculate the speed for each trip in km/hr."
      ],
      "metadata": {
        "id": "P7VhZjSsl6l8"
      }
    },
    {
      "cell_type": "code",
      "source": [
        "#Function for calculating the speed for each trip in km/hr\n",
        "def get_speed(dis_in_km, t_dur_in_sec):\n",
        "  sp = (dis_in_km / (t_dur_in_sec/3600))\n",
        "  return sp"
      ],
      "metadata": {
        "id": "g6krFlbfSTKG"
      },
      "execution_count": 59,
      "outputs": []
    },
    {
      "cell_type": "code",
      "source": [
        "#Adding a new column speed which contains the speed for each trip\n",
        "nyc_taxi_df['speed'] = nyc_taxi_df.apply(lambda x: get_speed(x['distance'],x['trip_duration']), axis=1)"
      ],
      "metadata": {
        "id": "LKkJP3g8nIYe"
      },
      "execution_count": 60,
      "outputs": []
    },
    {
      "cell_type": "code",
      "source": [
        "#Sorting the dataset in ascending order wrt speed and checking the head to see what is the max speed in the dataset.\n",
        "nyc_taxi_df.sort_values(by = 'speed', ascending = False).head()"
      ],
      "metadata": {
        "colab": {
          "base_uri": "https://localhost:8080/",
          "height": 386
        },
        "id": "K6DMojujnctZ",
        "outputId": "47f50252-2538-45b9-a5cc-ea8e98d7eb29"
      },
      "execution_count": 62,
      "outputs": [
        {
          "output_type": "execute_result",
          "data": {
            "text/plain": [
              "         level_0    index         id  vendor_id     pickup_datetime  \\\n",
              "1176287  1176287  1176337  id3619353          2 2016-02-13 20:28:30   \n",
              "910037    910037   910072  id1146400          1 2016-02-15 18:57:32   \n",
              "184923    184923   184925  id2306955          1 2016-05-07 18:58:53   \n",
              "974337    974337   974378  id1510552          2 2016-01-06 20:40:52   \n",
              "377058    377058   377068  id0116374          1 2016-04-02 20:33:19   \n",
              "\n",
              "           dropoff_datetime  passenger_count  pickup_longitude  \\\n",
              "1176287 2016-02-13 20:28:37                1        -73.936974   \n",
              "910037  2016-02-15 19:02:35                2        -73.989914   \n",
              "184923  2016-05-07 19:12:05                1        -72.809669   \n",
              "974337  2016-01-06 20:51:03                5        -71.799896   \n",
              "377058  2016-04-02 20:38:01                1        -74.007095   \n",
              "\n",
              "         pickup_latitude  dropoff_longitude  ...  trip_duration pickup_day  \\\n",
              "1176287        40.764610         -73.789848  ...              7   Saturday   \n",
              "910037         40.756634         -70.346077  ...            303     Monday   \n",
              "184923         51.881084         -73.987228  ...            792   Saturday   \n",
              "974337         35.081532         -79.352837  ...            611  Wednesday   \n",
              "377058         40.717113         -76.963242  ...            282   Saturday   \n",
              "\n",
              "         dropoff_day pickup_hr dropoff_hr  pickup_timeofday  \\\n",
              "1176287     Saturday        20         20           Evening   \n",
              "910037        Monday        18         19           Evening   \n",
              "184923      Saturday        18         19           Evening   \n",
              "974337     Wednesday        20         20           Evening   \n",
              "377058      Saturday        20         20           Evening   \n",
              "\n",
              "         dropoff_timeofday trip_month     distance        speed  \n",
              "1176287            Evening          2    18.043631  9279.581773  \n",
              "910037             Evening          2   578.579744  6874.214785  \n",
              "184923             Evening          5  1240.510256  5638.682980  \n",
              "974337             Evening          1   891.663777  5253.665463  \n",
              "377058             Evening          4   320.445202  4090.789812  \n",
              "\n",
              "[5 rows x 22 columns]"
            ],
            "text/html": [
              "\n",
              "  <div id=\"df-02dc649c-6f98-4ad4-b765-6787d5b39d5f\">\n",
              "    <div class=\"colab-df-container\">\n",
              "      <div>\n",
              "<style scoped>\n",
              "    .dataframe tbody tr th:only-of-type {\n",
              "        vertical-align: middle;\n",
              "    }\n",
              "\n",
              "    .dataframe tbody tr th {\n",
              "        vertical-align: top;\n",
              "    }\n",
              "\n",
              "    .dataframe thead th {\n",
              "        text-align: right;\n",
              "    }\n",
              "</style>\n",
              "<table border=\"1\" class=\"dataframe\">\n",
              "  <thead>\n",
              "    <tr style=\"text-align: right;\">\n",
              "      <th></th>\n",
              "      <th>level_0</th>\n",
              "      <th>index</th>\n",
              "      <th>id</th>\n",
              "      <th>vendor_id</th>\n",
              "      <th>pickup_datetime</th>\n",
              "      <th>dropoff_datetime</th>\n",
              "      <th>passenger_count</th>\n",
              "      <th>pickup_longitude</th>\n",
              "      <th>pickup_latitude</th>\n",
              "      <th>dropoff_longitude</th>\n",
              "      <th>...</th>\n",
              "      <th>trip_duration</th>\n",
              "      <th>pickup_day</th>\n",
              "      <th>dropoff_day</th>\n",
              "      <th>pickup_hr</th>\n",
              "      <th>dropoff_hr</th>\n",
              "      <th>pickup_timeofday</th>\n",
              "      <th>dropoff_timeofday</th>\n",
              "      <th>trip_month</th>\n",
              "      <th>distance</th>\n",
              "      <th>speed</th>\n",
              "    </tr>\n",
              "  </thead>\n",
              "  <tbody>\n",
              "    <tr>\n",
              "      <th>1176287</th>\n",
              "      <td>1176287</td>\n",
              "      <td>1176337</td>\n",
              "      <td>id3619353</td>\n",
              "      <td>2</td>\n",
              "      <td>2016-02-13 20:28:30</td>\n",
              "      <td>2016-02-13 20:28:37</td>\n",
              "      <td>1</td>\n",
              "      <td>-73.936974</td>\n",
              "      <td>40.764610</td>\n",
              "      <td>-73.789848</td>\n",
              "      <td>...</td>\n",
              "      <td>7</td>\n",
              "      <td>Saturday</td>\n",
              "      <td>Saturday</td>\n",
              "      <td>20</td>\n",
              "      <td>20</td>\n",
              "      <td>Evening</td>\n",
              "      <td>Evening</td>\n",
              "      <td>2</td>\n",
              "      <td>18.043631</td>\n",
              "      <td>9279.581773</td>\n",
              "    </tr>\n",
              "    <tr>\n",
              "      <th>910037</th>\n",
              "      <td>910037</td>\n",
              "      <td>910072</td>\n",
              "      <td>id1146400</td>\n",
              "      <td>1</td>\n",
              "      <td>2016-02-15 18:57:32</td>\n",
              "      <td>2016-02-15 19:02:35</td>\n",
              "      <td>2</td>\n",
              "      <td>-73.989914</td>\n",
              "      <td>40.756634</td>\n",
              "      <td>-70.346077</td>\n",
              "      <td>...</td>\n",
              "      <td>303</td>\n",
              "      <td>Monday</td>\n",
              "      <td>Monday</td>\n",
              "      <td>18</td>\n",
              "      <td>19</td>\n",
              "      <td>Evening</td>\n",
              "      <td>Evening</td>\n",
              "      <td>2</td>\n",
              "      <td>578.579744</td>\n",
              "      <td>6874.214785</td>\n",
              "    </tr>\n",
              "    <tr>\n",
              "      <th>184923</th>\n",
              "      <td>184923</td>\n",
              "      <td>184925</td>\n",
              "      <td>id2306955</td>\n",
              "      <td>1</td>\n",
              "      <td>2016-05-07 18:58:53</td>\n",
              "      <td>2016-05-07 19:12:05</td>\n",
              "      <td>1</td>\n",
              "      <td>-72.809669</td>\n",
              "      <td>51.881084</td>\n",
              "      <td>-73.987228</td>\n",
              "      <td>...</td>\n",
              "      <td>792</td>\n",
              "      <td>Saturday</td>\n",
              "      <td>Saturday</td>\n",
              "      <td>18</td>\n",
              "      <td>19</td>\n",
              "      <td>Evening</td>\n",
              "      <td>Evening</td>\n",
              "      <td>5</td>\n",
              "      <td>1240.510256</td>\n",
              "      <td>5638.682980</td>\n",
              "    </tr>\n",
              "    <tr>\n",
              "      <th>974337</th>\n",
              "      <td>974337</td>\n",
              "      <td>974378</td>\n",
              "      <td>id1510552</td>\n",
              "      <td>2</td>\n",
              "      <td>2016-01-06 20:40:52</td>\n",
              "      <td>2016-01-06 20:51:03</td>\n",
              "      <td>5</td>\n",
              "      <td>-71.799896</td>\n",
              "      <td>35.081532</td>\n",
              "      <td>-79.352837</td>\n",
              "      <td>...</td>\n",
              "      <td>611</td>\n",
              "      <td>Wednesday</td>\n",
              "      <td>Wednesday</td>\n",
              "      <td>20</td>\n",
              "      <td>20</td>\n",
              "      <td>Evening</td>\n",
              "      <td>Evening</td>\n",
              "      <td>1</td>\n",
              "      <td>891.663777</td>\n",
              "      <td>5253.665463</td>\n",
              "    </tr>\n",
              "    <tr>\n",
              "      <th>377058</th>\n",
              "      <td>377058</td>\n",
              "      <td>377068</td>\n",
              "      <td>id0116374</td>\n",
              "      <td>1</td>\n",
              "      <td>2016-04-02 20:33:19</td>\n",
              "      <td>2016-04-02 20:38:01</td>\n",
              "      <td>1</td>\n",
              "      <td>-74.007095</td>\n",
              "      <td>40.717113</td>\n",
              "      <td>-76.963242</td>\n",
              "      <td>...</td>\n",
              "      <td>282</td>\n",
              "      <td>Saturday</td>\n",
              "      <td>Saturday</td>\n",
              "      <td>20</td>\n",
              "      <td>20</td>\n",
              "      <td>Evening</td>\n",
              "      <td>Evening</td>\n",
              "      <td>4</td>\n",
              "      <td>320.445202</td>\n",
              "      <td>4090.789812</td>\n",
              "    </tr>\n",
              "  </tbody>\n",
              "</table>\n",
              "<p>5 rows × 22 columns</p>\n",
              "</div>\n",
              "      <button class=\"colab-df-convert\" onclick=\"convertToInteractive('df-02dc649c-6f98-4ad4-b765-6787d5b39d5f')\"\n",
              "              title=\"Convert this dataframe to an interactive table.\"\n",
              "              style=\"display:none;\">\n",
              "        \n",
              "  <svg xmlns=\"http://www.w3.org/2000/svg\" height=\"24px\"viewBox=\"0 0 24 24\"\n",
              "       width=\"24px\">\n",
              "    <path d=\"M0 0h24v24H0V0z\" fill=\"none\"/>\n",
              "    <path d=\"M18.56 5.44l.94 2.06.94-2.06 2.06-.94-2.06-.94-.94-2.06-.94 2.06-2.06.94zm-11 1L8.5 8.5l.94-2.06 2.06-.94-2.06-.94L8.5 2.5l-.94 2.06-2.06.94zm10 10l.94 2.06.94-2.06 2.06-.94-2.06-.94-.94-2.06-.94 2.06-2.06.94z\"/><path d=\"M17.41 7.96l-1.37-1.37c-.4-.4-.92-.59-1.43-.59-.52 0-1.04.2-1.43.59L10.3 9.45l-7.72 7.72c-.78.78-.78 2.05 0 2.83L4 21.41c.39.39.9.59 1.41.59.51 0 1.02-.2 1.41-.59l7.78-7.78 2.81-2.81c.8-.78.8-2.07 0-2.86zM5.41 20L4 18.59l7.72-7.72 1.47 1.35L5.41 20z\"/>\n",
              "  </svg>\n",
              "      </button>\n",
              "      \n",
              "  <style>\n",
              "    .colab-df-container {\n",
              "      display:flex;\n",
              "      flex-wrap:wrap;\n",
              "      gap: 12px;\n",
              "    }\n",
              "\n",
              "    .colab-df-convert {\n",
              "      background-color: #E8F0FE;\n",
              "      border: none;\n",
              "      border-radius: 50%;\n",
              "      cursor: pointer;\n",
              "      display: none;\n",
              "      fill: #1967D2;\n",
              "      height: 32px;\n",
              "      padding: 0 0 0 0;\n",
              "      width: 32px;\n",
              "    }\n",
              "\n",
              "    .colab-df-convert:hover {\n",
              "      background-color: #E2EBFA;\n",
              "      box-shadow: 0px 1px 2px rgba(60, 64, 67, 0.3), 0px 1px 3px 1px rgba(60, 64, 67, 0.15);\n",
              "      fill: #174EA6;\n",
              "    }\n",
              "\n",
              "    [theme=dark] .colab-df-convert {\n",
              "      background-color: #3B4455;\n",
              "      fill: #D2E3FC;\n",
              "    }\n",
              "\n",
              "    [theme=dark] .colab-df-convert:hover {\n",
              "      background-color: #434B5C;\n",
              "      box-shadow: 0px 1px 3px 1px rgba(0, 0, 0, 0.15);\n",
              "      filter: drop-shadow(0px 1px 2px rgba(0, 0, 0, 0.3));\n",
              "      fill: #FFFFFF;\n",
              "    }\n",
              "  </style>\n",
              "\n",
              "      <script>\n",
              "        const buttonEl =\n",
              "          document.querySelector('#df-02dc649c-6f98-4ad4-b765-6787d5b39d5f button.colab-df-convert');\n",
              "        buttonEl.style.display =\n",
              "          google.colab.kernel.accessAllowed ? 'block' : 'none';\n",
              "\n",
              "        async function convertToInteractive(key) {\n",
              "          const element = document.querySelector('#df-02dc649c-6f98-4ad4-b765-6787d5b39d5f');\n",
              "          const dataTable =\n",
              "            await google.colab.kernel.invokeFunction('convertToInteractive',\n",
              "                                                     [key], {});\n",
              "          if (!dataTable) return;\n",
              "\n",
              "          const docLinkHtml = 'Like what you see? Visit the ' +\n",
              "            '<a target=\"_blank\" href=https://colab.research.google.com/notebooks/data_table.ipynb>data table notebook</a>'\n",
              "            + ' to learn more about interactive tables.';\n",
              "          element.innerHTML = '';\n",
              "          dataTable['output_type'] = 'display_data';\n",
              "          await google.colab.output.renderOutput(dataTable, element);\n",
              "          const docLink = document.createElement('div');\n",
              "          docLink.innerHTML = docLinkHtml;\n",
              "          element.appendChild(docLink);\n",
              "        }\n",
              "      </script>\n",
              "    </div>\n",
              "  </div>\n",
              "  "
            ]
          },
          "metadata": {},
          "execution_count": 62
        }
      ]
    },
    {
      "cell_type": "markdown",
      "source": [
        "From the data we can see that there are entries with speed more than 1000km/hr also which clearly shows that these are wrong entries as the max speed allowed in nyc is 55miles/hr (= 88.5km/hr).\n",
        "This speed data is taken from following site - \n",
        "https://www.newyorksafetycouncil.com/articles/speed-limits-in-new-york/\n",
        "\n",
        "In this article it is mentioned - \n",
        "You must obey the posted speed limit or, if no limit is posted, drive no faster than 55 mph. Be aware, however, that some cities in New York have speed limits lower than 55 mph that may not be posted. For example, the speed limit is 25 mph in New York City unless another limit is posted."
      ],
      "metadata": {
        "id": "IWit-dqao8Za"
      }
    },
    {
      "cell_type": "markdown",
      "source": [
        "For our dataset let's keep only those data where the speed is max 100km/hr."
      ],
      "metadata": {
        "id": "URbXKdXoqG2z"
      }
    },
    {
      "cell_type": "code",
      "source": [
        "#Taking only those entries where the speed <= 100km/hr.\n",
        "nyc_taxi_df = nyc_taxi_df[nyc_taxi_df['speed'] <= 100.0]\n",
        "nyc_taxi_df.shape"
      ],
      "metadata": {
        "colab": {
          "base_uri": "https://localhost:8080/"
        },
        "id": "9io95vCwn2l7",
        "outputId": "2a785ea9-8a8c-472d-a8cb-a89f820cb4b9"
      },
      "execution_count": 79,
      "outputs": [
        {
          "output_type": "execute_result",
          "data": {
            "text/plain": [
              "(1458406, 22)"
            ]
          },
          "metadata": {},
          "execution_count": 79
        }
      ]
    },
    {
      "cell_type": "markdown",
      "source": [
        "Plotting the scatter plot again for trip_duration vs distance afer clearing the outliers."
      ],
      "metadata": {
        "id": "64XYDwtrt2W2"
      }
    },
    {
      "cell_type": "code",
      "source": [
        "trip_duration_vs_distance()"
      ],
      "metadata": {
        "colab": {
          "base_uri": "https://localhost:8080/",
          "height": 458
        },
        "id": "KfEP4SFNt8uW",
        "outputId": "0c9e791a-0cf7-462f-e61f-96b7ef0b10fd"
      },
      "execution_count": 68,
      "outputs": [
        {
          "output_type": "display_data",
          "data": {
            "text/plain": [
              "<Figure size 720x504 with 1 Axes>"
            ],
            "image/png": "[encoded data removed]"
          },
          "metadata": {
            "needs_background": "light"
          }
        }
      ]
    },
    {
      "cell_type": "markdown",
      "source": [
        "Now lets take the case where distance covered is quite less but the trip duration is considerably high."
      ],
      "metadata": {
        "id": "8ZdgPYrswKfb"
      }
    },
    {
      "cell_type": "markdown",
      "source": [
        "First let's remove those outliers where distance covered is 0.0km still trip_duration is more than 1 min or 60secs."
      ],
      "metadata": {
        "id": "DQE5yOV6wcjH"
      }
    },
    {
      "cell_type": "code",
      "source": [
        "#Removing the entries where distance is 0.0km and duration is more than 1 min. \n",
        "nyc_taxi_df = nyc_taxi_df[~((nyc_taxi_df['distance'] == 0.0) & (nyc_taxi_df['trip_duration']>=60))]\n",
        "nyc_taxi_df.shape"
      ],
      "metadata": {
        "colab": {
          "base_uri": "https://localhost:8080/"
        },
        "id": "SsJ5HaMsuR4x",
        "outputId": "cdce077e-f778-4fd4-fdf0-02cbfafaa50f"
      },
      "execution_count": 80,
      "outputs": [
        {
          "output_type": "execute_result",
          "data": {
            "text/plain": [
              "(1454186, 22)"
            ]
          },
          "metadata": {},
          "execution_count": 80
        }
      ]
    },
    {
      "cell_type": "markdown",
      "source": [
        "Also, we will remove the entries where the distance is less than 1km but trip duration is more than one hour as it is quite obvious that in 1hr the distance covered will be surely more than 1km."
      ],
      "metadata": {
        "id": "PvnvFaVq01Ot"
      }
    },
    {
      "cell_type": "code",
      "source": [
        "#Removing the entries where distance is less than 1.0km and duration is more than 1hr (or 3600 sec). \n",
        "nyc_taxi_df = nyc_taxi_df[~((nyc_taxi_df['distance'] <= 1.0) & (nyc_taxi_df['trip_duration']>=3600))]\n",
        "nyc_taxi_df.shape"
      ],
      "metadata": {
        "colab": {
          "base_uri": "https://localhost:8080/"
        },
        "id": "xk_XCk3W1He7",
        "outputId": "98440709-3bf7-4b02-ced2-099d7352e9a6"
      },
      "execution_count": 82,
      "outputs": [
        {
          "output_type": "execute_result",
          "data": {
            "text/plain": [
              "(1453742, 22)"
            ]
          },
          "metadata": {},
          "execution_count": 82
        }
      ]
    },
    {
      "cell_type": "code",
      "source": [
        "trip_duration_vs_distance()"
      ],
      "metadata": {
        "colab": {
          "base_uri": "https://localhost:8080/",
          "height": 458
        },
        "id": "zSWuoiobxUaE",
        "outputId": "80f8fb20-4a7f-49c4-89d0-6099b73253f9"
      },
      "execution_count": 83,
      "outputs": [
        {
          "output_type": "display_data",
          "data": {
            "text/plain": [
              "<Figure size 720x504 with 1 Axes>"
            ],
            "image/png": "[encoded data removed]"
          },
          "metadata": {
            "needs_background": "light"
          }
        }
      ]
    },
    {
      "cell_type": "code",
      "source": [],
      "metadata": {
        "id": "nldmbW4W3Cvo"
      },
      "execution_count": null,
      "outputs": []
    }
  ]
}